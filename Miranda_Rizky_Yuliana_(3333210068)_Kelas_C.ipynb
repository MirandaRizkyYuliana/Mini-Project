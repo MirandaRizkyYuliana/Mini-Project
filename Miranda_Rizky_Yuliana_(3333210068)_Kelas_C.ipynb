{
  "cells": [
    {
      "cell_type": "markdown",
      "source": [
        "## 1. Data Preprocessing"
      ],
      "metadata": {
        "id": "TFN6Of7TWe57"
      }
    },
    {
      "cell_type": "markdown",
      "source": [
        "## Overview\n",
        "\n",
        "Practice for Data Analytic Class in Merdeka Belajar \n",
        "\n",
        "## Objecive\n",
        "\n",
        "• Retrieving data \n",
        "\n",
        "• Cleansing, integrating\n",
        "dan transforming data\n",
        "\n",
        "• Data Preparation\n",
        "\n",
        "• Exploratory Data\n",
        "Analysis\n",
        "\n",
        "• Data Visualization\n"
      ],
      "metadata": {
        "id": "cvS878SumIw0"
      }
    },
    {
      "cell_type": "markdown",
      "source": [
        "**About Dataset**\n",
        "\n",
        "This is a Diabetes Dataset 2019 created by Neha Prerna Tigga and Dr. Shruti Garg of the Department of Computer Science and Engineering, BIT Mesra, Ranchi-835215 for research, non-commercial purposes only. An article is also published implementing this dataset. For more information and citation of this dataset please refer:\n",
        "\n",
        "Tigga, N. P., & Garg, S. (2020). Prediction of Type 2 Diabetes using Machine Learning Classification Methods. Procedia Computer Science, 167, 706-716. DOI: https://doi.org/10.1016/j.procs.2020.03.336\n",
        "\n",
        "The dataset includes Age, Gender, Family Diabetes, High BP, Physical Activity, BMI, Smoking, Alcohol, Sleep, SoundSleep, Regular Medicine, JunkFood,  Stress, BPLevel, Pregancies, Pdiabetes, UriationFreq, and Diabetes.\n",
        "\n",
        "Dataset description & download https://www.kaggle.com/datasets/tigganeha4/diabetes-dataset-2019"
      ],
      "metadata": {
        "id": "0EcHLMXgZr5f"
      }
    },
    {
      "cell_type": "markdown",
      "source": [
        "**1.1 Importing Library**"
      ],
      "metadata": {
        "id": "IADUBKDnWr3s"
      }
    },
    {
      "cell_type": "code",
      "execution_count": 1,
      "metadata": {
        "id": "CvNhhTZtGoGV"
      },
      "outputs": [],
      "source": [
        "import pandas as pd\n",
        "import numpy as np\n",
        "import matplotlib.pyplot as plt\n",
        "from sklearn.preprocessing import LabelEncoder\n",
        "\n",
        "from sklearn.model_selection import train_test_split\n",
        "from sklearn.model_selection import cross_val_score\n",
        "from sklearn.model_selection import KFold\n",
        "from sklearn.metrics import accuracy_score"
      ]
    },
    {
      "cell_type": "markdown",
      "source": [
        "**1.2 Importing Dataset**"
      ],
      "metadata": {
        "id": "Ydt444CDW46r"
      }
    },
    {
      "cell_type": "code",
      "execution_count": null,
      "metadata": {
        "id": "SpkeEnsdTfH3"
      },
      "outputs": [],
      "source": []
    },
    {
      "cell_type": "code",
      "source": [
        "import pandas as pd\n",
        "dataset = pd.read_csv('diabetes_dataset__2019.csv')\n",
        "dataset"
      ],
      "metadata": {
        "colab": {
          "base_uri": "https://localhost:8080/",
          "height": 748
        },
        "id": "N0fME_84YBzx",
        "outputId": "473729be-702d-4ea9-efe8-cce44a163451"
      },
      "execution_count": 2,
      "outputs": [
        {
          "output_type": "execute_result",
          "data": {
            "text/plain": [
              "              Age  Gender Family_Diabetes highBP      PhysicallyActive   BMI  \\\n",
              "0           50-59    Male              no    yes        one hr or more  39.0   \n",
              "1           50-59    Male              no    yes  less than half an hr  28.0   \n",
              "2           40-49    Male              no     no        one hr or more  24.0   \n",
              "3           50-59    Male              no     no        one hr or more  23.0   \n",
              "4           40-49    Male              no     no  less than half an hr  27.0   \n",
              "..            ...     ...             ...    ...                   ...   ...   \n",
              "947  less than 40    Male             yes     no  more than half an hr  25.0   \n",
              "948   60 or older    Male             yes    yes  more than half an hr  27.0   \n",
              "949   60 or older    Male              no    yes                  none  23.0   \n",
              "950   60 or older    Male              no    yes  less than half an hr  27.0   \n",
              "951   60 or older  Female             yes    yes        one hr or more  30.0   \n",
              "\n",
              "    Smoking Alcohol  Sleep  SoundSleep RegularMedicine      JunkFood  \\\n",
              "0        no      no      8           6              no  occasionally   \n",
              "1        no      no      8           6             yes    very often   \n",
              "2        no      no      6           6              no  occasionally   \n",
              "3        no      no      8           6              no  occasionally   \n",
              "4        no      no      8           8              no  occasionally   \n",
              "..      ...     ...    ...         ...             ...           ...   \n",
              "947      no      no      8           6              no         often   \n",
              "948      no      no      6           5             yes  occasionally   \n",
              "949      no      no      6           5             yes  occasionally   \n",
              "950      no     yes      6           5             yes  occasionally   \n",
              "951      no      no      7           4             yes  occasionally   \n",
              "\n",
              "         Stress BPLevel  Pregancies Pdiabetes UriationFreq Diabetic  \n",
              "0     sometimes    high         0.0         0     not much       no  \n",
              "1     sometimes  normal         0.0         0     not much       no  \n",
              "2     sometimes  normal         0.0         0     not much       no  \n",
              "3     sometimes  normal         0.0         0     not much       no  \n",
              "4     sometimes  normal         0.0         0     not much       no  \n",
              "..          ...     ...         ...       ...          ...      ...  \n",
              "947   sometimes  normal         0.0         0     not much      yes  \n",
              "948   sometimes    high         0.0         0  quite often      yes  \n",
              "949   sometimes    high         0.0         0     not much       no  \n",
              "950  very often    high         0.0         0     not much       no  \n",
              "951   sometimes    high         2.0         0  quite often      yes  \n",
              "\n",
              "[952 rows x 18 columns]"
            ],
            "text/html": [
              "\n",
              "  <div id=\"df-32453c9b-c117-4556-871c-70aba699a751\">\n",
              "    <div class=\"colab-df-container\">\n",
              "      <div>\n",
              "<style scoped>\n",
              "    .dataframe tbody tr th:only-of-type {\n",
              "        vertical-align: middle;\n",
              "    }\n",
              "\n",
              "    .dataframe tbody tr th {\n",
              "        vertical-align: top;\n",
              "    }\n",
              "\n",
              "    .dataframe thead th {\n",
              "        text-align: right;\n",
              "    }\n",
              "</style>\n",
              "<table border=\"1\" class=\"dataframe\">\n",
              "  <thead>\n",
              "    <tr style=\"text-align: right;\">\n",
              "      <th></th>\n",
              "      <th>Age</th>\n",
              "      <th>Gender</th>\n",
              "      <th>Family_Diabetes</th>\n",
              "      <th>highBP</th>\n",
              "      <th>PhysicallyActive</th>\n",
              "      <th>BMI</th>\n",
              "      <th>Smoking</th>\n",
              "      <th>Alcohol</th>\n",
              "      <th>Sleep</th>\n",
              "      <th>SoundSleep</th>\n",
              "      <th>RegularMedicine</th>\n",
              "      <th>JunkFood</th>\n",
              "      <th>Stress</th>\n",
              "      <th>BPLevel</th>\n",
              "      <th>Pregancies</th>\n",
              "      <th>Pdiabetes</th>\n",
              "      <th>UriationFreq</th>\n",
              "      <th>Diabetic</th>\n",
              "    </tr>\n",
              "  </thead>\n",
              "  <tbody>\n",
              "    <tr>\n",
              "      <th>0</th>\n",
              "      <td>50-59</td>\n",
              "      <td>Male</td>\n",
              "      <td>no</td>\n",
              "      <td>yes</td>\n",
              "      <td>one hr or more</td>\n",
              "      <td>39.0</td>\n",
              "      <td>no</td>\n",
              "      <td>no</td>\n",
              "      <td>8</td>\n",
              "      <td>6</td>\n",
              "      <td>no</td>\n",
              "      <td>occasionally</td>\n",
              "      <td>sometimes</td>\n",
              "      <td>high</td>\n",
              "      <td>0.0</td>\n",
              "      <td>0</td>\n",
              "      <td>not much</td>\n",
              "      <td>no</td>\n",
              "    </tr>\n",
              "    <tr>\n",
              "      <th>1</th>\n",
              "      <td>50-59</td>\n",
              "      <td>Male</td>\n",
              "      <td>no</td>\n",
              "      <td>yes</td>\n",
              "      <td>less than half an hr</td>\n",
              "      <td>28.0</td>\n",
              "      <td>no</td>\n",
              "      <td>no</td>\n",
              "      <td>8</td>\n",
              "      <td>6</td>\n",
              "      <td>yes</td>\n",
              "      <td>very often</td>\n",
              "      <td>sometimes</td>\n",
              "      <td>normal</td>\n",
              "      <td>0.0</td>\n",
              "      <td>0</td>\n",
              "      <td>not much</td>\n",
              "      <td>no</td>\n",
              "    </tr>\n",
              "    <tr>\n",
              "      <th>2</th>\n",
              "      <td>40-49</td>\n",
              "      <td>Male</td>\n",
              "      <td>no</td>\n",
              "      <td>no</td>\n",
              "      <td>one hr or more</td>\n",
              "      <td>24.0</td>\n",
              "      <td>no</td>\n",
              "      <td>no</td>\n",
              "      <td>6</td>\n",
              "      <td>6</td>\n",
              "      <td>no</td>\n",
              "      <td>occasionally</td>\n",
              "      <td>sometimes</td>\n",
              "      <td>normal</td>\n",
              "      <td>0.0</td>\n",
              "      <td>0</td>\n",
              "      <td>not much</td>\n",
              "      <td>no</td>\n",
              "    </tr>\n",
              "    <tr>\n",
              "      <th>3</th>\n",
              "      <td>50-59</td>\n",
              "      <td>Male</td>\n",
              "      <td>no</td>\n",
              "      <td>no</td>\n",
              "      <td>one hr or more</td>\n",
              "      <td>23.0</td>\n",
              "      <td>no</td>\n",
              "      <td>no</td>\n",
              "      <td>8</td>\n",
              "      <td>6</td>\n",
              "      <td>no</td>\n",
              "      <td>occasionally</td>\n",
              "      <td>sometimes</td>\n",
              "      <td>normal</td>\n",
              "      <td>0.0</td>\n",
              "      <td>0</td>\n",
              "      <td>not much</td>\n",
              "      <td>no</td>\n",
              "    </tr>\n",
              "    <tr>\n",
              "      <th>4</th>\n",
              "      <td>40-49</td>\n",
              "      <td>Male</td>\n",
              "      <td>no</td>\n",
              "      <td>no</td>\n",
              "      <td>less than half an hr</td>\n",
              "      <td>27.0</td>\n",
              "      <td>no</td>\n",
              "      <td>no</td>\n",
              "      <td>8</td>\n",
              "      <td>8</td>\n",
              "      <td>no</td>\n",
              "      <td>occasionally</td>\n",
              "      <td>sometimes</td>\n",
              "      <td>normal</td>\n",
              "      <td>0.0</td>\n",
              "      <td>0</td>\n",
              "      <td>not much</td>\n",
              "      <td>no</td>\n",
              "    </tr>\n",
              "    <tr>\n",
              "      <th>...</th>\n",
              "      <td>...</td>\n",
              "      <td>...</td>\n",
              "      <td>...</td>\n",
              "      <td>...</td>\n",
              "      <td>...</td>\n",
              "      <td>...</td>\n",
              "      <td>...</td>\n",
              "      <td>...</td>\n",
              "      <td>...</td>\n",
              "      <td>...</td>\n",
              "      <td>...</td>\n",
              "      <td>...</td>\n",
              "      <td>...</td>\n",
              "      <td>...</td>\n",
              "      <td>...</td>\n",
              "      <td>...</td>\n",
              "      <td>...</td>\n",
              "      <td>...</td>\n",
              "    </tr>\n",
              "    <tr>\n",
              "      <th>947</th>\n",
              "      <td>less than 40</td>\n",
              "      <td>Male</td>\n",
              "      <td>yes</td>\n",
              "      <td>no</td>\n",
              "      <td>more than half an hr</td>\n",
              "      <td>25.0</td>\n",
              "      <td>no</td>\n",
              "      <td>no</td>\n",
              "      <td>8</td>\n",
              "      <td>6</td>\n",
              "      <td>no</td>\n",
              "      <td>often</td>\n",
              "      <td>sometimes</td>\n",
              "      <td>normal</td>\n",
              "      <td>0.0</td>\n",
              "      <td>0</td>\n",
              "      <td>not much</td>\n",
              "      <td>yes</td>\n",
              "    </tr>\n",
              "    <tr>\n",
              "      <th>948</th>\n",
              "      <td>60 or older</td>\n",
              "      <td>Male</td>\n",
              "      <td>yes</td>\n",
              "      <td>yes</td>\n",
              "      <td>more than half an hr</td>\n",
              "      <td>27.0</td>\n",
              "      <td>no</td>\n",
              "      <td>no</td>\n",
              "      <td>6</td>\n",
              "      <td>5</td>\n",
              "      <td>yes</td>\n",
              "      <td>occasionally</td>\n",
              "      <td>sometimes</td>\n",
              "      <td>high</td>\n",
              "      <td>0.0</td>\n",
              "      <td>0</td>\n",
              "      <td>quite often</td>\n",
              "      <td>yes</td>\n",
              "    </tr>\n",
              "    <tr>\n",
              "      <th>949</th>\n",
              "      <td>60 or older</td>\n",
              "      <td>Male</td>\n",
              "      <td>no</td>\n",
              "      <td>yes</td>\n",
              "      <td>none</td>\n",
              "      <td>23.0</td>\n",
              "      <td>no</td>\n",
              "      <td>no</td>\n",
              "      <td>6</td>\n",
              "      <td>5</td>\n",
              "      <td>yes</td>\n",
              "      <td>occasionally</td>\n",
              "      <td>sometimes</td>\n",
              "      <td>high</td>\n",
              "      <td>0.0</td>\n",
              "      <td>0</td>\n",
              "      <td>not much</td>\n",
              "      <td>no</td>\n",
              "    </tr>\n",
              "    <tr>\n",
              "      <th>950</th>\n",
              "      <td>60 or older</td>\n",
              "      <td>Male</td>\n",
              "      <td>no</td>\n",
              "      <td>yes</td>\n",
              "      <td>less than half an hr</td>\n",
              "      <td>27.0</td>\n",
              "      <td>no</td>\n",
              "      <td>yes</td>\n",
              "      <td>6</td>\n",
              "      <td>5</td>\n",
              "      <td>yes</td>\n",
              "      <td>occasionally</td>\n",
              "      <td>very often</td>\n",
              "      <td>high</td>\n",
              "      <td>0.0</td>\n",
              "      <td>0</td>\n",
              "      <td>not much</td>\n",
              "      <td>no</td>\n",
              "    </tr>\n",
              "    <tr>\n",
              "      <th>951</th>\n",
              "      <td>60 or older</td>\n",
              "      <td>Female</td>\n",
              "      <td>yes</td>\n",
              "      <td>yes</td>\n",
              "      <td>one hr or more</td>\n",
              "      <td>30.0</td>\n",
              "      <td>no</td>\n",
              "      <td>no</td>\n",
              "      <td>7</td>\n",
              "      <td>4</td>\n",
              "      <td>yes</td>\n",
              "      <td>occasionally</td>\n",
              "      <td>sometimes</td>\n",
              "      <td>high</td>\n",
              "      <td>2.0</td>\n",
              "      <td>0</td>\n",
              "      <td>quite often</td>\n",
              "      <td>yes</td>\n",
              "    </tr>\n",
              "  </tbody>\n",
              "</table>\n",
              "<p>952 rows × 18 columns</p>\n",
              "</div>\n",
              "      <button class=\"colab-df-convert\" onclick=\"convertToInteractive('df-32453c9b-c117-4556-871c-70aba699a751')\"\n",
              "              title=\"Convert this dataframe to an interactive table.\"\n",
              "              style=\"display:none;\">\n",
              "        \n",
              "  <svg xmlns=\"http://www.w3.org/2000/svg\" height=\"24px\"viewBox=\"0 0 24 24\"\n",
              "       width=\"24px\">\n",
              "    <path d=\"M0 0h24v24H0V0z\" fill=\"none\"/>\n",
              "    <path d=\"M18.56 5.44l.94 2.06.94-2.06 2.06-.94-2.06-.94-.94-2.06-.94 2.06-2.06.94zm-11 1L8.5 8.5l.94-2.06 2.06-.94-2.06-.94L8.5 2.5l-.94 2.06-2.06.94zm10 10l.94 2.06.94-2.06 2.06-.94-2.06-.94-.94-2.06-.94 2.06-2.06.94z\"/><path d=\"M17.41 7.96l-1.37-1.37c-.4-.4-.92-.59-1.43-.59-.52 0-1.04.2-1.43.59L10.3 9.45l-7.72 7.72c-.78.78-.78 2.05 0 2.83L4 21.41c.39.39.9.59 1.41.59.51 0 1.02-.2 1.41-.59l7.78-7.78 2.81-2.81c.8-.78.8-2.07 0-2.86zM5.41 20L4 18.59l7.72-7.72 1.47 1.35L5.41 20z\"/>\n",
              "  </svg>\n",
              "      </button>\n",
              "      \n",
              "  <style>\n",
              "    .colab-df-container {\n",
              "      display:flex;\n",
              "      flex-wrap:wrap;\n",
              "      gap: 12px;\n",
              "    }\n",
              "\n",
              "    .colab-df-convert {\n",
              "      background-color: #E8F0FE;\n",
              "      border: none;\n",
              "      border-radius: 50%;\n",
              "      cursor: pointer;\n",
              "      display: none;\n",
              "      fill: #1967D2;\n",
              "      height: 32px;\n",
              "      padding: 0 0 0 0;\n",
              "      width: 32px;\n",
              "    }\n",
              "\n",
              "    .colab-df-convert:hover {\n",
              "      background-color: #E2EBFA;\n",
              "      box-shadow: 0px 1px 2px rgba(60, 64, 67, 0.3), 0px 1px 3px 1px rgba(60, 64, 67, 0.15);\n",
              "      fill: #174EA6;\n",
              "    }\n",
              "\n",
              "    [theme=dark] .colab-df-convert {\n",
              "      background-color: #3B4455;\n",
              "      fill: #D2E3FC;\n",
              "    }\n",
              "\n",
              "    [theme=dark] .colab-df-convert:hover {\n",
              "      background-color: #434B5C;\n",
              "      box-shadow: 0px 1px 3px 1px rgba(0, 0, 0, 0.15);\n",
              "      filter: drop-shadow(0px 1px 2px rgba(0, 0, 0, 0.3));\n",
              "      fill: #FFFFFF;\n",
              "    }\n",
              "  </style>\n",
              "\n",
              "      <script>\n",
              "        const buttonEl =\n",
              "          document.querySelector('#df-32453c9b-c117-4556-871c-70aba699a751 button.colab-df-convert');\n",
              "        buttonEl.style.display =\n",
              "          google.colab.kernel.accessAllowed ? 'block' : 'none';\n",
              "\n",
              "        async function convertToInteractive(key) {\n",
              "          const element = document.querySelector('#df-32453c9b-c117-4556-871c-70aba699a751');\n",
              "          const dataTable =\n",
              "            await google.colab.kernel.invokeFunction('convertToInteractive',\n",
              "                                                     [key], {});\n",
              "          if (!dataTable) return;\n",
              "\n",
              "          const docLinkHtml = 'Like what you see? Visit the ' +\n",
              "            '<a target=\"_blank\" href=https://colab.research.google.com/notebooks/data_table.ipynb>data table notebook</a>'\n",
              "            + ' to learn more about interactive tables.';\n",
              "          element.innerHTML = '';\n",
              "          dataTable['output_type'] = 'display_data';\n",
              "          await google.colab.output.renderOutput(dataTable, element);\n",
              "          const docLink = document.createElement('div');\n",
              "          docLink.innerHTML = docLinkHtml;\n",
              "          element.appendChild(docLink);\n",
              "        }\n",
              "      </script>\n",
              "    </div>\n",
              "  </div>\n",
              "  "
            ]
          },
          "metadata": {},
          "execution_count": 2
        }
      ]
    },
    {
      "cell_type": "markdown",
      "source": [
        "## 2. Exploratory Data"
      ],
      "metadata": {
        "id": "UDDwMkOVdAS-"
      }
    },
    {
      "cell_type": "markdown",
      "source": [
        "In the Diabetes Dataset 2019 there are 952 rows and 18 columns"
      ],
      "metadata": {
        "id": "mLHhdKclVHt3"
      }
    },
    {
      "cell_type": "code",
      "source": [
        "dataset.shape"
      ],
      "metadata": {
        "colab": {
          "base_uri": "https://localhost:8080/"
        },
        "id": "gfY3IjMzdDsN",
        "outputId": "ff791007-75c8-4bcb-dd5b-360262d983c1"
      },
      "execution_count": 9,
      "outputs": [
        {
          "output_type": "execute_result",
          "data": {
            "text/plain": [
              "(952, 18)"
            ]
          },
          "metadata": {},
          "execution_count": 9
        }
      ]
    },
    {
      "cell_type": "markdown",
      "source": [
        "There are 18 columns in this Diabetes Dataset 2019, namely: Age, Gender, Family_Diabetes, highBP, PhysicallyActive, BMI, Smoking, Alcohol, Sleep, SoundSleep, RegularMedicine, JunkFood, Stress, BPLevel, Pregancies, Pdiabetes,\n",
        "UriationFreq, Diabetic."
      ],
      "metadata": {
        "id": "K5y1f7dEVmWn"
      }
    },
    {
      "cell_type": "code",
      "source": [
        "dataset.columns"
      ],
      "metadata": {
        "colab": {
          "base_uri": "https://localhost:8080/"
        },
        "id": "v2bT3bcCdad5",
        "outputId": "0c28dbab-b735-4867-a598-33e8fed29aac"
      },
      "execution_count": 10,
      "outputs": [
        {
          "output_type": "execute_result",
          "data": {
            "text/plain": [
              "Index(['Age', 'Gender', 'Family_Diabetes', 'highBP', 'PhysicallyActive', 'BMI',\n",
              "       'Smoking', 'Alcohol', 'Sleep', 'SoundSleep', 'RegularMedicine',\n",
              "       'JunkFood', 'Stress', 'BPLevel', 'Pregancies', 'Pdiabetes',\n",
              "       'UriationFreq', 'Diabetic'],\n",
              "      dtype='object')"
            ]
          },
          "metadata": {},
          "execution_count": 10
        }
      ]
    },
    {
      "cell_type": "markdown",
      "source": [
        "The following are data types in Diabetes Dataset 2019 which are divided into object, float and integer"
      ],
      "metadata": {
        "id": "kLh_htfqWlQI"
      }
    },
    {
      "cell_type": "code",
      "source": [
        "dataset.dtypes"
      ],
      "metadata": {
        "colab": {
          "base_uri": "https://localhost:8080/"
        },
        "id": "DGucyPqGdstV",
        "outputId": "f70c05b7-c587-4f02-a695-523994bd2ad6"
      },
      "execution_count": 12,
      "outputs": [
        {
          "output_type": "execute_result",
          "data": {
            "text/plain": [
              "Age                  object\n",
              "Gender               object\n",
              "Family_Diabetes      object\n",
              "highBP               object\n",
              "PhysicallyActive     object\n",
              "BMI                 float64\n",
              "Smoking              object\n",
              "Alcohol              object\n",
              "Sleep                 int64\n",
              "SoundSleep            int64\n",
              "RegularMedicine      object\n",
              "JunkFood             object\n",
              "Stress               object\n",
              "BPLevel              object\n",
              "Pregancies          float64\n",
              "Pdiabetes            object\n",
              "UriationFreq         object\n",
              "Diabetic             object\n",
              "dtype: object"
            ]
          },
          "metadata": {},
          "execution_count": 12
        }
      ]
    },
    {
      "cell_type": "markdown",
      "source": [
        "Below provides information that in the Diabetes Dataset 2019 there are Missing Values in columns: BMI, Pregancies, Pdiabetes and Diabetic. Before proceeding to Data Visualization, it is necessary to eliminate the Missing Value in the Diabetes Dataset 2019."
      ],
      "metadata": {
        "id": "7EMWyqJHceA7"
      }
    },
    {
      "cell_type": "code",
      "source": [
        "dataset.info()"
      ],
      "metadata": {
        "colab": {
          "base_uri": "https://localhost:8080/"
        },
        "id": "R5lpoJMgdqdl",
        "outputId": "b9aa9ac1-0e2f-4278-8fc2-7e2c20419196"
      },
      "execution_count": 6,
      "outputs": [
        {
          "output_type": "stream",
          "name": "stdout",
          "text": [
            "<class 'pandas.core.frame.DataFrame'>\n",
            "RangeIndex: 952 entries, 0 to 951\n",
            "Data columns (total 18 columns):\n",
            " #   Column            Non-Null Count  Dtype  \n",
            "---  ------            --------------  -----  \n",
            " 0   Age               952 non-null    object \n",
            " 1   Gender            952 non-null    object \n",
            " 2   Family_Diabetes   952 non-null    object \n",
            " 3   highBP            952 non-null    object \n",
            " 4   PhysicallyActive  952 non-null    object \n",
            " 5   BMI               948 non-null    float64\n",
            " 6   Smoking           952 non-null    object \n",
            " 7   Alcohol           952 non-null    object \n",
            " 8   Sleep             952 non-null    int64  \n",
            " 9   SoundSleep        952 non-null    int64  \n",
            " 10  RegularMedicine   952 non-null    object \n",
            " 11  JunkFood          952 non-null    object \n",
            " 12  Stress            952 non-null    object \n",
            " 13  BPLevel           952 non-null    object \n",
            " 14  Pregancies        910 non-null    float64\n",
            " 15  Pdiabetes         951 non-null    object \n",
            " 16  UriationFreq      952 non-null    object \n",
            " 17  Diabetic          951 non-null    object \n",
            "dtypes: float64(2), int64(2), object(14)\n",
            "memory usage: 134.0+ KB\n"
          ]
        }
      ]
    },
    {
      "cell_type": "markdown",
      "source": [
        "Provide information about the categories contained in each column"
      ],
      "metadata": {
        "id": "z_KKZlSyei1s"
      }
    },
    {
      "cell_type": "code",
      "source": [
        "dataset.nunique()"
      ],
      "metadata": {
        "colab": {
          "base_uri": "https://localhost:8080/"
        },
        "id": "iAJrbGiuf-8c",
        "outputId": "a160975b-5bf3-4f36-fbdd-373c231b025a"
      },
      "execution_count": 13,
      "outputs": [
        {
          "output_type": "execute_result",
          "data": {
            "text/plain": [
              "Age                  4\n",
              "Gender               2\n",
              "Family_Diabetes      2\n",
              "highBP               2\n",
              "PhysicallyActive     4\n",
              "BMI                 26\n",
              "Smoking              2\n",
              "Alcohol              2\n",
              "Sleep                8\n",
              "SoundSleep          12\n",
              "RegularMedicine      3\n",
              "JunkFood             4\n",
              "Stress               4\n",
              "BPLevel              6\n",
              "Pregancies           5\n",
              "Pdiabetes            3\n",
              "UriationFreq         2\n",
              "Diabetic             3\n",
              "dtype: int64"
            ]
          },
          "metadata": {},
          "execution_count": 13
        }
      ]
    },
    {
      "cell_type": "markdown",
      "source": [
        "**2.1 Handling Missing Value**"
      ],
      "metadata": {
        "id": "SsvcPPw9ekvS"
      }
    },
    {
      "cell_type": "markdown",
      "source": [
        "Let's assume unknown value as missing value since unknown means not known or no values"
      ],
      "metadata": {
        "id": "tkkOl04Ee_xV"
      }
    },
    {
      "cell_type": "markdown",
      "source": [
        "There is a Missing Value in this 2019 Diabetes Dataset, which is in the columns: BMI, Pregancies, Pdiabetes and Diabetic\n",
        "\n",
        "\n"
      ],
      "metadata": {
        "id": "Dc7ewsZk9esB"
      }
    },
    {
      "cell_type": "code",
      "source": [
        "dataset.isnull().sum()"
      ],
      "metadata": {
        "colab": {
          "base_uri": "https://localhost:8080/"
        },
        "id": "rsrJsSO8fW7M",
        "outputId": "1ea7b9a9-c4f9-49ba-bc14-fc8a1a28f7ce"
      },
      "execution_count": 14,
      "outputs": [
        {
          "output_type": "execute_result",
          "data": {
            "text/plain": [
              "Age                  0\n",
              "Gender               0\n",
              "Family_Diabetes      0\n",
              "highBP               0\n",
              "PhysicallyActive     0\n",
              "BMI                  4\n",
              "Smoking              0\n",
              "Alcohol              0\n",
              "Sleep                0\n",
              "SoundSleep           0\n",
              "RegularMedicine      0\n",
              "JunkFood             0\n",
              "Stress               0\n",
              "BPLevel              0\n",
              "Pregancies          42\n",
              "Pdiabetes            1\n",
              "UriationFreq         0\n",
              "Diabetic             1\n",
              "dtype: int64"
            ]
          },
          "metadata": {},
          "execution_count": 14
        }
      ]
    },
    {
      "cell_type": "markdown",
      "source": [
        "Provides information that BMI columns are included in the float data type"
      ],
      "metadata": {
        "id": "Gz1KlNXNhpFq"
      }
    },
    {
      "cell_type": "code",
      "source": [
        "dataset['BMI'].dtypes"
      ],
      "metadata": {
        "colab": {
          "base_uri": "https://localhost:8080/"
        },
        "id": "hw2FxOlorXI8",
        "outputId": "ce654967-c21a-4d35-a542-8d019bd4fd94"
      },
      "execution_count": 15,
      "outputs": [
        {
          "output_type": "execute_result",
          "data": {
            "text/plain": [
              "dtype('float64')"
            ]
          },
          "metadata": {},
          "execution_count": 15
        }
      ]
    },
    {
      "cell_type": "markdown",
      "source": [
        "Provides information that Pregancies columns are included in the float data type"
      ],
      "metadata": {
        "id": "om71GGtiiA_h"
      }
    },
    {
      "cell_type": "code",
      "source": [
        "dataset['Pregancies'].dtypes"
      ],
      "metadata": {
        "colab": {
          "base_uri": "https://localhost:8080/"
        },
        "id": "1ZQ3-sq0rg0J",
        "outputId": "5174fa0f-35a8-452a-88ca-9b6851a88e34"
      },
      "execution_count": 16,
      "outputs": [
        {
          "output_type": "execute_result",
          "data": {
            "text/plain": [
              "dtype('float64')"
            ]
          },
          "metadata": {},
          "execution_count": 16
        }
      ]
    },
    {
      "cell_type": "markdown",
      "source": [
        "Provides information that Pdiabetes columns are included in the Object data type"
      ],
      "metadata": {
        "id": "BwaRojqEiFCf"
      }
    },
    {
      "cell_type": "code",
      "source": [
        "dataset['Pdiabetes'].dtypes"
      ],
      "metadata": {
        "colab": {
          "base_uri": "https://localhost:8080/"
        },
        "id": "VMWvLZjcrkuY",
        "outputId": "c1aa4d8d-9b7a-433d-a728-80410b27f4c0"
      },
      "execution_count": 17,
      "outputs": [
        {
          "output_type": "execute_result",
          "data": {
            "text/plain": [
              "dtype('O')"
            ]
          },
          "metadata": {},
          "execution_count": 17
        }
      ]
    },
    {
      "cell_type": "markdown",
      "source": [
        "Provides information that Diabetic columns are included in the Object data type"
      ],
      "metadata": {
        "id": "x3exZTDmiMDA"
      }
    },
    {
      "cell_type": "code",
      "source": [
        "dataset['Diabetic'].dtypes"
      ],
      "metadata": {
        "colab": {
          "base_uri": "https://localhost:8080/"
        },
        "id": "TDKDGdswrlUm",
        "outputId": "370ce947-31d7-485d-9fbe-edde10cde6e3"
      },
      "execution_count": 18,
      "outputs": [
        {
          "output_type": "execute_result",
          "data": {
            "text/plain": [
              "dtype('O')"
            ]
          },
          "metadata": {},
          "execution_count": 18
        }
      ]
    },
    {
      "cell_type": "markdown",
      "source": [
        "Perform imputer to handle missing value in numerical data"
      ],
      "metadata": {
        "id": "v6QJEYLbpcpG"
      }
    },
    {
      "cell_type": "markdown",
      "source": [
        "Filling in the Missing Value by using the Average strategy"
      ],
      "metadata": {
        "id": "hjDkk64yS3aV"
      }
    },
    {
      "cell_type": "code",
      "source": [
        "from sklearn.impute import SimpleImputer\n",
        "imputer = SimpleImputer(missing_values= np.nan, strategy='mean')\n",
        "imputer"
      ],
      "metadata": {
        "colab": {
          "base_uri": "https://localhost:8080/",
          "height": 75
        },
        "id": "02J19YzBjpuO",
        "outputId": "69283706-a09e-4131-ac46-837cefad2e23"
      },
      "execution_count": 19,
      "outputs": [
        {
          "output_type": "execute_result",
          "data": {
            "text/plain": [
              "SimpleImputer()"
            ],
            "text/html": [
              "<style>#sk-container-id-1 {color: black;background-color: white;}#sk-container-id-1 pre{padding: 0;}#sk-container-id-1 div.sk-toggleable {background-color: white;}#sk-container-id-1 label.sk-toggleable__label {cursor: pointer;display: block;width: 100%;margin-bottom: 0;padding: 0.3em;box-sizing: border-box;text-align: center;}#sk-container-id-1 label.sk-toggleable__label-arrow:before {content: \"▸\";float: left;margin-right: 0.25em;color: #696969;}#sk-container-id-1 label.sk-toggleable__label-arrow:hover:before {color: black;}#sk-container-id-1 div.sk-estimator:hover label.sk-toggleable__label-arrow:before {color: black;}#sk-container-id-1 div.sk-toggleable__content {max-height: 0;max-width: 0;overflow: hidden;text-align: left;background-color: #f0f8ff;}#sk-container-id-1 div.sk-toggleable__content pre {margin: 0.2em;color: black;border-radius: 0.25em;background-color: #f0f8ff;}#sk-container-id-1 input.sk-toggleable__control:checked~div.sk-toggleable__content {max-height: 200px;max-width: 100%;overflow: auto;}#sk-container-id-1 input.sk-toggleable__control:checked~label.sk-toggleable__label-arrow:before {content: \"▾\";}#sk-container-id-1 div.sk-estimator input.sk-toggleable__control:checked~label.sk-toggleable__label {background-color: #d4ebff;}#sk-container-id-1 div.sk-label input.sk-toggleable__control:checked~label.sk-toggleable__label {background-color: #d4ebff;}#sk-container-id-1 input.sk-hidden--visually {border: 0;clip: rect(1px 1px 1px 1px);clip: rect(1px, 1px, 1px, 1px);height: 1px;margin: -1px;overflow: hidden;padding: 0;position: absolute;width: 1px;}#sk-container-id-1 div.sk-estimator {font-family: monospace;background-color: #f0f8ff;border: 1px dotted black;border-radius: 0.25em;box-sizing: border-box;margin-bottom: 0.5em;}#sk-container-id-1 div.sk-estimator:hover {background-color: #d4ebff;}#sk-container-id-1 div.sk-parallel-item::after {content: \"\";width: 100%;border-bottom: 1px solid gray;flex-grow: 1;}#sk-container-id-1 div.sk-label:hover label.sk-toggleable__label {background-color: #d4ebff;}#sk-container-id-1 div.sk-serial::before {content: \"\";position: absolute;border-left: 1px solid gray;box-sizing: border-box;top: 0;bottom: 0;left: 50%;z-index: 0;}#sk-container-id-1 div.sk-serial {display: flex;flex-direction: column;align-items: center;background-color: white;padding-right: 0.2em;padding-left: 0.2em;position: relative;}#sk-container-id-1 div.sk-item {position: relative;z-index: 1;}#sk-container-id-1 div.sk-parallel {display: flex;align-items: stretch;justify-content: center;background-color: white;position: relative;}#sk-container-id-1 div.sk-item::before, #sk-container-id-1 div.sk-parallel-item::before {content: \"\";position: absolute;border-left: 1px solid gray;box-sizing: border-box;top: 0;bottom: 0;left: 50%;z-index: -1;}#sk-container-id-1 div.sk-parallel-item {display: flex;flex-direction: column;z-index: 1;position: relative;background-color: white;}#sk-container-id-1 div.sk-parallel-item:first-child::after {align-self: flex-end;width: 50%;}#sk-container-id-1 div.sk-parallel-item:last-child::after {align-self: flex-start;width: 50%;}#sk-container-id-1 div.sk-parallel-item:only-child::after {width: 0;}#sk-container-id-1 div.sk-dashed-wrapped {border: 1px dashed gray;margin: 0 0.4em 0.5em 0.4em;box-sizing: border-box;padding-bottom: 0.4em;background-color: white;}#sk-container-id-1 div.sk-label label {font-family: monospace;font-weight: bold;display: inline-block;line-height: 1.2em;}#sk-container-id-1 div.sk-label-container {text-align: center;}#sk-container-id-1 div.sk-container {/* jupyter's `normalize.less` sets `[hidden] { display: none; }` but bootstrap.min.css set `[hidden] { display: none !important; }` so we also need the `!important` here to be able to override the default hidden behavior on the sphinx rendered scikit-learn.org. See: https://github.com/scikit-learn/scikit-learn/issues/21755 */display: inline-block !important;position: relative;}#sk-container-id-1 div.sk-text-repr-fallback {display: none;}</style><div id=\"sk-container-id-1\" class=\"sk-top-container\"><div class=\"sk-text-repr-fallback\"><pre>SimpleImputer()</pre><b>In a Jupyter environment, please rerun this cell to show the HTML representation or trust the notebook. <br />On GitHub, the HTML representation is unable to render, please try loading this page with nbviewer.org.</b></div><div class=\"sk-container\" hidden><div class=\"sk-item\"><div class=\"sk-estimator sk-toggleable\"><input class=\"sk-toggleable__control sk-hidden--visually\" id=\"sk-estimator-id-1\" type=\"checkbox\" checked><label for=\"sk-estimator-id-1\" class=\"sk-toggleable__label sk-toggleable__label-arrow\">SimpleImputer</label><div class=\"sk-toggleable__content\"><pre>SimpleImputer()</pre></div></div></div></div></div>"
            ]
          },
          "metadata": {},
          "execution_count": 19
        }
      ]
    },
    {
      "cell_type": "markdown",
      "source": [
        "Choose a dataset that has a massing value, namely the BMI column and prengacies to be filled evenly"
      ],
      "metadata": {
        "id": "AHuDaimekDRG"
      }
    },
    {
      "cell_type": "code",
      "source": [
        "imputer = imputer.fit(dataset[['BMI','Pregancies']])\n",
        "imputer"
      ],
      "metadata": {
        "colab": {
          "base_uri": "https://localhost:8080/",
          "height": 75
        },
        "id": "RatiEmtpsMxv",
        "outputId": "a03b0cc7-c050-4f1f-bbfe-055e370bf6c1"
      },
      "execution_count": 20,
      "outputs": [
        {
          "output_type": "execute_result",
          "data": {
            "text/plain": [
              "SimpleImputer()"
            ],
            "text/html": [
              "<style>#sk-container-id-2 {color: black;background-color: white;}#sk-container-id-2 pre{padding: 0;}#sk-container-id-2 div.sk-toggleable {background-color: white;}#sk-container-id-2 label.sk-toggleable__label {cursor: pointer;display: block;width: 100%;margin-bottom: 0;padding: 0.3em;box-sizing: border-box;text-align: center;}#sk-container-id-2 label.sk-toggleable__label-arrow:before {content: \"▸\";float: left;margin-right: 0.25em;color: #696969;}#sk-container-id-2 label.sk-toggleable__label-arrow:hover:before {color: black;}#sk-container-id-2 div.sk-estimator:hover label.sk-toggleable__label-arrow:before {color: black;}#sk-container-id-2 div.sk-toggleable__content {max-height: 0;max-width: 0;overflow: hidden;text-align: left;background-color: #f0f8ff;}#sk-container-id-2 div.sk-toggleable__content pre {margin: 0.2em;color: black;border-radius: 0.25em;background-color: #f0f8ff;}#sk-container-id-2 input.sk-toggleable__control:checked~div.sk-toggleable__content {max-height: 200px;max-width: 100%;overflow: auto;}#sk-container-id-2 input.sk-toggleable__control:checked~label.sk-toggleable__label-arrow:before {content: \"▾\";}#sk-container-id-2 div.sk-estimator input.sk-toggleable__control:checked~label.sk-toggleable__label {background-color: #d4ebff;}#sk-container-id-2 div.sk-label input.sk-toggleable__control:checked~label.sk-toggleable__label {background-color: #d4ebff;}#sk-container-id-2 input.sk-hidden--visually {border: 0;clip: rect(1px 1px 1px 1px);clip: rect(1px, 1px, 1px, 1px);height: 1px;margin: -1px;overflow: hidden;padding: 0;position: absolute;width: 1px;}#sk-container-id-2 div.sk-estimator {font-family: monospace;background-color: #f0f8ff;border: 1px dotted black;border-radius: 0.25em;box-sizing: border-box;margin-bottom: 0.5em;}#sk-container-id-2 div.sk-estimator:hover {background-color: #d4ebff;}#sk-container-id-2 div.sk-parallel-item::after {content: \"\";width: 100%;border-bottom: 1px solid gray;flex-grow: 1;}#sk-container-id-2 div.sk-label:hover label.sk-toggleable__label {background-color: #d4ebff;}#sk-container-id-2 div.sk-serial::before {content: \"\";position: absolute;border-left: 1px solid gray;box-sizing: border-box;top: 0;bottom: 0;left: 50%;z-index: 0;}#sk-container-id-2 div.sk-serial {display: flex;flex-direction: column;align-items: center;background-color: white;padding-right: 0.2em;padding-left: 0.2em;position: relative;}#sk-container-id-2 div.sk-item {position: relative;z-index: 1;}#sk-container-id-2 div.sk-parallel {display: flex;align-items: stretch;justify-content: center;background-color: white;position: relative;}#sk-container-id-2 div.sk-item::before, #sk-container-id-2 div.sk-parallel-item::before {content: \"\";position: absolute;border-left: 1px solid gray;box-sizing: border-box;top: 0;bottom: 0;left: 50%;z-index: -1;}#sk-container-id-2 div.sk-parallel-item {display: flex;flex-direction: column;z-index: 1;position: relative;background-color: white;}#sk-container-id-2 div.sk-parallel-item:first-child::after {align-self: flex-end;width: 50%;}#sk-container-id-2 div.sk-parallel-item:last-child::after {align-self: flex-start;width: 50%;}#sk-container-id-2 div.sk-parallel-item:only-child::after {width: 0;}#sk-container-id-2 div.sk-dashed-wrapped {border: 1px dashed gray;margin: 0 0.4em 0.5em 0.4em;box-sizing: border-box;padding-bottom: 0.4em;background-color: white;}#sk-container-id-2 div.sk-label label {font-family: monospace;font-weight: bold;display: inline-block;line-height: 1.2em;}#sk-container-id-2 div.sk-label-container {text-align: center;}#sk-container-id-2 div.sk-container {/* jupyter's `normalize.less` sets `[hidden] { display: none; }` but bootstrap.min.css set `[hidden] { display: none !important; }` so we also need the `!important` here to be able to override the default hidden behavior on the sphinx rendered scikit-learn.org. See: https://github.com/scikit-learn/scikit-learn/issues/21755 */display: inline-block !important;position: relative;}#sk-container-id-2 div.sk-text-repr-fallback {display: none;}</style><div id=\"sk-container-id-2\" class=\"sk-top-container\"><div class=\"sk-text-repr-fallback\"><pre>SimpleImputer()</pre><b>In a Jupyter environment, please rerun this cell to show the HTML representation or trust the notebook. <br />On GitHub, the HTML representation is unable to render, please try loading this page with nbviewer.org.</b></div><div class=\"sk-container\" hidden><div class=\"sk-item\"><div class=\"sk-estimator sk-toggleable\"><input class=\"sk-toggleable__control sk-hidden--visually\" id=\"sk-estimator-id-2\" type=\"checkbox\" checked><label for=\"sk-estimator-id-2\" class=\"sk-toggleable__label sk-toggleable__label-arrow\">SimpleImputer</label><div class=\"sk-toggleable__content\"><pre>SimpleImputer()</pre></div></div></div></div></div>"
            ]
          },
          "metadata": {},
          "execution_count": 20
        }
      ]
    },
    {
      "cell_type": "markdown",
      "source": [
        "There is no longer a missing value in BMI and Pregancies columns"
      ],
      "metadata": {
        "id": "u4tFNa81kR07"
      }
    },
    {
      "cell_type": "code",
      "source": [
        "dataset[['BMI','Pregancies']] = imputer.transform(dataset[['BMI','Pregancies']])\n",
        "dataset.isnull().sum()"
      ],
      "metadata": {
        "colab": {
          "base_uri": "https://localhost:8080/"
        },
        "id": "VRRgnMy9s6t7",
        "outputId": "cce03301-f57a-4bdc-9dbc-2fa34c317d65"
      },
      "execution_count": 21,
      "outputs": [
        {
          "output_type": "execute_result",
          "data": {
            "text/plain": [
              "Age                 0\n",
              "Gender              0\n",
              "Family_Diabetes     0\n",
              "highBP              0\n",
              "PhysicallyActive    0\n",
              "BMI                 0\n",
              "Smoking             0\n",
              "Alcohol             0\n",
              "Sleep               0\n",
              "SoundSleep          0\n",
              "RegularMedicine     0\n",
              "JunkFood            0\n",
              "Stress              0\n",
              "BPLevel             0\n",
              "Pregancies          0\n",
              "Pdiabetes           1\n",
              "UriationFreq        0\n",
              "Diabetic            1\n",
              "dtype: int64"
            ]
          },
          "metadata": {},
          "execution_count": 21
        }
      ]
    },
    {
      "cell_type": "markdown",
      "source": [
        "Using drop column tohandle missing value on categorical or object data"
      ],
      "metadata": {
        "id": "akm-xmRdphDb"
      }
    },
    {
      "cell_type": "code",
      "execution_count": 22,
      "metadata": {
        "colab": {
          "base_uri": "https://localhost:8080/"
        },
        "id": "APXYNKqq0J3k",
        "outputId": "22faaf58-442b-414d-b327-ff64069b1c3d"
      },
      "outputs": [
        {
          "output_type": "execute_result",
          "data": {
            "text/plain": [
              "Age                 0\n",
              "Gender              0\n",
              "Family_Diabetes     0\n",
              "highBP              0\n",
              "PhysicallyActive    0\n",
              "BMI                 0\n",
              "Smoking             0\n",
              "Alcohol             0\n",
              "Sleep               0\n",
              "SoundSleep          0\n",
              "RegularMedicine     0\n",
              "JunkFood            0\n",
              "Stress              0\n",
              "BPLevel             0\n",
              "Pregancies          0\n",
              "UriationFreq        0\n",
              "dtype: int64"
            ]
          },
          "metadata": {},
          "execution_count": 22
        }
      ],
      "source": [
        "dataset = dataset.dropna(axis=1)\n",
        "dataset.isnull().sum()"
      ]
    },
    {
      "cell_type": "markdown",
      "source": [
        "drop datetime column SoundSleep we don't need it"
      ],
      "metadata": {
        "id": "hqbUmlrTqsed"
      }
    },
    {
      "cell_type": "code",
      "source": [
        "dataset = dataset.drop('SoundSleep', axis=1)\n",
        "dataset"
      ],
      "metadata": {
        "colab": {
          "base_uri": "https://localhost:8080/",
          "height": 748
        },
        "id": "1xT6ljMtq4sU",
        "outputId": "998cd7fb-0339-47d3-a9b3-965db32ed66c"
      },
      "execution_count": 23,
      "outputs": [
        {
          "output_type": "execute_result",
          "data": {
            "text/plain": [
              "              Age  Gender Family_Diabetes highBP      PhysicallyActive   BMI  \\\n",
              "0           50-59    Male              no    yes        one hr or more  39.0   \n",
              "1           50-59    Male              no    yes  less than half an hr  28.0   \n",
              "2           40-49    Male              no     no        one hr or more  24.0   \n",
              "3           50-59    Male              no     no        one hr or more  23.0   \n",
              "4           40-49    Male              no     no  less than half an hr  27.0   \n",
              "..            ...     ...             ...    ...                   ...   ...   \n",
              "947  less than 40    Male             yes     no  more than half an hr  25.0   \n",
              "948   60 or older    Male             yes    yes  more than half an hr  27.0   \n",
              "949   60 or older    Male              no    yes                  none  23.0   \n",
              "950   60 or older    Male              no    yes  less than half an hr  27.0   \n",
              "951   60 or older  Female             yes    yes        one hr or more  30.0   \n",
              "\n",
              "    Smoking Alcohol  Sleep RegularMedicine      JunkFood      Stress BPLevel  \\\n",
              "0        no      no      8              no  occasionally   sometimes    high   \n",
              "1        no      no      8             yes    very often   sometimes  normal   \n",
              "2        no      no      6              no  occasionally   sometimes  normal   \n",
              "3        no      no      8              no  occasionally   sometimes  normal   \n",
              "4        no      no      8              no  occasionally   sometimes  normal   \n",
              "..      ...     ...    ...             ...           ...         ...     ...   \n",
              "947      no      no      8              no         often   sometimes  normal   \n",
              "948      no      no      6             yes  occasionally   sometimes    high   \n",
              "949      no      no      6             yes  occasionally   sometimes    high   \n",
              "950      no     yes      6             yes  occasionally  very often    high   \n",
              "951      no      no      7             yes  occasionally   sometimes    high   \n",
              "\n",
              "     Pregancies UriationFreq  \n",
              "0           0.0     not much  \n",
              "1           0.0     not much  \n",
              "2           0.0     not much  \n",
              "3           0.0     not much  \n",
              "4           0.0     not much  \n",
              "..          ...          ...  \n",
              "947         0.0     not much  \n",
              "948         0.0  quite often  \n",
              "949         0.0     not much  \n",
              "950         0.0     not much  \n",
              "951         2.0  quite often  \n",
              "\n",
              "[952 rows x 15 columns]"
            ],
            "text/html": [
              "\n",
              "  <div id=\"df-40373a60-986e-4e64-9b5c-0a898d6642e2\">\n",
              "    <div class=\"colab-df-container\">\n",
              "      <div>\n",
              "<style scoped>\n",
              "    .dataframe tbody tr th:only-of-type {\n",
              "        vertical-align: middle;\n",
              "    }\n",
              "\n",
              "    .dataframe tbody tr th {\n",
              "        vertical-align: top;\n",
              "    }\n",
              "\n",
              "    .dataframe thead th {\n",
              "        text-align: right;\n",
              "    }\n",
              "</style>\n",
              "<table border=\"1\" class=\"dataframe\">\n",
              "  <thead>\n",
              "    <tr style=\"text-align: right;\">\n",
              "      <th></th>\n",
              "      <th>Age</th>\n",
              "      <th>Gender</th>\n",
              "      <th>Family_Diabetes</th>\n",
              "      <th>highBP</th>\n",
              "      <th>PhysicallyActive</th>\n",
              "      <th>BMI</th>\n",
              "      <th>Smoking</th>\n",
              "      <th>Alcohol</th>\n",
              "      <th>Sleep</th>\n",
              "      <th>RegularMedicine</th>\n",
              "      <th>JunkFood</th>\n",
              "      <th>Stress</th>\n",
              "      <th>BPLevel</th>\n",
              "      <th>Pregancies</th>\n",
              "      <th>UriationFreq</th>\n",
              "    </tr>\n",
              "  </thead>\n",
              "  <tbody>\n",
              "    <tr>\n",
              "      <th>0</th>\n",
              "      <td>50-59</td>\n",
              "      <td>Male</td>\n",
              "      <td>no</td>\n",
              "      <td>yes</td>\n",
              "      <td>one hr or more</td>\n",
              "      <td>39.0</td>\n",
              "      <td>no</td>\n",
              "      <td>no</td>\n",
              "      <td>8</td>\n",
              "      <td>no</td>\n",
              "      <td>occasionally</td>\n",
              "      <td>sometimes</td>\n",
              "      <td>high</td>\n",
              "      <td>0.0</td>\n",
              "      <td>not much</td>\n",
              "    </tr>\n",
              "    <tr>\n",
              "      <th>1</th>\n",
              "      <td>50-59</td>\n",
              "      <td>Male</td>\n",
              "      <td>no</td>\n",
              "      <td>yes</td>\n",
              "      <td>less than half an hr</td>\n",
              "      <td>28.0</td>\n",
              "      <td>no</td>\n",
              "      <td>no</td>\n",
              "      <td>8</td>\n",
              "      <td>yes</td>\n",
              "      <td>very often</td>\n",
              "      <td>sometimes</td>\n",
              "      <td>normal</td>\n",
              "      <td>0.0</td>\n",
              "      <td>not much</td>\n",
              "    </tr>\n",
              "    <tr>\n",
              "      <th>2</th>\n",
              "      <td>40-49</td>\n",
              "      <td>Male</td>\n",
              "      <td>no</td>\n",
              "      <td>no</td>\n",
              "      <td>one hr or more</td>\n",
              "      <td>24.0</td>\n",
              "      <td>no</td>\n",
              "      <td>no</td>\n",
              "      <td>6</td>\n",
              "      <td>no</td>\n",
              "      <td>occasionally</td>\n",
              "      <td>sometimes</td>\n",
              "      <td>normal</td>\n",
              "      <td>0.0</td>\n",
              "      <td>not much</td>\n",
              "    </tr>\n",
              "    <tr>\n",
              "      <th>3</th>\n",
              "      <td>50-59</td>\n",
              "      <td>Male</td>\n",
              "      <td>no</td>\n",
              "      <td>no</td>\n",
              "      <td>one hr or more</td>\n",
              "      <td>23.0</td>\n",
              "      <td>no</td>\n",
              "      <td>no</td>\n",
              "      <td>8</td>\n",
              "      <td>no</td>\n",
              "      <td>occasionally</td>\n",
              "      <td>sometimes</td>\n",
              "      <td>normal</td>\n",
              "      <td>0.0</td>\n",
              "      <td>not much</td>\n",
              "    </tr>\n",
              "    <tr>\n",
              "      <th>4</th>\n",
              "      <td>40-49</td>\n",
              "      <td>Male</td>\n",
              "      <td>no</td>\n",
              "      <td>no</td>\n",
              "      <td>less than half an hr</td>\n",
              "      <td>27.0</td>\n",
              "      <td>no</td>\n",
              "      <td>no</td>\n",
              "      <td>8</td>\n",
              "      <td>no</td>\n",
              "      <td>occasionally</td>\n",
              "      <td>sometimes</td>\n",
              "      <td>normal</td>\n",
              "      <td>0.0</td>\n",
              "      <td>not much</td>\n",
              "    </tr>\n",
              "    <tr>\n",
              "      <th>...</th>\n",
              "      <td>...</td>\n",
              "      <td>...</td>\n",
              "      <td>...</td>\n",
              "      <td>...</td>\n",
              "      <td>...</td>\n",
              "      <td>...</td>\n",
              "      <td>...</td>\n",
              "      <td>...</td>\n",
              "      <td>...</td>\n",
              "      <td>...</td>\n",
              "      <td>...</td>\n",
              "      <td>...</td>\n",
              "      <td>...</td>\n",
              "      <td>...</td>\n",
              "      <td>...</td>\n",
              "    </tr>\n",
              "    <tr>\n",
              "      <th>947</th>\n",
              "      <td>less than 40</td>\n",
              "      <td>Male</td>\n",
              "      <td>yes</td>\n",
              "      <td>no</td>\n",
              "      <td>more than half an hr</td>\n",
              "      <td>25.0</td>\n",
              "      <td>no</td>\n",
              "      <td>no</td>\n",
              "      <td>8</td>\n",
              "      <td>no</td>\n",
              "      <td>often</td>\n",
              "      <td>sometimes</td>\n",
              "      <td>normal</td>\n",
              "      <td>0.0</td>\n",
              "      <td>not much</td>\n",
              "    </tr>\n",
              "    <tr>\n",
              "      <th>948</th>\n",
              "      <td>60 or older</td>\n",
              "      <td>Male</td>\n",
              "      <td>yes</td>\n",
              "      <td>yes</td>\n",
              "      <td>more than half an hr</td>\n",
              "      <td>27.0</td>\n",
              "      <td>no</td>\n",
              "      <td>no</td>\n",
              "      <td>6</td>\n",
              "      <td>yes</td>\n",
              "      <td>occasionally</td>\n",
              "      <td>sometimes</td>\n",
              "      <td>high</td>\n",
              "      <td>0.0</td>\n",
              "      <td>quite often</td>\n",
              "    </tr>\n",
              "    <tr>\n",
              "      <th>949</th>\n",
              "      <td>60 or older</td>\n",
              "      <td>Male</td>\n",
              "      <td>no</td>\n",
              "      <td>yes</td>\n",
              "      <td>none</td>\n",
              "      <td>23.0</td>\n",
              "      <td>no</td>\n",
              "      <td>no</td>\n",
              "      <td>6</td>\n",
              "      <td>yes</td>\n",
              "      <td>occasionally</td>\n",
              "      <td>sometimes</td>\n",
              "      <td>high</td>\n",
              "      <td>0.0</td>\n",
              "      <td>not much</td>\n",
              "    </tr>\n",
              "    <tr>\n",
              "      <th>950</th>\n",
              "      <td>60 or older</td>\n",
              "      <td>Male</td>\n",
              "      <td>no</td>\n",
              "      <td>yes</td>\n",
              "      <td>less than half an hr</td>\n",
              "      <td>27.0</td>\n",
              "      <td>no</td>\n",
              "      <td>yes</td>\n",
              "      <td>6</td>\n",
              "      <td>yes</td>\n",
              "      <td>occasionally</td>\n",
              "      <td>very often</td>\n",
              "      <td>high</td>\n",
              "      <td>0.0</td>\n",
              "      <td>not much</td>\n",
              "    </tr>\n",
              "    <tr>\n",
              "      <th>951</th>\n",
              "      <td>60 or older</td>\n",
              "      <td>Female</td>\n",
              "      <td>yes</td>\n",
              "      <td>yes</td>\n",
              "      <td>one hr or more</td>\n",
              "      <td>30.0</td>\n",
              "      <td>no</td>\n",
              "      <td>no</td>\n",
              "      <td>7</td>\n",
              "      <td>yes</td>\n",
              "      <td>occasionally</td>\n",
              "      <td>sometimes</td>\n",
              "      <td>high</td>\n",
              "      <td>2.0</td>\n",
              "      <td>quite often</td>\n",
              "    </tr>\n",
              "  </tbody>\n",
              "</table>\n",
              "<p>952 rows × 15 columns</p>\n",
              "</div>\n",
              "      <button class=\"colab-df-convert\" onclick=\"convertToInteractive('df-40373a60-986e-4e64-9b5c-0a898d6642e2')\"\n",
              "              title=\"Convert this dataframe to an interactive table.\"\n",
              "              style=\"display:none;\">\n",
              "        \n",
              "  <svg xmlns=\"http://www.w3.org/2000/svg\" height=\"24px\"viewBox=\"0 0 24 24\"\n",
              "       width=\"24px\">\n",
              "    <path d=\"M0 0h24v24H0V0z\" fill=\"none\"/>\n",
              "    <path d=\"M18.56 5.44l.94 2.06.94-2.06 2.06-.94-2.06-.94-.94-2.06-.94 2.06-2.06.94zm-11 1L8.5 8.5l.94-2.06 2.06-.94-2.06-.94L8.5 2.5l-.94 2.06-2.06.94zm10 10l.94 2.06.94-2.06 2.06-.94-2.06-.94-.94-2.06-.94 2.06-2.06.94z\"/><path d=\"M17.41 7.96l-1.37-1.37c-.4-.4-.92-.59-1.43-.59-.52 0-1.04.2-1.43.59L10.3 9.45l-7.72 7.72c-.78.78-.78 2.05 0 2.83L4 21.41c.39.39.9.59 1.41.59.51 0 1.02-.2 1.41-.59l7.78-7.78 2.81-2.81c.8-.78.8-2.07 0-2.86zM5.41 20L4 18.59l7.72-7.72 1.47 1.35L5.41 20z\"/>\n",
              "  </svg>\n",
              "      </button>\n",
              "      \n",
              "  <style>\n",
              "    .colab-df-container {\n",
              "      display:flex;\n",
              "      flex-wrap:wrap;\n",
              "      gap: 12px;\n",
              "    }\n",
              "\n",
              "    .colab-df-convert {\n",
              "      background-color: #E8F0FE;\n",
              "      border: none;\n",
              "      border-radius: 50%;\n",
              "      cursor: pointer;\n",
              "      display: none;\n",
              "      fill: #1967D2;\n",
              "      height: 32px;\n",
              "      padding: 0 0 0 0;\n",
              "      width: 32px;\n",
              "    }\n",
              "\n",
              "    .colab-df-convert:hover {\n",
              "      background-color: #E2EBFA;\n",
              "      box-shadow: 0px 1px 2px rgba(60, 64, 67, 0.3), 0px 1px 3px 1px rgba(60, 64, 67, 0.15);\n",
              "      fill: #174EA6;\n",
              "    }\n",
              "\n",
              "    [theme=dark] .colab-df-convert {\n",
              "      background-color: #3B4455;\n",
              "      fill: #D2E3FC;\n",
              "    }\n",
              "\n",
              "    [theme=dark] .colab-df-convert:hover {\n",
              "      background-color: #434B5C;\n",
              "      box-shadow: 0px 1px 3px 1px rgba(0, 0, 0, 0.15);\n",
              "      filter: drop-shadow(0px 1px 2px rgba(0, 0, 0, 0.3));\n",
              "      fill: #FFFFFF;\n",
              "    }\n",
              "  </style>\n",
              "\n",
              "      <script>\n",
              "        const buttonEl =\n",
              "          document.querySelector('#df-40373a60-986e-4e64-9b5c-0a898d6642e2 button.colab-df-convert');\n",
              "        buttonEl.style.display =\n",
              "          google.colab.kernel.accessAllowed ? 'block' : 'none';\n",
              "\n",
              "        async function convertToInteractive(key) {\n",
              "          const element = document.querySelector('#df-40373a60-986e-4e64-9b5c-0a898d6642e2');\n",
              "          const dataTable =\n",
              "            await google.colab.kernel.invokeFunction('convertToInteractive',\n",
              "                                                     [key], {});\n",
              "          if (!dataTable) return;\n",
              "\n",
              "          const docLinkHtml = 'Like what you see? Visit the ' +\n",
              "            '<a target=\"_blank\" href=https://colab.research.google.com/notebooks/data_table.ipynb>data table notebook</a>'\n",
              "            + ' to learn more about interactive tables.';\n",
              "          element.innerHTML = '';\n",
              "          dataTable['output_type'] = 'display_data';\n",
              "          await google.colab.output.renderOutput(dataTable, element);\n",
              "          const docLink = document.createElement('div');\n",
              "          docLink.innerHTML = docLinkHtml;\n",
              "          element.appendChild(docLink);\n",
              "        }\n",
              "      </script>\n",
              "    </div>\n",
              "  </div>\n",
              "  "
            ]
          },
          "metadata": {},
          "execution_count": 23
        }
      ]
    },
    {
      "cell_type": "markdown",
      "source": [
        "## 3. Data Visualization"
      ],
      "metadata": {
        "id": "ENPm1cm20MRH"
      }
    },
    {
      "cell_type": "markdown",
      "source": [
        "**Eploratory Data Analysis (EDA)**"
      ],
      "metadata": {
        "id": "Kmt5tnjKb_Th"
      }
    },
    {
      "cell_type": "markdown",
      "source": [
        "we will not use exploratory data analysis like in the previous class, we'll take another apporach to visualize data"
      ],
      "metadata": {
        "id": "_sXK6PePvNOv"
      }
    },
    {
      "cell_type": "markdown",
      "source": [
        "**3.1 Check Outliers**\n",
        "\n",
        "Outliers are values at the extreme ends of a dataset.\n",
        "\n",
        "Some outliers represent true values from natural variation in the population. Other outliers may result from incorrect data entry, equipment malfunctions, or other measurement errors.\n",
        "\n",
        "An outlier isn’t always a form of dirty or incorrect data, so you have to be careful with them in data cleansing. What you should do with an outlier depends on its most likely cause.\n",
        "\n",
        "for more info: https://www.scribbr.com/statistics/outliers/"
      ],
      "metadata": {
        "id": "FZB03O6btxDd"
      }
    },
    {
      "cell_type": "markdown",
      "source": [
        "To find out the outliers in the dataset and to find out the mean and min in this dataset"
      ],
      "metadata": {
        "id": "qpEPvMf8VbpJ"
      }
    },
    {
      "cell_type": "code",
      "execution_count": 24,
      "metadata": {
        "colab": {
          "base_uri": "https://localhost:8080/",
          "height": 300
        },
        "id": "0V45x0tn28_2",
        "outputId": "970bf480-bf08-41c7-df6d-b958dfa9abba"
      },
      "outputs": [
        {
          "output_type": "execute_result",
          "data": {
            "text/plain": [
              "              BMI       Sleep  Pregancies\n",
              "count  952.000000  952.000000  952.000000\n",
              "mean    25.763713    6.949580    0.386813\n",
              "std      5.391222    1.273189    0.889146\n",
              "min     15.000000    4.000000    0.000000\n",
              "25%     22.000000    6.000000    0.000000\n",
              "50%     25.000000    7.000000    0.000000\n",
              "75%     29.000000    8.000000    0.000000\n",
              "max     45.000000   11.000000    4.000000"
            ],
            "text/html": [
              "\n",
              "  <div id=\"df-8a2cba79-73ff-4f3f-8fdb-bf054595e343\">\n",
              "    <div class=\"colab-df-container\">\n",
              "      <div>\n",
              "<style scoped>\n",
              "    .dataframe tbody tr th:only-of-type {\n",
              "        vertical-align: middle;\n",
              "    }\n",
              "\n",
              "    .dataframe tbody tr th {\n",
              "        vertical-align: top;\n",
              "    }\n",
              "\n",
              "    .dataframe thead th {\n",
              "        text-align: right;\n",
              "    }\n",
              "</style>\n",
              "<table border=\"1\" class=\"dataframe\">\n",
              "  <thead>\n",
              "    <tr style=\"text-align: right;\">\n",
              "      <th></th>\n",
              "      <th>BMI</th>\n",
              "      <th>Sleep</th>\n",
              "      <th>Pregancies</th>\n",
              "    </tr>\n",
              "  </thead>\n",
              "  <tbody>\n",
              "    <tr>\n",
              "      <th>count</th>\n",
              "      <td>952.000000</td>\n",
              "      <td>952.000000</td>\n",
              "      <td>952.000000</td>\n",
              "    </tr>\n",
              "    <tr>\n",
              "      <th>mean</th>\n",
              "      <td>25.763713</td>\n",
              "      <td>6.949580</td>\n",
              "      <td>0.386813</td>\n",
              "    </tr>\n",
              "    <tr>\n",
              "      <th>std</th>\n",
              "      <td>5.391222</td>\n",
              "      <td>1.273189</td>\n",
              "      <td>0.889146</td>\n",
              "    </tr>\n",
              "    <tr>\n",
              "      <th>min</th>\n",
              "      <td>15.000000</td>\n",
              "      <td>4.000000</td>\n",
              "      <td>0.000000</td>\n",
              "    </tr>\n",
              "    <tr>\n",
              "      <th>25%</th>\n",
              "      <td>22.000000</td>\n",
              "      <td>6.000000</td>\n",
              "      <td>0.000000</td>\n",
              "    </tr>\n",
              "    <tr>\n",
              "      <th>50%</th>\n",
              "      <td>25.000000</td>\n",
              "      <td>7.000000</td>\n",
              "      <td>0.000000</td>\n",
              "    </tr>\n",
              "    <tr>\n",
              "      <th>75%</th>\n",
              "      <td>29.000000</td>\n",
              "      <td>8.000000</td>\n",
              "      <td>0.000000</td>\n",
              "    </tr>\n",
              "    <tr>\n",
              "      <th>max</th>\n",
              "      <td>45.000000</td>\n",
              "      <td>11.000000</td>\n",
              "      <td>4.000000</td>\n",
              "    </tr>\n",
              "  </tbody>\n",
              "</table>\n",
              "</div>\n",
              "      <button class=\"colab-df-convert\" onclick=\"convertToInteractive('df-8a2cba79-73ff-4f3f-8fdb-bf054595e343')\"\n",
              "              title=\"Convert this dataframe to an interactive table.\"\n",
              "              style=\"display:none;\">\n",
              "        \n",
              "  <svg xmlns=\"http://www.w3.org/2000/svg\" height=\"24px\"viewBox=\"0 0 24 24\"\n",
              "       width=\"24px\">\n",
              "    <path d=\"M0 0h24v24H0V0z\" fill=\"none\"/>\n",
              "    <path d=\"M18.56 5.44l.94 2.06.94-2.06 2.06-.94-2.06-.94-.94-2.06-.94 2.06-2.06.94zm-11 1L8.5 8.5l.94-2.06 2.06-.94-2.06-.94L8.5 2.5l-.94 2.06-2.06.94zm10 10l.94 2.06.94-2.06 2.06-.94-2.06-.94-.94-2.06-.94 2.06-2.06.94z\"/><path d=\"M17.41 7.96l-1.37-1.37c-.4-.4-.92-.59-1.43-.59-.52 0-1.04.2-1.43.59L10.3 9.45l-7.72 7.72c-.78.78-.78 2.05 0 2.83L4 21.41c.39.39.9.59 1.41.59.51 0 1.02-.2 1.41-.59l7.78-7.78 2.81-2.81c.8-.78.8-2.07 0-2.86zM5.41 20L4 18.59l7.72-7.72 1.47 1.35L5.41 20z\"/>\n",
              "  </svg>\n",
              "      </button>\n",
              "      \n",
              "  <style>\n",
              "    .colab-df-container {\n",
              "      display:flex;\n",
              "      flex-wrap:wrap;\n",
              "      gap: 12px;\n",
              "    }\n",
              "\n",
              "    .colab-df-convert {\n",
              "      background-color: #E8F0FE;\n",
              "      border: none;\n",
              "      border-radius: 50%;\n",
              "      cursor: pointer;\n",
              "      display: none;\n",
              "      fill: #1967D2;\n",
              "      height: 32px;\n",
              "      padding: 0 0 0 0;\n",
              "      width: 32px;\n",
              "    }\n",
              "\n",
              "    .colab-df-convert:hover {\n",
              "      background-color: #E2EBFA;\n",
              "      box-shadow: 0px 1px 2px rgba(60, 64, 67, 0.3), 0px 1px 3px 1px rgba(60, 64, 67, 0.15);\n",
              "      fill: #174EA6;\n",
              "    }\n",
              "\n",
              "    [theme=dark] .colab-df-convert {\n",
              "      background-color: #3B4455;\n",
              "      fill: #D2E3FC;\n",
              "    }\n",
              "\n",
              "    [theme=dark] .colab-df-convert:hover {\n",
              "      background-color: #434B5C;\n",
              "      box-shadow: 0px 1px 3px 1px rgba(0, 0, 0, 0.15);\n",
              "      filter: drop-shadow(0px 1px 2px rgba(0, 0, 0, 0.3));\n",
              "      fill: #FFFFFF;\n",
              "    }\n",
              "  </style>\n",
              "\n",
              "      <script>\n",
              "        const buttonEl =\n",
              "          document.querySelector('#df-8a2cba79-73ff-4f3f-8fdb-bf054595e343 button.colab-df-convert');\n",
              "        buttonEl.style.display =\n",
              "          google.colab.kernel.accessAllowed ? 'block' : 'none';\n",
              "\n",
              "        async function convertToInteractive(key) {\n",
              "          const element = document.querySelector('#df-8a2cba79-73ff-4f3f-8fdb-bf054595e343');\n",
              "          const dataTable =\n",
              "            await google.colab.kernel.invokeFunction('convertToInteractive',\n",
              "                                                     [key], {});\n",
              "          if (!dataTable) return;\n",
              "\n",
              "          const docLinkHtml = 'Like what you see? Visit the ' +\n",
              "            '<a target=\"_blank\" href=https://colab.research.google.com/notebooks/data_table.ipynb>data table notebook</a>'\n",
              "            + ' to learn more about interactive tables.';\n",
              "          element.innerHTML = '';\n",
              "          dataTable['output_type'] = 'display_data';\n",
              "          await google.colab.output.renderOutput(dataTable, element);\n",
              "          const docLink = document.createElement('div');\n",
              "          docLink.innerHTML = docLinkHtml;\n",
              "          element.appendChild(docLink);\n",
              "        }\n",
              "      </script>\n",
              "    </div>\n",
              "  </div>\n",
              "  "
            ]
          },
          "metadata": {},
          "execution_count": 24
        }
      ],
      "source": [
        "dataset.describe()"
      ]
    },
    {
      "cell_type": "markdown",
      "source": [
        "Visualizing data using matplotlib obtained overlapping data, namely the BMI, Pregancies and sleep columns and there are data outliers in the BMI, Pregancies and Sleep columns because there are points far from the data set below. However, to check whether there is outlier data or not, it is not enough to just use this graph."
      ],
      "metadata": {
        "id": "WyWmQ7iaWHo0"
      }
    },
    {
      "cell_type": "code",
      "source": [
        "import matplotlib.pyplot as plt\n",
        "%matplotlib inline\n",
        "dataset.plot()"
      ],
      "metadata": {
        "colab": {
          "base_uri": "https://localhost:8080/",
          "height": 447
        },
        "id": "hVyPVG8wv4Rd",
        "outputId": "1948e521-de43-4418-cd0a-4cec3ec326d5"
      },
      "execution_count": 25,
      "outputs": [
        {
          "output_type": "execute_result",
          "data": {
            "text/plain": [
              "<Axes: >"
            ]
          },
          "metadata": {},
          "execution_count": 25
        },
        {
          "output_type": "display_data",
          "data": {
            "text/plain": [
              "<Figure size 640x480 with 1 Axes>"
            ],
            "image/png": "[encoded data removed]"
          },
          "metadata": {}
        }
      ]
    },
    {
      "cell_type": "markdown",
      "source": [
        "Next, use the boxplot to check for the presence or absence of outliers. and there are points that are far from other points, namely in the BMI column and prengacies. and further cleaning is carried out."
      ],
      "metadata": {
        "id": "B1EA8Ab4X9lf"
      }
    },
    {
      "cell_type": "code",
      "source": [
        "import seaborn as sns\n",
        "%matplotlib inline\n",
        "\n",
        "sns.set(rc={'figure.figsize':(11,8)}, font_scale=1.5, style='whitegrid')\n",
        "\n",
        "# tips = sns.load_dataset(dataset)\n",
        "sns.boxplot(data=dataset, orient=\"h\");"
      ],
      "metadata": {
        "colab": {
          "base_uri": "https://localhost:8080/",
          "height": 657
        },
        "id": "Sg0KQswrw-aG",
        "outputId": "02e7940b-802b-4554-ad65-7479df04350e"
      },
      "execution_count": 26,
      "outputs": [
        {
          "output_type": "display_data",
          "data": {
            "text/plain": [
              "<Figure size 1100x800 with 1 Axes>"
            ],
            "image/png": "[encoded data removed]"
          },
          "metadata": {}
        }
      ]
    },
    {
      "cell_type": "markdown",
      "source": [
        "Another visualization is scatter plot. With this scatter plot will display points called data points and there are points that are far from other data and points that are called outliers"
      ],
      "metadata": {
        "id": "IDiK47ZmYj9g"
      }
    },
    {
      "cell_type": "code",
      "source": [
        "# Scatter plot\n",
        "fig, ax = plt.subplots(figsize = (15,7))\n",
        "ax.scatter(dataset['Pregancies'], dataset['BMI'])\n",
        " \n",
        "# x-axis label\n",
        "ax.set_xlabel('BMI')\n",
        " \n",
        "# y-axis label\n",
        "ax.set_ylabel('Pregancies')\n",
        "plt.show()"
      ],
      "metadata": {
        "colab": {
          "base_uri": "https://localhost:8080/",
          "height": 496
        },
        "id": "QF-Yo7Mc1BJH",
        "outputId": "38625f63-78a3-457f-a2fd-d225fbad167d"
      },
      "execution_count": 27,
      "outputs": [
        {
          "output_type": "display_data",
          "data": {
            "text/plain": [
              "<Figure size 1500x700 with 1 Axes>"
            ],
            "image/png": "[encoded data removed]"
          },
          "metadata": {}
        }
      ]
    },
    {
      "cell_type": "markdown",
      "source": [
        "**Removing the outliers using IQR**\n",
        "\n",
        "**IQR (Inter Quartile Range)**\n",
        "\n",
        "IQR = Quartile3 – Quartile1\n",
        "\n",
        "Quartile description: https://rumusbilangan.com/rumus-kuartil/\n"
      ],
      "metadata": {
        "id": "QNqE47dr2hr4"
      }
    },
    {
      "cell_type": "markdown",
      "source": [
        "IQR is interpolation method to remove outliers\n",
        "\n",
        "To define the outlier base value is defined above and below datasets normal range namely Upper and Lower bounds, define the upper and the lower bound (1.5*IQR value is considered) :\n",
        "\n",
        "upper = Q3 +1.5*IQR\n",
        "\n",
        "lower = Q1 – 1.5*IQR\n",
        "\n",
        "how to calculate IQR:\n",
        "\n",
        "https://www.timesmojo.com/what-is-the-15-iqr-rule/\n",
        "\n",
        "https://www.geeksforgeeks.org/detect-and-remove-the-outliers-using-python/\n",
        "\n",
        "In the above formula as according to statistics, the 0.5 scale-up of IQR (new_IQR = IQR + 0.5*IQR) is taken, to consider all the data between 2.7 standard deviations in the Gaussian Distribution."
      ],
      "metadata": {
        "id": "5m0lhYyq3Xn7"
      }
    },
    {
      "cell_type": "markdown",
      "source": [
        "Using the inter Quartil method then determine Q1 which is 25% and Q3 which is 75%. and displays the initial dataset size of 952 rows and 15 columns."
      ],
      "metadata": {
        "id": "xoHBxXdgZaf4"
      }
    },
    {
      "cell_type": "code",
      "source": [
        "import sklearn\n",
        "\n",
        "# IQR Price\n",
        "Q1 = np.percentile(dataset['Pregancies'], 25,\n",
        "                   method = 'midpoint')\n",
        " \n",
        "Q3 = np.percentile(dataset['Pregancies'], 75,\n",
        "                   method = 'midpoint')\n",
        "IQR = Q3 - Q1\n",
        " \n",
        "print(\"Old Shape: \", dataset.shape)"
      ],
      "metadata": {
        "colab": {
          "base_uri": "https://localhost:8080/"
        },
        "id": "jL9XfyUY6L58",
        "outputId": "f1a25f64-2777-408e-a2c0-d1a2fd7d2d80"
      },
      "execution_count": 29,
      "outputs": [
        {
          "output_type": "stream",
          "name": "stdout",
          "text": [
            "Old Shape:  (952, 15)\n"
          ]
        }
      ]
    },
    {
      "cell_type": "markdown",
      "source": [
        "Next, clean the outliers data and get the latest data, namely 754 rows and 15 columns after it has been cleaned of outliers. And that just removed the outliers in Prengacies' data."
      ],
      "metadata": {
        "id": "uJQs45OxeF43"
      }
    },
    {
      "cell_type": "code",
      "source": [
        "# Upper bound\n",
        "upper = Q3 + 1.5 * IQR\n",
        "\n",
        "# Lower bound\n",
        "lower = Q1 - 1.5 * IQR\n",
        "\n",
        "# Finding the indices of the outliers\n",
        "outliers_upper = dataset[dataset['Pregancies'] > upper].index\n",
        "outliers_lower = dataset[dataset['Pregancies'] < lower].index\n",
        "\n",
        "# Concatenate the indices of the outliers\n",
        "outliers = outliers_upper.append(outliers_lower)\n",
        "\n",
        "# Removing the outliers\n",
        "dataset.drop(outliers, inplace=True)\n",
        "\n",
        "print(\"New Shape: \", dataset.shape)\n"
      ],
      "metadata": {
        "colab": {
          "base_uri": "https://localhost:8080/"
        },
        "id": "WIZyhdHL6orp",
        "outputId": "9c6bd18a-6eea-42d9-cdb9-1333f75648da"
      },
      "execution_count": 30,
      "outputs": [
        {
          "output_type": "stream",
          "name": "stdout",
          "text": [
            "New Shape:  (754, 15)\n"
          ]
        }
      ]
    },
    {
      "cell_type": "markdown",
      "source": [
        "Displays the initial data of 754 rows and 15 columns in BMI."
      ],
      "metadata": {
        "id": "oPrrKpyne4vI"
      }
    },
    {
      "cell_type": "code",
      "source": [
        "import sklearn\n",
        "\n",
        "# IQR Landsize\n",
        "Q1 = np.percentile(dataset['BMI'], 25,\n",
        "                   method = 'midpoint')\n",
        " \n",
        "Q3 = np.percentile(dataset['BMI'], 75,\n",
        "                   method = 'midpoint')\n",
        "IQR = Q3 - Q1\n",
        " \n",
        "print(\"Old Shape: \", dataset.shape)"
      ],
      "metadata": {
        "colab": {
          "base_uri": "https://localhost:8080/"
        },
        "id": "NV-D28kj63xj",
        "outputId": "19f5a3c0-4ad7-4676-8619-550b92b91d76"
      },
      "execution_count": 31,
      "outputs": [
        {
          "output_type": "stream",
          "name": "stdout",
          "text": [
            "Old Shape:  (754, 15)\n"
          ]
        }
      ]
    },
    {
      "cell_type": "markdown",
      "source": [
        "After clearing of outliers there are 725 rows and 15 columns."
      ],
      "metadata": {
        "id": "b-3yxhuqfJ2d"
      }
    },
    {
      "cell_type": "code",
      "source": [
        "# Upper bound\n",
        "upper = Q3 + 1.5 * IQR\n",
        "\n",
        "# Lower bound\n",
        "lower = Q1 - 1.5 * IQR\n",
        "\n",
        "# Finding the indices of the outliers\n",
        "outliers_upper = dataset[dataset['BMI'] > upper].index\n",
        "outliers_lower = dataset[dataset['BMI'] < lower].index\n",
        "\n",
        "# Concatenate the indices of the outliers\n",
        "outliers = outliers_upper.append(outliers_lower)\n",
        "\n",
        "# Removing the outliers\n",
        "dataset.drop(outliers, inplace=True)\n",
        "\n",
        "print(\"New Shape: \", dataset.shape)\n"
      ],
      "metadata": {
        "colab": {
          "base_uri": "https://localhost:8080/"
        },
        "id": "raHbRnEQ66Ai",
        "outputId": "165cf3c0-8bd5-4d72-b489-1ad4a99a166c"
      },
      "execution_count": 32,
      "outputs": [
        {
          "output_type": "stream",
          "name": "stdout",
          "text": [
            "New Shape:  (725, 15)\n"
          ]
        }
      ]
    },
    {
      "cell_type": "markdown",
      "source": [
        "After cleaning the otliers data. Re-visualize with a boxplot whether there is otliers data or not. And the result is that there are no data outliers anymore."
      ],
      "metadata": {
        "id": "aB41AJGBABHX"
      }
    },
    {
      "cell_type": "code",
      "execution_count": 43,
      "metadata": {
        "colab": {
          "base_uri": "https://localhost:8080/",
          "height": 657
        },
        "id": "vR-0FpAR4wNE",
        "outputId": "931f31a3-4be5-4cf2-abc5-e190c4d25ebd"
      },
      "outputs": [
        {
          "output_type": "display_data",
          "data": {
            "text/plain": [
              "<Figure size 1100x800 with 1 Axes>"
            ],
            "image/png": "[encoded data removed]"
          },
          "metadata": {}
        }
      ],
      "source": [
        "import seaborn as sns\n",
        "%matplotlib inline\n",
        "\n",
        "sns.set(rc={'figure.figsize':(11,8)}, font_scale=1.5, style='whitegrid')\n",
        "\n",
        "# tips = sns.load_dataset(dataset)\n",
        "sns.boxplot(data=dataset, orient=\"h\");"
      ]
    },
    {
      "cell_type": "markdown",
      "source": [
        "To ensure that there are no more outliers, a scatter plot is checked and the results are no longer far apart and have gathered in one place."
      ],
      "metadata": {
        "id": "VeyyfqV1gJnG"
      }
    },
    {
      "cell_type": "code",
      "source": [
        "# Scatter plot\n",
        "fig, ax = plt.subplots(figsize = (15,7))\n",
        "ax.scatter(dataset['BMI'], dataset['Pregancies'])\n",
        " \n",
        "# x-axis label\n",
        "ax.set_xlabel('Pregancies')\n",
        " \n",
        "# y-axis label\n",
        "ax.set_ylabel('BMI')\n",
        "plt.show()"
      ],
      "metadata": {
        "colab": {
          "base_uri": "https://localhost:8080/",
          "height": 481
        },
        "id": "kp3nBBsZ8qQm",
        "outputId": "2c6db376-f6f4-4679-a9b9-96a51b22e3a0"
      },
      "execution_count": 51,
      "outputs": [
        {
          "output_type": "display_data",
          "data": {
            "text/plain": [
              "<Figure size 1500x700 with 1 Axes>"
            ],
            "image/png": "[encoded data removed]"
          },
          "metadata": {}
        }
      ]
    },
    {
      "cell_type": "markdown",
      "source": [
        "Show data distribution based on density (kde - kernel density estimation)"
      ],
      "metadata": {
        "id": "LsjkfEScBUoN"
      }
    },
    {
      "cell_type": "markdown",
      "source": [
        "Displays the density of the data using the kde plot and the average of the data collected in the middle of the center."
      ],
      "metadata": {
        "id": "yrqJ1_OjiJwx"
      }
    },
    {
      "cell_type": "code",
      "execution_count": 58,
      "metadata": {
        "colab": {
          "base_uri": "https://localhost:8080/",
          "height": 187
        },
        "id": "aiF0oNG7_bPz",
        "outputId": "94782ce4-46d6-4074-dce7-eeded5b0b6bb"
      },
      "outputs": [
        {
          "output_type": "display_data",
          "data": {
            "text/plain": [
              "<Figure size 1500x1200 with 20 Axes>"
            ],
            "image/png": "[encoded data removed]"
          },
          "metadata": {}
        }
      ],
      "source": [
        "dataset.plot(kind='kde',subplots=True,layout=(10,2),figsize=(15,12), sharex=False)\n",
        "plt.show()"
      ]
    },
    {
      "cell_type": "markdown",
      "source": [
        "Displaying data distribution using bar charts and BMI data has varied data because of the ups and downs of bar charts."
      ],
      "metadata": {
        "id": "z6ibtFoliqQY"
      }
    },
    {
      "cell_type": "code",
      "source": [
        "dataset.plot(kind='hist',subplots=True,layout=(10,2),figsize=(15,12), sharex=False)\n",
        "plt.show()"
      ],
      "metadata": {
        "colab": {
          "base_uri": "https://localhost:8080/",
          "height": 190
        },
        "id": "oGUJFv6oj_Ub",
        "outputId": "01adec9b-dac3-4fad-b5fe-35b14149cf21"
      },
      "execution_count": 59,
      "outputs": [
        {
          "output_type": "display_data",
          "data": {
            "text/plain": [
              "<Figure size 1500x1200 with 20 Axes>"
            ],
            "image/png": "[encoded data removed]"
          },
          "metadata": {}
        }
      ]
    },
    {
      "cell_type": "markdown",
      "source": [
        "Display the chart in line form and get a graph that goes up and down like a signal."
      ],
      "metadata": {
        "id": "MXeRaL5DjWXz"
      }
    },
    {
      "cell_type": "code",
      "source": [
        "dataset.plot(kind='line',subplots=True,layout=(10,2),figsize=(15,12), sharex=False)\n",
        "plt.show()"
      ],
      "metadata": {
        "colab": {
          "base_uri": "https://localhost:8080/",
          "height": 196
        },
        "id": "MGk91iI0kZ_3",
        "outputId": "798e2fd9-6dbc-4e4f-cc0e-5c863ca6834d"
      },
      "execution_count": 61,
      "outputs": [
        {
          "output_type": "display_data",
          "data": {
            "text/plain": [
              "<Figure size 1500x1200 with 20 Axes>"
            ],
            "image/png": "[encoded data removed]"
          },
          "metadata": {}
        }
      ]
    },
    {
      "cell_type": "markdown",
      "source": [
        "**3.2 CORRELATION MATRIX**"
      ],
      "metadata": {
        "id": "Rdb2Vu6ER6bG"
      }
    },
    {
      "cell_type": "markdown",
      "source": [
        "Displaying a correlation matrix using scatter plots and diagonal rows displays a bar chart because column A is compared to column A and column B is compared to column B which means it has a high correlation."
      ],
      "metadata": {
        "id": "lCEziPE8kXcB"
      }
    },
    {
      "cell_type": "code",
      "execution_count": 33,
      "metadata": {
        "colab": {
          "base_uri": "https://localhost:8080/",
          "height": 1000
        },
        "id": "JJfeTBE8AoEU",
        "outputId": "60ea2bcd-d4fe-45c1-bfc8-8463a885d621"
      },
      "outputs": [
        {
          "output_type": "stream",
          "name": "stderr",
          "text": [
            "/usr/local/lib/python3.10/dist-packages/pandas/plotting/_matplotlib/misc.py:101: UserWarning: Attempting to set identical low and high xlims makes transformation singular; automatically expanding.\n",
            "  ax.set_xlim(boundaries_list[j])\n",
            "/usr/local/lib/python3.10/dist-packages/pandas/plotting/_matplotlib/misc.py:102: UserWarning: Attempting to set identical low and high ylims makes transformation singular; automatically expanding.\n",
            "  ax.set_ylim(boundaries_list[i])\n",
            "/usr/local/lib/python3.10/dist-packages/pandas/plotting/_matplotlib/misc.py:92: UserWarning: Attempting to set identical low and high xlims makes transformation singular; automatically expanding.\n",
            "  ax.set_xlim(boundaries_list[i])\n"
          ]
        },
        {
          "output_type": "display_data",
          "data": {
            "text/plain": [
              "<Figure size 1200x1200 with 9 Axes>"
            ],
            "image/png": "[encoded data removed]"
          },
          "metadata": {}
        }
      ],
      "source": [
        "pd.plotting.scatter_matrix(dataset,figsize=(12,12))\n",
        "plt.show()"
      ]
    },
    {
      "cell_type": "markdown",
      "source": [
        "correlation matrix with heatmap"
      ],
      "metadata": {
        "id": "3GkOv0zVElyF"
      }
    },
    {
      "cell_type": "markdown",
      "source": [
        "Display correlation matrix using heatmap. For a diagonal line colored green and valued at 1, it means that it has a high correlation matrix because it compares with the same column. And the most severe correlation is red with a value of -0.059."
      ],
      "metadata": {
        "id": "zNh8eDAllPl8"
      }
    },
    {
      "cell_type": "code",
      "execution_count": 34,
      "metadata": {
        "colab": {
          "base_uri": "https://localhost:8080/",
          "height": 634
        },
        "id": "QOpTY-zcm2al",
        "outputId": "a0a65380-5eb2-4300-9cb3-608635008a83"
      },
      "outputs": [
        {
          "output_type": "stream",
          "name": "stderr",
          "text": [
            "<ipython-input-34-4b443a21f68f>:2: FutureWarning: The default value of numeric_only in DataFrame.corr is deprecated. In a future version, it will default to False. Select only valid columns or specify the value of numeric_only to silence this warning.\n",
            "  corr = corr_data.corr()\n"
          ]
        },
        {
          "output_type": "display_data",
          "data": {
            "text/plain": [
              "<Figure size 1500x700 with 2 Axes>"
            ],
            "image/png": "[encoded data removed]"
          },
          "metadata": {}
        }
      ],
      "source": [
        "corr_data = dataset\n",
        "corr = corr_data.corr()\n",
        "\n",
        "cor_plot = sns.heatmap(corr,annot=True,cmap='RdYlGn',linewidths=0.2,annot_kws={'size':10})\n",
        "fig=plt.gcf()\n",
        "fig.set_size_inches(15,7)\n",
        "plt.xticks(fontsize=10,rotation=-30)\n",
        "plt.yticks(fontsize=10)\n",
        "plt.title('Correlation Matrix')\n",
        "plt.show()"
      ]
    },
    {
      "cell_type": "markdown",
      "source": [
        "**4. Splitting Dataset**"
      ],
      "metadata": {
        "id": "Ue-S5QvcEZP3"
      }
    },
    {
      "cell_type": "markdown",
      "source": [
        "**4.1 Slicing**"
      ],
      "metadata": {
        "id": "y6eAqlWSHSCa"
      }
    },
    {
      "cell_type": "markdown",
      "source": [
        "We define x and y as x for data and y for label"
      ],
      "metadata": {
        "id": "bPWKEA19HYEQ"
      }
    },
    {
      "cell_type": "markdown",
      "source": [
        "Use gender as a data label"
      ],
      "metadata": {
        "id": "x4Gw9PqkmKrq"
      }
    },
    {
      "cell_type": "code",
      "source": [
        "x = dataset.drop('Gender', axis=1)\n",
        "x"
      ],
      "metadata": {
        "colab": {
          "base_uri": "https://localhost:8080/",
          "height": 731
        },
        "id": "hCep1ou2LfU1",
        "outputId": "b4591cd7-fa3d-4540-a923-85396c56b25d"
      },
      "execution_count": 38,
      "outputs": [
        {
          "output_type": "execute_result",
          "data": {
            "text/plain": [
              "              Age Family_Diabetes highBP      PhysicallyActive   BMI Smoking  \\\n",
              "1           50-59              no    yes  less than half an hr  28.0      no   \n",
              "2           40-49              no     no        one hr or more  24.0      no   \n",
              "3           50-59              no     no        one hr or more  23.0      no   \n",
              "4           40-49              no     no  less than half an hr  27.0      no   \n",
              "5           40-49              no    yes                  none  21.0      no   \n",
              "..            ...             ...    ...                   ...   ...     ...   \n",
              "946         40-49             yes    yes        one hr or more  22.0      no   \n",
              "947  less than 40             yes     no  more than half an hr  25.0      no   \n",
              "948   60 or older             yes    yes  more than half an hr  27.0      no   \n",
              "949   60 or older              no    yes                  none  23.0      no   \n",
              "950   60 or older              no    yes  less than half an hr  27.0      no   \n",
              "\n",
              "    Alcohol  Sleep RegularMedicine      JunkFood      Stress BPLevel  \\\n",
              "1        no      8             yes    very often   sometimes  normal   \n",
              "2        no      6              no  occasionally   sometimes  normal   \n",
              "3        no      8              no  occasionally   sometimes  normal   \n",
              "4        no      8              no  occasionally   sometimes  normal   \n",
              "5       yes     10              no  occasionally   sometimes    high   \n",
              "..      ...    ...             ...           ...         ...     ...   \n",
              "946      no      7             yes  occasionally   sometimes    high   \n",
              "947      no      8              no         often   sometimes  normal   \n",
              "948      no      6             yes  occasionally   sometimes    high   \n",
              "949      no      6             yes  occasionally   sometimes    high   \n",
              "950     yes      6             yes  occasionally  very often    high   \n",
              "\n",
              "     Pregancies UriationFreq  \n",
              "1           0.0     not much  \n",
              "2           0.0     not much  \n",
              "3           0.0     not much  \n",
              "4           0.0     not much  \n",
              "5           0.0     not much  \n",
              "..          ...          ...  \n",
              "946         0.0     not much  \n",
              "947         0.0     not much  \n",
              "948         0.0  quite often  \n",
              "949         0.0     not much  \n",
              "950         0.0     not much  \n",
              "\n",
              "[725 rows x 14 columns]"
            ],
            "text/html": [
              "\n",
              "  <div id=\"df-4c06c0a4-8e27-460b-88ee-767b3d9d5bb5\">\n",
              "    <div class=\"colab-df-container\">\n",
              "      <div>\n",
              "<style scoped>\n",
              "    .dataframe tbody tr th:only-of-type {\n",
              "        vertical-align: middle;\n",
              "    }\n",
              "\n",
              "    .dataframe tbody tr th {\n",
              "        vertical-align: top;\n",
              "    }\n",
              "\n",
              "    .dataframe thead th {\n",
              "        text-align: right;\n",
              "    }\n",
              "</style>\n",
              "<table border=\"1\" class=\"dataframe\">\n",
              "  <thead>\n",
              "    <tr style=\"text-align: right;\">\n",
              "      <th></th>\n",
              "      <th>Age</th>\n",
              "      <th>Family_Diabetes</th>\n",
              "      <th>highBP</th>\n",
              "      <th>PhysicallyActive</th>\n",
              "      <th>BMI</th>\n",
              "      <th>Smoking</th>\n",
              "      <th>Alcohol</th>\n",
              "      <th>Sleep</th>\n",
              "      <th>RegularMedicine</th>\n",
              "      <th>JunkFood</th>\n",
              "      <th>Stress</th>\n",
              "      <th>BPLevel</th>\n",
              "      <th>Pregancies</th>\n",
              "      <th>UriationFreq</th>\n",
              "    </tr>\n",
              "  </thead>\n",
              "  <tbody>\n",
              "    <tr>\n",
              "      <th>1</th>\n",
              "      <td>50-59</td>\n",
              "      <td>no</td>\n",
              "      <td>yes</td>\n",
              "      <td>less than half an hr</td>\n",
              "      <td>28.0</td>\n",
              "      <td>no</td>\n",
              "      <td>no</td>\n",
              "      <td>8</td>\n",
              "      <td>yes</td>\n",
              "      <td>very often</td>\n",
              "      <td>sometimes</td>\n",
              "      <td>normal</td>\n",
              "      <td>0.0</td>\n",
              "      <td>not much</td>\n",
              "    </tr>\n",
              "    <tr>\n",
              "      <th>2</th>\n",
              "      <td>40-49</td>\n",
              "      <td>no</td>\n",
              "      <td>no</td>\n",
              "      <td>one hr or more</td>\n",
              "      <td>24.0</td>\n",
              "      <td>no</td>\n",
              "      <td>no</td>\n",
              "      <td>6</td>\n",
              "      <td>no</td>\n",
              "      <td>occasionally</td>\n",
              "      <td>sometimes</td>\n",
              "      <td>normal</td>\n",
              "      <td>0.0</td>\n",
              "      <td>not much</td>\n",
              "    </tr>\n",
              "    <tr>\n",
              "      <th>3</th>\n",
              "      <td>50-59</td>\n",
              "      <td>no</td>\n",
              "      <td>no</td>\n",
              "      <td>one hr or more</td>\n",
              "      <td>23.0</td>\n",
              "      <td>no</td>\n",
              "      <td>no</td>\n",
              "      <td>8</td>\n",
              "      <td>no</td>\n",
              "      <td>occasionally</td>\n",
              "      <td>sometimes</td>\n",
              "      <td>normal</td>\n",
              "      <td>0.0</td>\n",
              "      <td>not much</td>\n",
              "    </tr>\n",
              "    <tr>\n",
              "      <th>4</th>\n",
              "      <td>40-49</td>\n",
              "      <td>no</td>\n",
              "      <td>no</td>\n",
              "      <td>less than half an hr</td>\n",
              "      <td>27.0</td>\n",
              "      <td>no</td>\n",
              "      <td>no</td>\n",
              "      <td>8</td>\n",
              "      <td>no</td>\n",
              "      <td>occasionally</td>\n",
              "      <td>sometimes</td>\n",
              "      <td>normal</td>\n",
              "      <td>0.0</td>\n",
              "      <td>not much</td>\n",
              "    </tr>\n",
              "    <tr>\n",
              "      <th>5</th>\n",
              "      <td>40-49</td>\n",
              "      <td>no</td>\n",
              "      <td>yes</td>\n",
              "      <td>none</td>\n",
              "      <td>21.0</td>\n",
              "      <td>no</td>\n",
              "      <td>yes</td>\n",
              "      <td>10</td>\n",
              "      <td>no</td>\n",
              "      <td>occasionally</td>\n",
              "      <td>sometimes</td>\n",
              "      <td>high</td>\n",
              "      <td>0.0</td>\n",
              "      <td>not much</td>\n",
              "    </tr>\n",
              "    <tr>\n",
              "      <th>...</th>\n",
              "      <td>...</td>\n",
              "      <td>...</td>\n",
              "      <td>...</td>\n",
              "      <td>...</td>\n",
              "      <td>...</td>\n",
              "      <td>...</td>\n",
              "      <td>...</td>\n",
              "      <td>...</td>\n",
              "      <td>...</td>\n",
              "      <td>...</td>\n",
              "      <td>...</td>\n",
              "      <td>...</td>\n",
              "      <td>...</td>\n",
              "      <td>...</td>\n",
              "    </tr>\n",
              "    <tr>\n",
              "      <th>946</th>\n",
              "      <td>40-49</td>\n",
              "      <td>yes</td>\n",
              "      <td>yes</td>\n",
              "      <td>one hr or more</td>\n",
              "      <td>22.0</td>\n",
              "      <td>no</td>\n",
              "      <td>no</td>\n",
              "      <td>7</td>\n",
              "      <td>yes</td>\n",
              "      <td>occasionally</td>\n",
              "      <td>sometimes</td>\n",
              "      <td>high</td>\n",
              "      <td>0.0</td>\n",
              "      <td>not much</td>\n",
              "    </tr>\n",
              "    <tr>\n",
              "      <th>947</th>\n",
              "      <td>less than 40</td>\n",
              "      <td>yes</td>\n",
              "      <td>no</td>\n",
              "      <td>more than half an hr</td>\n",
              "      <td>25.0</td>\n",
              "      <td>no</td>\n",
              "      <td>no</td>\n",
              "      <td>8</td>\n",
              "      <td>no</td>\n",
              "      <td>often</td>\n",
              "      <td>sometimes</td>\n",
              "      <td>normal</td>\n",
              "      <td>0.0</td>\n",
              "      <td>not much</td>\n",
              "    </tr>\n",
              "    <tr>\n",
              "      <th>948</th>\n",
              "      <td>60 or older</td>\n",
              "      <td>yes</td>\n",
              "      <td>yes</td>\n",
              "      <td>more than half an hr</td>\n",
              "      <td>27.0</td>\n",
              "      <td>no</td>\n",
              "      <td>no</td>\n",
              "      <td>6</td>\n",
              "      <td>yes</td>\n",
              "      <td>occasionally</td>\n",
              "      <td>sometimes</td>\n",
              "      <td>high</td>\n",
              "      <td>0.0</td>\n",
              "      <td>quite often</td>\n",
              "    </tr>\n",
              "    <tr>\n",
              "      <th>949</th>\n",
              "      <td>60 or older</td>\n",
              "      <td>no</td>\n",
              "      <td>yes</td>\n",
              "      <td>none</td>\n",
              "      <td>23.0</td>\n",
              "      <td>no</td>\n",
              "      <td>no</td>\n",
              "      <td>6</td>\n",
              "      <td>yes</td>\n",
              "      <td>occasionally</td>\n",
              "      <td>sometimes</td>\n",
              "      <td>high</td>\n",
              "      <td>0.0</td>\n",
              "      <td>not much</td>\n",
              "    </tr>\n",
              "    <tr>\n",
              "      <th>950</th>\n",
              "      <td>60 or older</td>\n",
              "      <td>no</td>\n",
              "      <td>yes</td>\n",
              "      <td>less than half an hr</td>\n",
              "      <td>27.0</td>\n",
              "      <td>no</td>\n",
              "      <td>yes</td>\n",
              "      <td>6</td>\n",
              "      <td>yes</td>\n",
              "      <td>occasionally</td>\n",
              "      <td>very often</td>\n",
              "      <td>high</td>\n",
              "      <td>0.0</td>\n",
              "      <td>not much</td>\n",
              "    </tr>\n",
              "  </tbody>\n",
              "</table>\n",
              "<p>725 rows × 14 columns</p>\n",
              "</div>\n",
              "      <button class=\"colab-df-convert\" onclick=\"convertToInteractive('df-4c06c0a4-8e27-460b-88ee-767b3d9d5bb5')\"\n",
              "              title=\"Convert this dataframe to an interactive table.\"\n",
              "              style=\"display:none;\">\n",
              "        \n",
              "  <svg xmlns=\"http://www.w3.org/2000/svg\" height=\"24px\"viewBox=\"0 0 24 24\"\n",
              "       width=\"24px\">\n",
              "    <path d=\"M0 0h24v24H0V0z\" fill=\"none\"/>\n",
              "    <path d=\"M18.56 5.44l.94 2.06.94-2.06 2.06-.94-2.06-.94-.94-2.06-.94 2.06-2.06.94zm-11 1L8.5 8.5l.94-2.06 2.06-.94-2.06-.94L8.5 2.5l-.94 2.06-2.06.94zm10 10l.94 2.06.94-2.06 2.06-.94-2.06-.94-.94-2.06-.94 2.06-2.06.94z\"/><path d=\"M17.41 7.96l-1.37-1.37c-.4-.4-.92-.59-1.43-.59-.52 0-1.04.2-1.43.59L10.3 9.45l-7.72 7.72c-.78.78-.78 2.05 0 2.83L4 21.41c.39.39.9.59 1.41.59.51 0 1.02-.2 1.41-.59l7.78-7.78 2.81-2.81c.8-.78.8-2.07 0-2.86zM5.41 20L4 18.59l7.72-7.72 1.47 1.35L5.41 20z\"/>\n",
              "  </svg>\n",
              "      </button>\n",
              "      \n",
              "  <style>\n",
              "    .colab-df-container {\n",
              "      display:flex;\n",
              "      flex-wrap:wrap;\n",
              "      gap: 12px;\n",
              "    }\n",
              "\n",
              "    .colab-df-convert {\n",
              "      background-color: #E8F0FE;\n",
              "      border: none;\n",
              "      border-radius: 50%;\n",
              "      cursor: pointer;\n",
              "      display: none;\n",
              "      fill: #1967D2;\n",
              "      height: 32px;\n",
              "      padding: 0 0 0 0;\n",
              "      width: 32px;\n",
              "    }\n",
              "\n",
              "    .colab-df-convert:hover {\n",
              "      background-color: #E2EBFA;\n",
              "      box-shadow: 0px 1px 2px rgba(60, 64, 67, 0.3), 0px 1px 3px 1px rgba(60, 64, 67, 0.15);\n",
              "      fill: #174EA6;\n",
              "    }\n",
              "\n",
              "    [theme=dark] .colab-df-convert {\n",
              "      background-color: #3B4455;\n",
              "      fill: #D2E3FC;\n",
              "    }\n",
              "\n",
              "    [theme=dark] .colab-df-convert:hover {\n",
              "      background-color: #434B5C;\n",
              "      box-shadow: 0px 1px 3px 1px rgba(0, 0, 0, 0.15);\n",
              "      filter: drop-shadow(0px 1px 2px rgba(0, 0, 0, 0.3));\n",
              "      fill: #FFFFFF;\n",
              "    }\n",
              "  </style>\n",
              "\n",
              "      <script>\n",
              "        const buttonEl =\n",
              "          document.querySelector('#df-4c06c0a4-8e27-460b-88ee-767b3d9d5bb5 button.colab-df-convert');\n",
              "        buttonEl.style.display =\n",
              "          google.colab.kernel.accessAllowed ? 'block' : 'none';\n",
              "\n",
              "        async function convertToInteractive(key) {\n",
              "          const element = document.querySelector('#df-4c06c0a4-8e27-460b-88ee-767b3d9d5bb5');\n",
              "          const dataTable =\n",
              "            await google.colab.kernel.invokeFunction('convertToInteractive',\n",
              "                                                     [key], {});\n",
              "          if (!dataTable) return;\n",
              "\n",
              "          const docLinkHtml = 'Like what you see? Visit the ' +\n",
              "            '<a target=\"_blank\" href=https://colab.research.google.com/notebooks/data_table.ipynb>data table notebook</a>'\n",
              "            + ' to learn more about interactive tables.';\n",
              "          element.innerHTML = '';\n",
              "          dataTable['output_type'] = 'display_data';\n",
              "          await google.colab.output.renderOutput(dataTable, element);\n",
              "          const docLink = document.createElement('div');\n",
              "          docLink.innerHTML = docLinkHtml;\n",
              "          element.appendChild(docLink);\n",
              "        }\n",
              "      </script>\n",
              "    </div>\n",
              "  </div>\n",
              "  "
            ]
          },
          "metadata": {},
          "execution_count": 38
        }
      ]
    },
    {
      "cell_type": "markdown",
      "source": [
        "Choose feature Type as a label"
      ],
      "metadata": {
        "id": "SkZgXnQ-tST1"
      }
    },
    {
      "cell_type": "markdown",
      "source": [
        "Already Get x and y"
      ],
      "metadata": {
        "id": "Ey-BDLbWnaW9"
      }
    },
    {
      "cell_type": "code",
      "source": [
        "y = dataset[\"Gender\"]\n",
        "y"
      ],
      "metadata": {
        "colab": {
          "base_uri": "https://localhost:8080/"
        },
        "id": "WOZTLMYeh3hj",
        "outputId": "f6028432-fd35-48d0-8543-ac5636ffa85b"
      },
      "execution_count": 40,
      "outputs": [
        {
          "output_type": "execute_result",
          "data": {
            "text/plain": [
              "1      Male\n",
              "2      Male\n",
              "3      Male\n",
              "4      Male\n",
              "5      Male\n",
              "       ... \n",
              "946    Male\n",
              "947    Male\n",
              "948    Male\n",
              "949    Male\n",
              "950    Male\n",
              "Name: Gender, Length: 725, dtype: object"
            ]
          },
          "metadata": {},
          "execution_count": 40
        }
      ]
    },
    {
      "cell_type": "code",
      "source": [
        "y.values.reshape(-1,1)"
      ],
      "metadata": {
        "colab": {
          "base_uri": "https://localhost:8080/"
        },
        "id": "l6idhdXTrLAD",
        "outputId": "f0c4be92-66fd-4db5-e7d7-9716d47f63ab"
      },
      "execution_count": 41,
      "outputs": [
        {
          "output_type": "execute_result",
          "data": {
            "text/plain": [
              "array([['Male'],\n",
              "       ['Male'],\n",
              "       ['Male'],\n",
              "       ['Male'],\n",
              "       ['Male'],\n",
              "       ['Male'],\n",
              "       ['Male'],\n",
              "       ['Male'],\n",
              "       ['Male'],\n",
              "       ['Male'],\n",
              "       ['Male'],\n",
              "       ['Male'],\n",
              "       ['Male'],\n",
              "       ['Male'],\n",
              "       ['Male'],\n",
              "       ['Male'],\n",
              "       ['Male'],\n",
              "       ['Female'],\n",
              "       ['Female'],\n",
              "       ['Male'],\n",
              "       ['Male'],\n",
              "       ['Male'],\n",
              "       ['Male'],\n",
              "       ['Male'],\n",
              "       ['Male'],\n",
              "       ['Male'],\n",
              "       ['Male'],\n",
              "       ['Male'],\n",
              "       ['Male'],\n",
              "       ['Male'],\n",
              "       ['Male'],\n",
              "       ['Male'],\n",
              "       ['Male'],\n",
              "       ['Male'],\n",
              "       ['Male'],\n",
              "       ['Female'],\n",
              "       ['Male'],\n",
              "       ['Male'],\n",
              "       ['Male'],\n",
              "       ['Female'],\n",
              "       ['Male'],\n",
              "       ['Male'],\n",
              "       ['Male'],\n",
              "       ['Male'],\n",
              "       ['Male'],\n",
              "       ['Male'],\n",
              "       ['Female'],\n",
              "       ['Male'],\n",
              "       ['Male'],\n",
              "       ['Male'],\n",
              "       ['Female'],\n",
              "       ['Male'],\n",
              "       ['Male'],\n",
              "       ['Male'],\n",
              "       ['Male'],\n",
              "       ['Male'],\n",
              "       ['Male'],\n",
              "       ['Male'],\n",
              "       ['Female'],\n",
              "       ['Male'],\n",
              "       ['Male'],\n",
              "       ['Male'],\n",
              "       ['Male'],\n",
              "       ['Male'],\n",
              "       ['Male'],\n",
              "       ['Male'],\n",
              "       ['Male'],\n",
              "       ['Male'],\n",
              "       ['Male'],\n",
              "       ['Male'],\n",
              "       ['Male'],\n",
              "       ['Male'],\n",
              "       ['Male'],\n",
              "       ['Female'],\n",
              "       ['Male'],\n",
              "       ['Female'],\n",
              "       ['Male'],\n",
              "       ['Male'],\n",
              "       ['Male'],\n",
              "       ['Male'],\n",
              "       ['Female'],\n",
              "       ['Female'],\n",
              "       ['Male'],\n",
              "       ['Male'],\n",
              "       ['Female'],\n",
              "       ['Female'],\n",
              "       ['Male'],\n",
              "       ['Female'],\n",
              "       ['Female'],\n",
              "       ['Male'],\n",
              "       ['Male'],\n",
              "       ['Female'],\n",
              "       ['Male'],\n",
              "       ['Female'],\n",
              "       ['Male'],\n",
              "       ['Female'],\n",
              "       ['Female'],\n",
              "       ['Male'],\n",
              "       ['Female'],\n",
              "       ['Male'],\n",
              "       ['Female'],\n",
              "       ['Male'],\n",
              "       ['Male'],\n",
              "       ['Male'],\n",
              "       ['Male'],\n",
              "       ['Female'],\n",
              "       ['Female'],\n",
              "       ['Female'],\n",
              "       ['Male'],\n",
              "       ['Female'],\n",
              "       ['Male'],\n",
              "       ['Male'],\n",
              "       ['Male'],\n",
              "       ['Male'],\n",
              "       ['Male'],\n",
              "       ['Male'],\n",
              "       ['Male'],\n",
              "       ['Male'],\n",
              "       ['Male'],\n",
              "       ['Female'],\n",
              "       ['Female'],\n",
              "       ['Male'],\n",
              "       ['Male'],\n",
              "       ['Male'],\n",
              "       ['Male'],\n",
              "       ['Male'],\n",
              "       ['Male'],\n",
              "       ['Male'],\n",
              "       ['Male'],\n",
              "       ['Male'],\n",
              "       ['Male'],\n",
              "       ['Male'],\n",
              "       ['Male'],\n",
              "       ['Male'],\n",
              "       ['Male'],\n",
              "       ['Male'],\n",
              "       ['Male'],\n",
              "       ['Female'],\n",
              "       ['Male'],\n",
              "       ['Male'],\n",
              "       ['Male'],\n",
              "       ['Female'],\n",
              "       ['Female'],\n",
              "       ['Female'],\n",
              "       ['Male'],\n",
              "       ['Male'],\n",
              "       ['Male'],\n",
              "       ['Male'],\n",
              "       ['Male'],\n",
              "       ['Male'],\n",
              "       ['Male'],\n",
              "       ['Male'],\n",
              "       ['Male'],\n",
              "       ['Male'],\n",
              "       ['Male'],\n",
              "       ['Male'],\n",
              "       ['Male'],\n",
              "       ['Male'],\n",
              "       ['Male'],\n",
              "       ['Male'],\n",
              "       ['Male'],\n",
              "       ['Male'],\n",
              "       ['Male'],\n",
              "       ['Male'],\n",
              "       ['Male'],\n",
              "       ['Male'],\n",
              "       ['Male'],\n",
              "       ['Male'],\n",
              "       ['Male'],\n",
              "       ['Male'],\n",
              "       ['Male'],\n",
              "       ['Male'],\n",
              "       ['Female'],\n",
              "       ['Female'],\n",
              "       ['Male'],\n",
              "       ['Male'],\n",
              "       ['Male'],\n",
              "       ['Male'],\n",
              "       ['Male'],\n",
              "       ['Male'],\n",
              "       ['Male'],\n",
              "       ['Male'],\n",
              "       ['Male'],\n",
              "       ['Male'],\n",
              "       ['Male'],\n",
              "       ['Male'],\n",
              "       ['Male'],\n",
              "       ['Male'],\n",
              "       ['Male'],\n",
              "       ['Male'],\n",
              "       ['Female'],\n",
              "       ['Male'],\n",
              "       ['Male'],\n",
              "       ['Male'],\n",
              "       ['Female'],\n",
              "       ['Male'],\n",
              "       ['Male'],\n",
              "       ['Male'],\n",
              "       ['Male'],\n",
              "       ['Male'],\n",
              "       ['Male'],\n",
              "       ['Female'],\n",
              "       ['Male'],\n",
              "       ['Male'],\n",
              "       ['Male'],\n",
              "       ['Female'],\n",
              "       ['Male'],\n",
              "       ['Male'],\n",
              "       ['Male'],\n",
              "       ['Male'],\n",
              "       ['Male'],\n",
              "       ['Male'],\n",
              "       ['Male'],\n",
              "       ['Female'],\n",
              "       ['Male'],\n",
              "       ['Male'],\n",
              "       ['Male'],\n",
              "       ['Male'],\n",
              "       ['Male'],\n",
              "       ['Male'],\n",
              "       ['Male'],\n",
              "       ['Male'],\n",
              "       ['Male'],\n",
              "       ['Male'],\n",
              "       ['Male'],\n",
              "       ['Male'],\n",
              "       ['Male'],\n",
              "       ['Male'],\n",
              "       ['Female'],\n",
              "       ['Male'],\n",
              "       ['Female'],\n",
              "       ['Male'],\n",
              "       ['Male'],\n",
              "       ['Male'],\n",
              "       ['Male'],\n",
              "       ['Female'],\n",
              "       ['Female'],\n",
              "       ['Male'],\n",
              "       ['Male'],\n",
              "       ['Female'],\n",
              "       ['Female'],\n",
              "       ['Male'],\n",
              "       ['Female'],\n",
              "       ['Female'],\n",
              "       ['Male'],\n",
              "       ['Male'],\n",
              "       ['Female'],\n",
              "       ['Male'],\n",
              "       ['Female'],\n",
              "       ['Male'],\n",
              "       ['Female'],\n",
              "       ['Female'],\n",
              "       ['Male'],\n",
              "       ['Female'],\n",
              "       ['Male'],\n",
              "       ['Female'],\n",
              "       ['Male'],\n",
              "       ['Male'],\n",
              "       ['Male'],\n",
              "       ['Female'],\n",
              "       ['Female'],\n",
              "       ['Female'],\n",
              "       ['Female'],\n",
              "       ['Male'],\n",
              "       ['Male'],\n",
              "       ['Male'],\n",
              "       ['Male'],\n",
              "       ['Male'],\n",
              "       ['Male'],\n",
              "       ['Male'],\n",
              "       ['Male'],\n",
              "       ['Female'],\n",
              "       ['Female'],\n",
              "       ['Female'],\n",
              "       ['Female'],\n",
              "       ['Female'],\n",
              "       ['Female'],\n",
              "       ['Female'],\n",
              "       ['Female'],\n",
              "       ['Female'],\n",
              "       ['Female'],\n",
              "       ['Male'],\n",
              "       ['Male'],\n",
              "       ['Female'],\n",
              "       ['Female'],\n",
              "       ['Female'],\n",
              "       ['Female'],\n",
              "       ['Female'],\n",
              "       ['Female'],\n",
              "       ['Male'],\n",
              "       ['Female'],\n",
              "       ['Male'],\n",
              "       ['Male'],\n",
              "       ['Male'],\n",
              "       ['Male'],\n",
              "       ['Female'],\n",
              "       ['Female'],\n",
              "       ['Female'],\n",
              "       ['Male'],\n",
              "       ['Female'],\n",
              "       ['Male'],\n",
              "       ['Male'],\n",
              "       ['Male'],\n",
              "       ['Male'],\n",
              "       ['Male'],\n",
              "       ['Male'],\n",
              "       ['Male'],\n",
              "       ['Male'],\n",
              "       ['Male'],\n",
              "       ['Female'],\n",
              "       ['Female'],\n",
              "       ['Male'],\n",
              "       ['Male'],\n",
              "       ['Male'],\n",
              "       ['Male'],\n",
              "       ['Male'],\n",
              "       ['Male'],\n",
              "       ['Male'],\n",
              "       ['Male'],\n",
              "       ['Male'],\n",
              "       ['Male'],\n",
              "       ['Male'],\n",
              "       ['Male'],\n",
              "       ['Male'],\n",
              "       ['Male'],\n",
              "       ['Male'],\n",
              "       ['Male'],\n",
              "       ['Female'],\n",
              "       ['Male'],\n",
              "       ['Male'],\n",
              "       ['Male'],\n",
              "       ['Female'],\n",
              "       ['Female'],\n",
              "       ['Female'],\n",
              "       ['Male'],\n",
              "       ['Male'],\n",
              "       ['Male'],\n",
              "       ['Male'],\n",
              "       ['Male'],\n",
              "       ['Male'],\n",
              "       ['Male'],\n",
              "       ['Male'],\n",
              "       ['Male'],\n",
              "       ['Male'],\n",
              "       ['Male'],\n",
              "       ['Male'],\n",
              "       ['Male'],\n",
              "       ['Male'],\n",
              "       ['Male'],\n",
              "       ['Male'],\n",
              "       ['Male'],\n",
              "       ['Male'],\n",
              "       ['Male'],\n",
              "       ['Male'],\n",
              "       ['Male'],\n",
              "       ['Male'],\n",
              "       ['Male'],\n",
              "       ['Male'],\n",
              "       ['Male'],\n",
              "       ['Male'],\n",
              "       ['Male'],\n",
              "       ['Male'],\n",
              "       ['Female'],\n",
              "       ['Female'],\n",
              "       ['Male'],\n",
              "       ['Male'],\n",
              "       ['Male'],\n",
              "       ['Male'],\n",
              "       ['Male'],\n",
              "       ['Male'],\n",
              "       ['Male'],\n",
              "       ['Male'],\n",
              "       ['Male'],\n",
              "       ['Male'],\n",
              "       ['Male'],\n",
              "       ['Male'],\n",
              "       ['Male'],\n",
              "       ['Male'],\n",
              "       ['Male'],\n",
              "       ['Male'],\n",
              "       ['Female'],\n",
              "       ['Male'],\n",
              "       ['Male'],\n",
              "       ['Male'],\n",
              "       ['Female'],\n",
              "       ['Male'],\n",
              "       ['Male'],\n",
              "       ['Male'],\n",
              "       ['Male'],\n",
              "       ['Male'],\n",
              "       ['Male'],\n",
              "       ['Female'],\n",
              "       ['Male'],\n",
              "       ['Male'],\n",
              "       ['Male'],\n",
              "       ['Female'],\n",
              "       ['Male'],\n",
              "       ['Male'],\n",
              "       ['Male'],\n",
              "       ['Male'],\n",
              "       ['Male'],\n",
              "       ['Male'],\n",
              "       ['Male'],\n",
              "       ['Female'],\n",
              "       ['Male'],\n",
              "       ['Male'],\n",
              "       ['Male'],\n",
              "       ['Male'],\n",
              "       ['Male'],\n",
              "       ['Male'],\n",
              "       ['Male'],\n",
              "       ['Male'],\n",
              "       ['Male'],\n",
              "       ['Male'],\n",
              "       ['Male'],\n",
              "       ['Male'],\n",
              "       ['Male'],\n",
              "       ['Male'],\n",
              "       ['Female'],\n",
              "       ['Male'],\n",
              "       ['Female'],\n",
              "       ['Male'],\n",
              "       ['Male'],\n",
              "       ['Male'],\n",
              "       ['Male'],\n",
              "       ['Female'],\n",
              "       ['Female'],\n",
              "       ['Male'],\n",
              "       ['Male'],\n",
              "       ['Female'],\n",
              "       ['Female'],\n",
              "       ['Male'],\n",
              "       ['Female'],\n",
              "       ['Female'],\n",
              "       ['Male'],\n",
              "       ['Male'],\n",
              "       ['Female'],\n",
              "       ['Male'],\n",
              "       ['Female'],\n",
              "       ['Male'],\n",
              "       ['Female'],\n",
              "       ['Female'],\n",
              "       ['Male'],\n",
              "       ['Female'],\n",
              "       ['Male'],\n",
              "       ['Female'],\n",
              "       ['Male'],\n",
              "       ['Male'],\n",
              "       ['Male'],\n",
              "       ['Female'],\n",
              "       ['Female'],\n",
              "       ['Female'],\n",
              "       ['Female'],\n",
              "       ['Male'],\n",
              "       ['Male'],\n",
              "       ['Male'],\n",
              "       ['Male'],\n",
              "       ['Male'],\n",
              "       ['Male'],\n",
              "       ['Male'],\n",
              "       ['Male'],\n",
              "       ['Female'],\n",
              "       ['Female'],\n",
              "       ['Female'],\n",
              "       ['Female'],\n",
              "       ['Female'],\n",
              "       ['Female'],\n",
              "       ['Female'],\n",
              "       ['Female'],\n",
              "       ['Female'],\n",
              "       ['Female'],\n",
              "       ['Male'],\n",
              "       ['Male'],\n",
              "       ['Female'],\n",
              "       ['Female'],\n",
              "       ['Female'],\n",
              "       ['Female'],\n",
              "       ['Female'],\n",
              "       ['Female'],\n",
              "       ['Male'],\n",
              "       ['Female'],\n",
              "       ['Male'],\n",
              "       ['Male'],\n",
              "       ['Male'],\n",
              "       ['Male'],\n",
              "       ['Female'],\n",
              "       ['Female'],\n",
              "       ['Female'],\n",
              "       ['Male'],\n",
              "       ['Female'],\n",
              "       ['Male'],\n",
              "       ['Male'],\n",
              "       ['Male'],\n",
              "       ['Male'],\n",
              "       ['Male'],\n",
              "       ['Male'],\n",
              "       ['Male'],\n",
              "       ['Male'],\n",
              "       ['Male'],\n",
              "       ['Female'],\n",
              "       ['Female'],\n",
              "       ['Male'],\n",
              "       ['Male'],\n",
              "       ['Male'],\n",
              "       ['Male'],\n",
              "       ['Male'],\n",
              "       ['Male'],\n",
              "       ['Male'],\n",
              "       ['Male'],\n",
              "       ['Male'],\n",
              "       ['Male'],\n",
              "       ['Male'],\n",
              "       ['Male'],\n",
              "       ['Male'],\n",
              "       ['Male'],\n",
              "       ['Male'],\n",
              "       ['Male'],\n",
              "       ['Female'],\n",
              "       ['Male'],\n",
              "       ['Male'],\n",
              "       ['Male'],\n",
              "       ['Female'],\n",
              "       ['Female'],\n",
              "       ['Female'],\n",
              "       ['Male'],\n",
              "       ['Male'],\n",
              "       ['Male'],\n",
              "       ['Male'],\n",
              "       ['Male'],\n",
              "       ['Male'],\n",
              "       ['Male'],\n",
              "       ['Male'],\n",
              "       ['Male'],\n",
              "       ['Male'],\n",
              "       ['Male'],\n",
              "       ['Male'],\n",
              "       ['Male'],\n",
              "       ['Male'],\n",
              "       ['Male'],\n",
              "       ['Male'],\n",
              "       ['Male'],\n",
              "       ['Male'],\n",
              "       ['Male'],\n",
              "       ['Male'],\n",
              "       ['Male'],\n",
              "       ['Male'],\n",
              "       ['Male'],\n",
              "       ['Male'],\n",
              "       ['Male'],\n",
              "       ['Male'],\n",
              "       ['Male'],\n",
              "       ['Male'],\n",
              "       ['Female'],\n",
              "       ['Female'],\n",
              "       ['Male'],\n",
              "       ['Male'],\n",
              "       ['Male'],\n",
              "       ['Male'],\n",
              "       ['Male'],\n",
              "       ['Male'],\n",
              "       ['Male'],\n",
              "       ['Male'],\n",
              "       ['Male'],\n",
              "       ['Male'],\n",
              "       ['Male'],\n",
              "       ['Male'],\n",
              "       ['Male'],\n",
              "       ['Male'],\n",
              "       ['Male'],\n",
              "       ['Male'],\n",
              "       ['Female'],\n",
              "       ['Male'],\n",
              "       ['Male'],\n",
              "       ['Male'],\n",
              "       ['Female'],\n",
              "       ['Male'],\n",
              "       ['Male'],\n",
              "       ['Male'],\n",
              "       ['Male'],\n",
              "       ['Male'],\n",
              "       ['Male'],\n",
              "       ['Female'],\n",
              "       ['Male'],\n",
              "       ['Male'],\n",
              "       ['Male'],\n",
              "       ['Female'],\n",
              "       ['Male'],\n",
              "       ['Male'],\n",
              "       ['Male'],\n",
              "       ['Male'],\n",
              "       ['Male'],\n",
              "       ['Male'],\n",
              "       ['Male'],\n",
              "       ['Female'],\n",
              "       ['Male'],\n",
              "       ['Male'],\n",
              "       ['Male'],\n",
              "       ['Male'],\n",
              "       ['Male'],\n",
              "       ['Male'],\n",
              "       ['Male'],\n",
              "       ['Male'],\n",
              "       ['Male'],\n",
              "       ['Male'],\n",
              "       ['Male'],\n",
              "       ['Male'],\n",
              "       ['Male'],\n",
              "       ['Male'],\n",
              "       ['Female'],\n",
              "       ['Male'],\n",
              "       ['Female'],\n",
              "       ['Male'],\n",
              "       ['Male'],\n",
              "       ['Male'],\n",
              "       ['Male'],\n",
              "       ['Female'],\n",
              "       ['Female'],\n",
              "       ['Male'],\n",
              "       ['Male'],\n",
              "       ['Female'],\n",
              "       ['Female'],\n",
              "       ['Male'],\n",
              "       ['Female'],\n",
              "       ['Female'],\n",
              "       ['Male'],\n",
              "       ['Male'],\n",
              "       ['Female'],\n",
              "       ['Male'],\n",
              "       ['Female'],\n",
              "       ['Male'],\n",
              "       ['Female'],\n",
              "       ['Female'],\n",
              "       ['Male'],\n",
              "       ['Female'],\n",
              "       ['Male'],\n",
              "       ['Female'],\n",
              "       ['Male'],\n",
              "       ['Male'],\n",
              "       ['Male'],\n",
              "       ['Female'],\n",
              "       ['Female'],\n",
              "       ['Female'],\n",
              "       ['Female'],\n",
              "       ['Male'],\n",
              "       ['Male'],\n",
              "       ['Male'],\n",
              "       ['Male'],\n",
              "       ['Male'],\n",
              "       ['Male'],\n",
              "       ['Male'],\n",
              "       ['Male'],\n",
              "       ['Female'],\n",
              "       ['Female'],\n",
              "       ['Female'],\n",
              "       ['Female'],\n",
              "       ['Female'],\n",
              "       ['Female'],\n",
              "       ['Female'],\n",
              "       ['Female'],\n",
              "       ['Female'],\n",
              "       ['Female'],\n",
              "       ['Male'],\n",
              "       ['Male'],\n",
              "       ['Female'],\n",
              "       ['Female'],\n",
              "       ['Female'],\n",
              "       ['Female'],\n",
              "       ['Female'],\n",
              "       ['Female'],\n",
              "       ['Male'],\n",
              "       ['Female'],\n",
              "       ['Male'],\n",
              "       ['Male'],\n",
              "       ['Male'],\n",
              "       ['Male'],\n",
              "       ['Female'],\n",
              "       ['Female'],\n",
              "       ['Female'],\n",
              "       ['Male'],\n",
              "       ['Female'],\n",
              "       ['Male'],\n",
              "       ['Male'],\n",
              "       ['Male'],\n",
              "       ['Male'],\n",
              "       ['Male'],\n",
              "       ['Male'],\n",
              "       ['Male'],\n",
              "       ['Male'],\n",
              "       ['Male'],\n",
              "       ['Female'],\n",
              "       ['Female'],\n",
              "       ['Male'],\n",
              "       ['Male'],\n",
              "       ['Male'],\n",
              "       ['Male'],\n",
              "       ['Male'],\n",
              "       ['Male'],\n",
              "       ['Male'],\n",
              "       ['Male'],\n",
              "       ['Male'],\n",
              "       ['Male'],\n",
              "       ['Male'],\n",
              "       ['Male'],\n",
              "       ['Male'],\n",
              "       ['Male'],\n",
              "       ['Male'],\n",
              "       ['Male'],\n",
              "       ['Female'],\n",
              "       ['Male'],\n",
              "       ['Male'],\n",
              "       ['Male'],\n",
              "       ['Female'],\n",
              "       ['Female'],\n",
              "       ['Female'],\n",
              "       ['Male'],\n",
              "       ['Male'],\n",
              "       ['Male'],\n",
              "       ['Male'],\n",
              "       ['Male'],\n",
              "       ['Male'],\n",
              "       ['Male'],\n",
              "       ['Male'],\n",
              "       ['Male'],\n",
              "       ['Male'],\n",
              "       ['Male']], dtype=object)"
            ]
          },
          "metadata": {},
          "execution_count": 41
        }
      ]
    },
    {
      "cell_type": "markdown",
      "source": [
        "**4.2 Categorical Encoding**\n",
        "\n",
        "Choose One Hot Encoding or Label Encoding for perform categorical encoding\n",
        "\n",
        "**One-Hot Encoding for data input x**"
      ],
      "metadata": {
        "id": "-KhD3RU7qniq"
      }
    },
    {
      "cell_type": "markdown",
      "source": [
        "Use One Hot Encoding to convert data to numeric and every data in the row will be converted to 1 and if not there will be 0."
      ],
      "metadata": {
        "id": "fc_hWuJzoR9F"
      }
    },
    {
      "cell_type": "code",
      "source": [
        "x = pd.get_dummies(x)\n",
        "x"
      ],
      "metadata": {
        "colab": {
          "base_uri": "https://localhost:8080/",
          "height": 522
        },
        "id": "y_K5f2vyqNef",
        "outputId": "a53dcbde-2a1c-4acb-f7f3-b741d43adee1"
      },
      "execution_count": 42,
      "outputs": [
        {
          "output_type": "execute_result",
          "data": {
            "text/plain": [
              "      BMI  Sleep  Pregancies  Age_40-49  Age_50-59  Age_60 or older  \\\n",
              "1    28.0      8         0.0          0          1                0   \n",
              "2    24.0      6         0.0          1          0                0   \n",
              "3    23.0      8         0.0          0          1                0   \n",
              "4    27.0      8         0.0          1          0                0   \n",
              "5    21.0     10         0.0          1          0                0   \n",
              "..    ...    ...         ...        ...        ...              ...   \n",
              "946  22.0      7         0.0          1          0                0   \n",
              "947  25.0      8         0.0          0          0                0   \n",
              "948  27.0      6         0.0          0          0                1   \n",
              "949  23.0      6         0.0          0          0                1   \n",
              "950  27.0      6         0.0          0          0                1   \n",
              "\n",
              "     Age_less than 40  Family_Diabetes_no  Family_Diabetes_yes  highBP_no  \\\n",
              "1                   0                   1                    0          0   \n",
              "2                   0                   1                    0          1   \n",
              "3                   0                   1                    0          1   \n",
              "4                   0                   1                    0          1   \n",
              "5                   0                   1                    0          0   \n",
              "..                ...                 ...                  ...        ...   \n",
              "946                 0                   0                    1          0   \n",
              "947                 1                   0                    1          1   \n",
              "948                 0                   0                    1          0   \n",
              "949                 0                   1                    0          0   \n",
              "950                 0                   1                    0          0   \n",
              "\n",
              "     ...  Stress_sometimes  Stress_very often  BPLevel_High  BPLevel_Low  \\\n",
              "1    ...                 1                  0             0            0   \n",
              "2    ...                 1                  0             0            0   \n",
              "3    ...                 1                  0             0            0   \n",
              "4    ...                 1                  0             0            0   \n",
              "5    ...                 1                  0             0            0   \n",
              "..   ...               ...                ...           ...          ...   \n",
              "946  ...                 1                  0             0            0   \n",
              "947  ...                 1                  0             0            0   \n",
              "948  ...                 1                  0             0            0   \n",
              "949  ...                 1                  0             0            0   \n",
              "950  ...                 0                  1             0            0   \n",
              "\n",
              "     BPLevel_high  BPLevel_low  BPLevel_normal  BPLevel_normal   \\\n",
              "1               0            0               1                0   \n",
              "2               0            0               1                0   \n",
              "3               0            0               1                0   \n",
              "4               0            0               1                0   \n",
              "5               1            0               0                0   \n",
              "..            ...          ...             ...              ...   \n",
              "946             1            0               0                0   \n",
              "947             0            0               1                0   \n",
              "948             1            0               0                0   \n",
              "949             1            0               0                0   \n",
              "950             1            0               0                0   \n",
              "\n",
              "     UriationFreq_not much  UriationFreq_quite often  \n",
              "1                        1                         0  \n",
              "2                        1                         0  \n",
              "3                        1                         0  \n",
              "4                        1                         0  \n",
              "5                        1                         0  \n",
              "..                     ...                       ...  \n",
              "946                      1                         0  \n",
              "947                      1                         0  \n",
              "948                      0                         1  \n",
              "949                      1                         0  \n",
              "950                      1                         0  \n",
              "\n",
              "[725 rows x 38 columns]"
            ],
            "text/html": [
              "\n",
              "  <div id=\"df-0c7d885b-6e44-4fa4-9dd5-41cba6ae9886\">\n",
              "    <div class=\"colab-df-container\">\n",
              "      <div>\n",
              "<style scoped>\n",
              "    .dataframe tbody tr th:only-of-type {\n",
              "        vertical-align: middle;\n",
              "    }\n",
              "\n",
              "    .dataframe tbody tr th {\n",
              "        vertical-align: top;\n",
              "    }\n",
              "\n",
              "    .dataframe thead th {\n",
              "        text-align: right;\n",
              "    }\n",
              "</style>\n",
              "<table border=\"1\" class=\"dataframe\">\n",
              "  <thead>\n",
              "    <tr style=\"text-align: right;\">\n",
              "      <th></th>\n",
              "      <th>BMI</th>\n",
              "      <th>Sleep</th>\n",
              "      <th>Pregancies</th>\n",
              "      <th>Age_40-49</th>\n",
              "      <th>Age_50-59</th>\n",
              "      <th>Age_60 or older</th>\n",
              "      <th>Age_less than 40</th>\n",
              "      <th>Family_Diabetes_no</th>\n",
              "      <th>Family_Diabetes_yes</th>\n",
              "      <th>highBP_no</th>\n",
              "      <th>...</th>\n",
              "      <th>Stress_sometimes</th>\n",
              "      <th>Stress_very often</th>\n",
              "      <th>BPLevel_High</th>\n",
              "      <th>BPLevel_Low</th>\n",
              "      <th>BPLevel_high</th>\n",
              "      <th>BPLevel_low</th>\n",
              "      <th>BPLevel_normal</th>\n",
              "      <th>BPLevel_normal</th>\n",
              "      <th>UriationFreq_not much</th>\n",
              "      <th>UriationFreq_quite often</th>\n",
              "    </tr>\n",
              "  </thead>\n",
              "  <tbody>\n",
              "    <tr>\n",
              "      <th>1</th>\n",
              "      <td>28.0</td>\n",
              "      <td>8</td>\n",
              "      <td>0.0</td>\n",
              "      <td>0</td>\n",
              "      <td>1</td>\n",
              "      <td>0</td>\n",
              "      <td>0</td>\n",
              "      <td>1</td>\n",
              "      <td>0</td>\n",
              "      <td>0</td>\n",
              "      <td>...</td>\n",
              "      <td>1</td>\n",
              "      <td>0</td>\n",
              "      <td>0</td>\n",
              "      <td>0</td>\n",
              "      <td>0</td>\n",
              "      <td>0</td>\n",
              "      <td>1</td>\n",
              "      <td>0</td>\n",
              "      <td>1</td>\n",
              "      <td>0</td>\n",
              "    </tr>\n",
              "    <tr>\n",
              "      <th>2</th>\n",
              "      <td>24.0</td>\n",
              "      <td>6</td>\n",
              "      <td>0.0</td>\n",
              "      <td>1</td>\n",
              "      <td>0</td>\n",
              "      <td>0</td>\n",
              "      <td>0</td>\n",
              "      <td>1</td>\n",
              "      <td>0</td>\n",
              "      <td>1</td>\n",
              "      <td>...</td>\n",
              "      <td>1</td>\n",
              "      <td>0</td>\n",
              "      <td>0</td>\n",
              "      <td>0</td>\n",
              "      <td>0</td>\n",
              "      <td>0</td>\n",
              "      <td>1</td>\n",
              "      <td>0</td>\n",
              "      <td>1</td>\n",
              "      <td>0</td>\n",
              "    </tr>\n",
              "    <tr>\n",
              "      <th>3</th>\n",
              "      <td>23.0</td>\n",
              "      <td>8</td>\n",
              "      <td>0.0</td>\n",
              "      <td>0</td>\n",
              "      <td>1</td>\n",
              "      <td>0</td>\n",
              "      <td>0</td>\n",
              "      <td>1</td>\n",
              "      <td>0</td>\n",
              "      <td>1</td>\n",
              "      <td>...</td>\n",
              "      <td>1</td>\n",
              "      <td>0</td>\n",
              "      <td>0</td>\n",
              "      <td>0</td>\n",
              "      <td>0</td>\n",
              "      <td>0</td>\n",
              "      <td>1</td>\n",
              "      <td>0</td>\n",
              "      <td>1</td>\n",
              "      <td>0</td>\n",
              "    </tr>\n",
              "    <tr>\n",
              "      <th>4</th>\n",
              "      <td>27.0</td>\n",
              "      <td>8</td>\n",
              "      <td>0.0</td>\n",
              "      <td>1</td>\n",
              "      <td>0</td>\n",
              "      <td>0</td>\n",
              "      <td>0</td>\n",
              "      <td>1</td>\n",
              "      <td>0</td>\n",
              "      <td>1</td>\n",
              "      <td>...</td>\n",
              "      <td>1</td>\n",
              "      <td>0</td>\n",
              "      <td>0</td>\n",
              "      <td>0</td>\n",
              "      <td>0</td>\n",
              "      <td>0</td>\n",
              "      <td>1</td>\n",
              "      <td>0</td>\n",
              "      <td>1</td>\n",
              "      <td>0</td>\n",
              "    </tr>\n",
              "    <tr>\n",
              "      <th>5</th>\n",
              "      <td>21.0</td>\n",
              "      <td>10</td>\n",
              "      <td>0.0</td>\n",
              "      <td>1</td>\n",
              "      <td>0</td>\n",
              "      <td>0</td>\n",
              "      <td>0</td>\n",
              "      <td>1</td>\n",
              "      <td>0</td>\n",
              "      <td>0</td>\n",
              "      <td>...</td>\n",
              "      <td>1</td>\n",
              "      <td>0</td>\n",
              "      <td>0</td>\n",
              "      <td>0</td>\n",
              "      <td>1</td>\n",
              "      <td>0</td>\n",
              "      <td>0</td>\n",
              "      <td>0</td>\n",
              "      <td>1</td>\n",
              "      <td>0</td>\n",
              "    </tr>\n",
              "    <tr>\n",
              "      <th>...</th>\n",
              "      <td>...</td>\n",
              "      <td>...</td>\n",
              "      <td>...</td>\n",
              "      <td>...</td>\n",
              "      <td>...</td>\n",
              "      <td>...</td>\n",
              "      <td>...</td>\n",
              "      <td>...</td>\n",
              "      <td>...</td>\n",
              "      <td>...</td>\n",
              "      <td>...</td>\n",
              "      <td>...</td>\n",
              "      <td>...</td>\n",
              "      <td>...</td>\n",
              "      <td>...</td>\n",
              "      <td>...</td>\n",
              "      <td>...</td>\n",
              "      <td>...</td>\n",
              "      <td>...</td>\n",
              "      <td>...</td>\n",
              "      <td>...</td>\n",
              "    </tr>\n",
              "    <tr>\n",
              "      <th>946</th>\n",
              "      <td>22.0</td>\n",
              "      <td>7</td>\n",
              "      <td>0.0</td>\n",
              "      <td>1</td>\n",
              "      <td>0</td>\n",
              "      <td>0</td>\n",
              "      <td>0</td>\n",
              "      <td>0</td>\n",
              "      <td>1</td>\n",
              "      <td>0</td>\n",
              "      <td>...</td>\n",
              "      <td>1</td>\n",
              "      <td>0</td>\n",
              "      <td>0</td>\n",
              "      <td>0</td>\n",
              "      <td>1</td>\n",
              "      <td>0</td>\n",
              "      <td>0</td>\n",
              "      <td>0</td>\n",
              "      <td>1</td>\n",
              "      <td>0</td>\n",
              "    </tr>\n",
              "    <tr>\n",
              "      <th>947</th>\n",
              "      <td>25.0</td>\n",
              "      <td>8</td>\n",
              "      <td>0.0</td>\n",
              "      <td>0</td>\n",
              "      <td>0</td>\n",
              "      <td>0</td>\n",
              "      <td>1</td>\n",
              "      <td>0</td>\n",
              "      <td>1</td>\n",
              "      <td>1</td>\n",
              "      <td>...</td>\n",
              "      <td>1</td>\n",
              "      <td>0</td>\n",
              "      <td>0</td>\n",
              "      <td>0</td>\n",
              "      <td>0</td>\n",
              "      <td>0</td>\n",
              "      <td>1</td>\n",
              "      <td>0</td>\n",
              "      <td>1</td>\n",
              "      <td>0</td>\n",
              "    </tr>\n",
              "    <tr>\n",
              "      <th>948</th>\n",
              "      <td>27.0</td>\n",
              "      <td>6</td>\n",
              "      <td>0.0</td>\n",
              "      <td>0</td>\n",
              "      <td>0</td>\n",
              "      <td>1</td>\n",
              "      <td>0</td>\n",
              "      <td>0</td>\n",
              "      <td>1</td>\n",
              "      <td>0</td>\n",
              "      <td>...</td>\n",
              "      <td>1</td>\n",
              "      <td>0</td>\n",
              "      <td>0</td>\n",
              "      <td>0</td>\n",
              "      <td>1</td>\n",
              "      <td>0</td>\n",
              "      <td>0</td>\n",
              "      <td>0</td>\n",
              "      <td>0</td>\n",
              "      <td>1</td>\n",
              "    </tr>\n",
              "    <tr>\n",
              "      <th>949</th>\n",
              "      <td>23.0</td>\n",
              "      <td>6</td>\n",
              "      <td>0.0</td>\n",
              "      <td>0</td>\n",
              "      <td>0</td>\n",
              "      <td>1</td>\n",
              "      <td>0</td>\n",
              "      <td>1</td>\n",
              "      <td>0</td>\n",
              "      <td>0</td>\n",
              "      <td>...</td>\n",
              "      <td>1</td>\n",
              "      <td>0</td>\n",
              "      <td>0</td>\n",
              "      <td>0</td>\n",
              "      <td>1</td>\n",
              "      <td>0</td>\n",
              "      <td>0</td>\n",
              "      <td>0</td>\n",
              "      <td>1</td>\n",
              "      <td>0</td>\n",
              "    </tr>\n",
              "    <tr>\n",
              "      <th>950</th>\n",
              "      <td>27.0</td>\n",
              "      <td>6</td>\n",
              "      <td>0.0</td>\n",
              "      <td>0</td>\n",
              "      <td>0</td>\n",
              "      <td>1</td>\n",
              "      <td>0</td>\n",
              "      <td>1</td>\n",
              "      <td>0</td>\n",
              "      <td>0</td>\n",
              "      <td>...</td>\n",
              "      <td>0</td>\n",
              "      <td>1</td>\n",
              "      <td>0</td>\n",
              "      <td>0</td>\n",
              "      <td>1</td>\n",
              "      <td>0</td>\n",
              "      <td>0</td>\n",
              "      <td>0</td>\n",
              "      <td>1</td>\n",
              "      <td>0</td>\n",
              "    </tr>\n",
              "  </tbody>\n",
              "</table>\n",
              "<p>725 rows × 38 columns</p>\n",
              "</div>\n",
              "      <button class=\"colab-df-convert\" onclick=\"convertToInteractive('df-0c7d885b-6e44-4fa4-9dd5-41cba6ae9886')\"\n",
              "              title=\"Convert this dataframe to an interactive table.\"\n",
              "              style=\"display:none;\">\n",
              "        \n",
              "  <svg xmlns=\"http://www.w3.org/2000/svg\" height=\"24px\"viewBox=\"0 0 24 24\"\n",
              "       width=\"24px\">\n",
              "    <path d=\"M0 0h24v24H0V0z\" fill=\"none\"/>\n",
              "    <path d=\"M18.56 5.44l.94 2.06.94-2.06 2.06-.94-2.06-.94-.94-2.06-.94 2.06-2.06.94zm-11 1L8.5 8.5l.94-2.06 2.06-.94-2.06-.94L8.5 2.5l-.94 2.06-2.06.94zm10 10l.94 2.06.94-2.06 2.06-.94-2.06-.94-.94-2.06-.94 2.06-2.06.94z\"/><path d=\"M17.41 7.96l-1.37-1.37c-.4-.4-.92-.59-1.43-.59-.52 0-1.04.2-1.43.59L10.3 9.45l-7.72 7.72c-.78.78-.78 2.05 0 2.83L4 21.41c.39.39.9.59 1.41.59.51 0 1.02-.2 1.41-.59l7.78-7.78 2.81-2.81c.8-.78.8-2.07 0-2.86zM5.41 20L4 18.59l7.72-7.72 1.47 1.35L5.41 20z\"/>\n",
              "  </svg>\n",
              "      </button>\n",
              "      \n",
              "  <style>\n",
              "    .colab-df-container {\n",
              "      display:flex;\n",
              "      flex-wrap:wrap;\n",
              "      gap: 12px;\n",
              "    }\n",
              "\n",
              "    .colab-df-convert {\n",
              "      background-color: #E8F0FE;\n",
              "      border: none;\n",
              "      border-radius: 50%;\n",
              "      cursor: pointer;\n",
              "      display: none;\n",
              "      fill: #1967D2;\n",
              "      height: 32px;\n",
              "      padding: 0 0 0 0;\n",
              "      width: 32px;\n",
              "    }\n",
              "\n",
              "    .colab-df-convert:hover {\n",
              "      background-color: #E2EBFA;\n",
              "      box-shadow: 0px 1px 2px rgba(60, 64, 67, 0.3), 0px 1px 3px 1px rgba(60, 64, 67, 0.15);\n",
              "      fill: #174EA6;\n",
              "    }\n",
              "\n",
              "    [theme=dark] .colab-df-convert {\n",
              "      background-color: #3B4455;\n",
              "      fill: #D2E3FC;\n",
              "    }\n",
              "\n",
              "    [theme=dark] .colab-df-convert:hover {\n",
              "      background-color: #434B5C;\n",
              "      box-shadow: 0px 1px 3px 1px rgba(0, 0, 0, 0.15);\n",
              "      filter: drop-shadow(0px 1px 2px rgba(0, 0, 0, 0.3));\n",
              "      fill: #FFFFFF;\n",
              "    }\n",
              "  </style>\n",
              "\n",
              "      <script>\n",
              "        const buttonEl =\n",
              "          document.querySelector('#df-0c7d885b-6e44-4fa4-9dd5-41cba6ae9886 button.colab-df-convert');\n",
              "        buttonEl.style.display =\n",
              "          google.colab.kernel.accessAllowed ? 'block' : 'none';\n",
              "\n",
              "        async function convertToInteractive(key) {\n",
              "          const element = document.querySelector('#df-0c7d885b-6e44-4fa4-9dd5-41cba6ae9886');\n",
              "          const dataTable =\n",
              "            await google.colab.kernel.invokeFunction('convertToInteractive',\n",
              "                                                     [key], {});\n",
              "          if (!dataTable) return;\n",
              "\n",
              "          const docLinkHtml = 'Like what you see? Visit the ' +\n",
              "            '<a target=\"_blank\" href=https://colab.research.google.com/notebooks/data_table.ipynb>data table notebook</a>'\n",
              "            + ' to learn more about interactive tables.';\n",
              "          element.innerHTML = '';\n",
              "          dataTable['output_type'] = 'display_data';\n",
              "          await google.colab.output.renderOutput(dataTable, element);\n",
              "          const docLink = document.createElement('div');\n",
              "          docLink.innerHTML = docLinkHtml;\n",
              "          element.appendChild(docLink);\n",
              "        }\n",
              "      </script>\n",
              "    </div>\n",
              "  </div>\n",
              "  "
            ]
          },
          "metadata": {},
          "execution_count": 42
        }
      ]
    },
    {
      "cell_type": "code",
      "source": [
        "x.shape"
      ],
      "metadata": {
        "colab": {
          "base_uri": "https://localhost:8080/"
        },
        "id": "bTWosUkWqZyG",
        "outputId": "f18ce469-5c22-4931-a65a-781c3cffe283"
      },
      "execution_count": 43,
      "outputs": [
        {
          "output_type": "execute_result",
          "data": {
            "text/plain": [
              "(725, 38)"
            ]
          },
          "metadata": {},
          "execution_count": 43
        }
      ]
    },
    {
      "cell_type": "markdown",
      "source": [
        "**4.2.1 Standarization**"
      ],
      "metadata": {
        "id": "BuOZc5O6GUJz"
      }
    },
    {
      "cell_type": "markdown",
      "source": [
        "Standardization is used on the data values that are normally distributed. Further, by applying standardization, we tend to make the mean of the dataset as 0 and the standard deviation equivalent to 1.\n",
        "\n",
        "That is, by standardizing the values, we get the following statistics of the data distribution\n",
        "\n",
        "mean = 0\n",
        "standard deviation = 1\n",
        "\n",
        "Thus, by this the data set becomes self explanatory and easy to analyze as the mean turns down to 0 and it happens to have an unit variance.\n",
        "\n",
        "References: https://www.askpython.com/python/examples/standardize-data-in-python#:~:text=Ways%20to%20Standardize%20Data%20in%20Python%201%201.,load_iris%20...%202%202.%20Using%20StandardScaler%20%28%29%20function"
      ],
      "metadata": {
        "id": "B4NxpFrsHDmP"
      }
    },
    {
      "cell_type": "markdown",
      "source": [
        "Transfer data using standard deviation"
      ],
      "metadata": {
        "id": "QFotzL1opb73"
      }
    },
    {
      "cell_type": "code",
      "source": [
        "from sklearn.preprocessing import StandardScaler\n",
        "std_scale = StandardScaler().fit_transform(x)\n",
        "std_scale = pd.DataFrame(std_scale)\n",
        "\n",
        "std_scale"
      ],
      "metadata": {
        "colab": {
          "base_uri": "https://localhost:8080/",
          "height": 488
        },
        "id": "GR-GhzRXGRNg",
        "outputId": "748f61d3-067b-4de5-9518-752efdee4829"
      },
      "execution_count": 44,
      "outputs": [
        {
          "output_type": "execute_result",
          "data": {
            "text/plain": [
              "           0         1    2         3         4         5         6   \\\n",
              "0    0.627914  0.844640  0.0 -0.418378  2.457404 -0.397677 -1.157026   \n",
              "1   -0.237265 -0.747984  0.0  2.390181 -0.406933 -0.397677 -1.157026   \n",
              "2   -0.453560  0.844640  0.0 -0.418378  2.457404 -0.397677 -1.157026   \n",
              "3    0.411619  0.844640  0.0  2.390181 -0.406933 -0.397677 -1.157026   \n",
              "4   -0.886150  2.437264  0.0  2.390181 -0.406933 -0.397677 -1.157026   \n",
              "..        ...       ...  ...       ...       ...       ...       ...   \n",
              "720 -0.669855  0.048328  0.0  2.390181 -0.406933 -0.397677 -1.157026   \n",
              "721 -0.020970  0.844640  0.0 -0.418378 -0.406933 -0.397677  0.864285   \n",
              "722  0.411619 -0.747984  0.0 -0.418378 -0.406933  2.514604 -1.157026   \n",
              "723 -0.453560 -0.747984  0.0 -0.418378 -0.406933  2.514604 -1.157026   \n",
              "724  0.411619 -0.747984  0.0 -0.418378 -0.406933  2.514604 -1.157026   \n",
              "\n",
              "           7         8         9   ...        28        29        30  \\\n",
              "0    0.937144 -0.937144 -1.820845  ...  0.835399 -0.480520 -0.083333   \n",
              "1    0.937144 -0.937144  0.549196  ...  0.835399 -0.480520 -0.083333   \n",
              "2    0.937144 -0.937144  0.549196  ...  0.835399 -0.480520 -0.083333   \n",
              "3    0.937144 -0.937144  0.549196  ...  0.835399 -0.480520 -0.083333   \n",
              "4    0.937144 -0.937144 -1.820845  ...  0.835399 -0.480520 -0.083333   \n",
              "..        ...       ...       ...  ...       ...       ...       ...   \n",
              "720 -1.067072  1.067072 -1.820845  ...  0.835399 -0.480520 -0.083333   \n",
              "721 -1.067072  1.067072  0.549196  ...  0.835399 -0.480520 -0.083333   \n",
              "722 -1.067072  1.067072 -1.820845  ...  0.835399 -0.480520 -0.083333   \n",
              "723  0.937144 -0.937144 -1.820845  ...  0.835399 -0.480520 -0.083333   \n",
              "724  0.937144 -0.937144 -1.820845  ... -1.197032  2.081077 -0.083333   \n",
              "\n",
              "           31        32        33        34        35        36        37  \n",
              "0   -0.052595 -0.515044 -0.172712  0.576819 -0.037165  0.621477 -0.621477  \n",
              "1   -0.052595 -0.515044 -0.172712  0.576819 -0.037165  0.621477 -0.621477  \n",
              "2   -0.052595 -0.515044 -0.172712  0.576819 -0.037165  0.621477 -0.621477  \n",
              "3   -0.052595 -0.515044 -0.172712  0.576819 -0.037165  0.621477 -0.621477  \n",
              "4   -0.052595  1.941581 -0.172712 -1.733645 -0.037165  0.621477 -0.621477  \n",
              "..        ...       ...       ...       ...       ...       ...       ...  \n",
              "720 -0.052595  1.941581 -0.172712 -1.733645 -0.037165  0.621477 -0.621477  \n",
              "721 -0.052595 -0.515044 -0.172712  0.576819 -0.037165  0.621477 -0.621477  \n",
              "722 -0.052595  1.941581 -0.172712 -1.733645 -0.037165 -1.609071  1.609071  \n",
              "723 -0.052595  1.941581 -0.172712 -1.733645 -0.037165  0.621477 -0.621477  \n",
              "724 -0.052595  1.941581 -0.172712 -1.733645 -0.037165  0.621477 -0.621477  \n",
              "\n",
              "[725 rows x 38 columns]"
            ],
            "text/html": [
              "\n",
              "  <div id=\"df-e8bdb889-0efd-4908-9dcd-5bd0bbae51f3\">\n",
              "    <div class=\"colab-df-container\">\n",
              "      <div>\n",
              "<style scoped>\n",
              "    .dataframe tbody tr th:only-of-type {\n",
              "        vertical-align: middle;\n",
              "    }\n",
              "\n",
              "    .dataframe tbody tr th {\n",
              "        vertical-align: top;\n",
              "    }\n",
              "\n",
              "    .dataframe thead th {\n",
              "        text-align: right;\n",
              "    }\n",
              "</style>\n",
              "<table border=\"1\" class=\"dataframe\">\n",
              "  <thead>\n",
              "    <tr style=\"text-align: right;\">\n",
              "      <th></th>\n",
              "      <th>0</th>\n",
              "      <th>1</th>\n",
              "      <th>2</th>\n",
              "      <th>3</th>\n",
              "      <th>4</th>\n",
              "      <th>5</th>\n",
              "      <th>6</th>\n",
              "      <th>7</th>\n",
              "      <th>8</th>\n",
              "      <th>9</th>\n",
              "      <th>...</th>\n",
              "      <th>28</th>\n",
              "      <th>29</th>\n",
              "      <th>30</th>\n",
              "      <th>31</th>\n",
              "      <th>32</th>\n",
              "      <th>33</th>\n",
              "      <th>34</th>\n",
              "      <th>35</th>\n",
              "      <th>36</th>\n",
              "      <th>37</th>\n",
              "    </tr>\n",
              "  </thead>\n",
              "  <tbody>\n",
              "    <tr>\n",
              "      <th>0</th>\n",
              "      <td>0.627914</td>\n",
              "      <td>0.844640</td>\n",
              "      <td>0.0</td>\n",
              "      <td>-0.418378</td>\n",
              "      <td>2.457404</td>\n",
              "      <td>-0.397677</td>\n",
              "      <td>-1.157026</td>\n",
              "      <td>0.937144</td>\n",
              "      <td>-0.937144</td>\n",
              "      <td>-1.820845</td>\n",
              "      <td>...</td>\n",
              "      <td>0.835399</td>\n",
              "      <td>-0.480520</td>\n",
              "      <td>-0.083333</td>\n",
              "      <td>-0.052595</td>\n",
              "      <td>-0.515044</td>\n",
              "      <td>-0.172712</td>\n",
              "      <td>0.576819</td>\n",
              "      <td>-0.037165</td>\n",
              "      <td>0.621477</td>\n",
              "      <td>-0.621477</td>\n",
              "    </tr>\n",
              "    <tr>\n",
              "      <th>1</th>\n",
              "      <td>-0.237265</td>\n",
              "      <td>-0.747984</td>\n",
              "      <td>0.0</td>\n",
              "      <td>2.390181</td>\n",
              "      <td>-0.406933</td>\n",
              "      <td>-0.397677</td>\n",
              "      <td>-1.157026</td>\n",
              "      <td>0.937144</td>\n",
              "      <td>-0.937144</td>\n",
              "      <td>0.549196</td>\n",
              "      <td>...</td>\n",
              "      <td>0.835399</td>\n",
              "      <td>-0.480520</td>\n",
              "      <td>-0.083333</td>\n",
              "      <td>-0.052595</td>\n",
              "      <td>-0.515044</td>\n",
              "      <td>-0.172712</td>\n",
              "      <td>0.576819</td>\n",
              "      <td>-0.037165</td>\n",
              "      <td>0.621477</td>\n",
              "      <td>-0.621477</td>\n",
              "    </tr>\n",
              "    <tr>\n",
              "      <th>2</th>\n",
              "      <td>-0.453560</td>\n",
              "      <td>0.844640</td>\n",
              "      <td>0.0</td>\n",
              "      <td>-0.418378</td>\n",
              "      <td>2.457404</td>\n",
              "      <td>-0.397677</td>\n",
              "      <td>-1.157026</td>\n",
              "      <td>0.937144</td>\n",
              "      <td>-0.937144</td>\n",
              "      <td>0.549196</td>\n",
              "      <td>...</td>\n",
              "      <td>0.835399</td>\n",
              "      <td>-0.480520</td>\n",
              "      <td>-0.083333</td>\n",
              "      <td>-0.052595</td>\n",
              "      <td>-0.515044</td>\n",
              "      <td>-0.172712</td>\n",
              "      <td>0.576819</td>\n",
              "      <td>-0.037165</td>\n",
              "      <td>0.621477</td>\n",
              "      <td>-0.621477</td>\n",
              "    </tr>\n",
              "    <tr>\n",
              "      <th>3</th>\n",
              "      <td>0.411619</td>\n",
              "      <td>0.844640</td>\n",
              "      <td>0.0</td>\n",
              "      <td>2.390181</td>\n",
              "      <td>-0.406933</td>\n",
              "      <td>-0.397677</td>\n",
              "      <td>-1.157026</td>\n",
              "      <td>0.937144</td>\n",
              "      <td>-0.937144</td>\n",
              "      <td>0.549196</td>\n",
              "      <td>...</td>\n",
              "      <td>0.835399</td>\n",
              "      <td>-0.480520</td>\n",
              "      <td>-0.083333</td>\n",
              "      <td>-0.052595</td>\n",
              "      <td>-0.515044</td>\n",
              "      <td>-0.172712</td>\n",
              "      <td>0.576819</td>\n",
              "      <td>-0.037165</td>\n",
              "      <td>0.621477</td>\n",
              "      <td>-0.621477</td>\n",
              "    </tr>\n",
              "    <tr>\n",
              "      <th>4</th>\n",
              "      <td>-0.886150</td>\n",
              "      <td>2.437264</td>\n",
              "      <td>0.0</td>\n",
              "      <td>2.390181</td>\n",
              "      <td>-0.406933</td>\n",
              "      <td>-0.397677</td>\n",
              "      <td>-1.157026</td>\n",
              "      <td>0.937144</td>\n",
              "      <td>-0.937144</td>\n",
              "      <td>-1.820845</td>\n",
              "      <td>...</td>\n",
              "      <td>0.835399</td>\n",
              "      <td>-0.480520</td>\n",
              "      <td>-0.083333</td>\n",
              "      <td>-0.052595</td>\n",
              "      <td>1.941581</td>\n",
              "      <td>-0.172712</td>\n",
              "      <td>-1.733645</td>\n",
              "      <td>-0.037165</td>\n",
              "      <td>0.621477</td>\n",
              "      <td>-0.621477</td>\n",
              "    </tr>\n",
              "    <tr>\n",
              "      <th>...</th>\n",
              "      <td>...</td>\n",
              "      <td>...</td>\n",
              "      <td>...</td>\n",
              "      <td>...</td>\n",
              "      <td>...</td>\n",
              "      <td>...</td>\n",
              "      <td>...</td>\n",
              "      <td>...</td>\n",
              "      <td>...</td>\n",
              "      <td>...</td>\n",
              "      <td>...</td>\n",
              "      <td>...</td>\n",
              "      <td>...</td>\n",
              "      <td>...</td>\n",
              "      <td>...</td>\n",
              "      <td>...</td>\n",
              "      <td>...</td>\n",
              "      <td>...</td>\n",
              "      <td>...</td>\n",
              "      <td>...</td>\n",
              "      <td>...</td>\n",
              "    </tr>\n",
              "    <tr>\n",
              "      <th>720</th>\n",
              "      <td>-0.669855</td>\n",
              "      <td>0.048328</td>\n",
              "      <td>0.0</td>\n",
              "      <td>2.390181</td>\n",
              "      <td>-0.406933</td>\n",
              "      <td>-0.397677</td>\n",
              "      <td>-1.157026</td>\n",
              "      <td>-1.067072</td>\n",
              "      <td>1.067072</td>\n",
              "      <td>-1.820845</td>\n",
              "      <td>...</td>\n",
              "      <td>0.835399</td>\n",
              "      <td>-0.480520</td>\n",
              "      <td>-0.083333</td>\n",
              "      <td>-0.052595</td>\n",
              "      <td>1.941581</td>\n",
              "      <td>-0.172712</td>\n",
              "      <td>-1.733645</td>\n",
              "      <td>-0.037165</td>\n",
              "      <td>0.621477</td>\n",
              "      <td>-0.621477</td>\n",
              "    </tr>\n",
              "    <tr>\n",
              "      <th>721</th>\n",
              "      <td>-0.020970</td>\n",
              "      <td>0.844640</td>\n",
              "      <td>0.0</td>\n",
              "      <td>-0.418378</td>\n",
              "      <td>-0.406933</td>\n",
              "      <td>-0.397677</td>\n",
              "      <td>0.864285</td>\n",
              "      <td>-1.067072</td>\n",
              "      <td>1.067072</td>\n",
              "      <td>0.549196</td>\n",
              "      <td>...</td>\n",
              "      <td>0.835399</td>\n",
              "      <td>-0.480520</td>\n",
              "      <td>-0.083333</td>\n",
              "      <td>-0.052595</td>\n",
              "      <td>-0.515044</td>\n",
              "      <td>-0.172712</td>\n",
              "      <td>0.576819</td>\n",
              "      <td>-0.037165</td>\n",
              "      <td>0.621477</td>\n",
              "      <td>-0.621477</td>\n",
              "    </tr>\n",
              "    <tr>\n",
              "      <th>722</th>\n",
              "      <td>0.411619</td>\n",
              "      <td>-0.747984</td>\n",
              "      <td>0.0</td>\n",
              "      <td>-0.418378</td>\n",
              "      <td>-0.406933</td>\n",
              "      <td>2.514604</td>\n",
              "      <td>-1.157026</td>\n",
              "      <td>-1.067072</td>\n",
              "      <td>1.067072</td>\n",
              "      <td>-1.820845</td>\n",
              "      <td>...</td>\n",
              "      <td>0.835399</td>\n",
              "      <td>-0.480520</td>\n",
              "      <td>-0.083333</td>\n",
              "      <td>-0.052595</td>\n",
              "      <td>1.941581</td>\n",
              "      <td>-0.172712</td>\n",
              "      <td>-1.733645</td>\n",
              "      <td>-0.037165</td>\n",
              "      <td>-1.609071</td>\n",
              "      <td>1.609071</td>\n",
              "    </tr>\n",
              "    <tr>\n",
              "      <th>723</th>\n",
              "      <td>-0.453560</td>\n",
              "      <td>-0.747984</td>\n",
              "      <td>0.0</td>\n",
              "      <td>-0.418378</td>\n",
              "      <td>-0.406933</td>\n",
              "      <td>2.514604</td>\n",
              "      <td>-1.157026</td>\n",
              "      <td>0.937144</td>\n",
              "      <td>-0.937144</td>\n",
              "      <td>-1.820845</td>\n",
              "      <td>...</td>\n",
              "      <td>0.835399</td>\n",
              "      <td>-0.480520</td>\n",
              "      <td>-0.083333</td>\n",
              "      <td>-0.052595</td>\n",
              "      <td>1.941581</td>\n",
              "      <td>-0.172712</td>\n",
              "      <td>-1.733645</td>\n",
              "      <td>-0.037165</td>\n",
              "      <td>0.621477</td>\n",
              "      <td>-0.621477</td>\n",
              "    </tr>\n",
              "    <tr>\n",
              "      <th>724</th>\n",
              "      <td>0.411619</td>\n",
              "      <td>-0.747984</td>\n",
              "      <td>0.0</td>\n",
              "      <td>-0.418378</td>\n",
              "      <td>-0.406933</td>\n",
              "      <td>2.514604</td>\n",
              "      <td>-1.157026</td>\n",
              "      <td>0.937144</td>\n",
              "      <td>-0.937144</td>\n",
              "      <td>-1.820845</td>\n",
              "      <td>...</td>\n",
              "      <td>-1.197032</td>\n",
              "      <td>2.081077</td>\n",
              "      <td>-0.083333</td>\n",
              "      <td>-0.052595</td>\n",
              "      <td>1.941581</td>\n",
              "      <td>-0.172712</td>\n",
              "      <td>-1.733645</td>\n",
              "      <td>-0.037165</td>\n",
              "      <td>0.621477</td>\n",
              "      <td>-0.621477</td>\n",
              "    </tr>\n",
              "  </tbody>\n",
              "</table>\n",
              "<p>725 rows × 38 columns</p>\n",
              "</div>\n",
              "      <button class=\"colab-df-convert\" onclick=\"convertToInteractive('df-e8bdb889-0efd-4908-9dcd-5bd0bbae51f3')\"\n",
              "              title=\"Convert this dataframe to an interactive table.\"\n",
              "              style=\"display:none;\">\n",
              "        \n",
              "  <svg xmlns=\"http://www.w3.org/2000/svg\" height=\"24px\"viewBox=\"0 0 24 24\"\n",
              "       width=\"24px\">\n",
              "    <path d=\"M0 0h24v24H0V0z\" fill=\"none\"/>\n",
              "    <path d=\"M18.56 5.44l.94 2.06.94-2.06 2.06-.94-2.06-.94-.94-2.06-.94 2.06-2.06.94zm-11 1L8.5 8.5l.94-2.06 2.06-.94-2.06-.94L8.5 2.5l-.94 2.06-2.06.94zm10 10l.94 2.06.94-2.06 2.06-.94-2.06-.94-.94-2.06-.94 2.06-2.06.94z\"/><path d=\"M17.41 7.96l-1.37-1.37c-.4-.4-.92-.59-1.43-.59-.52 0-1.04.2-1.43.59L10.3 9.45l-7.72 7.72c-.78.78-.78 2.05 0 2.83L4 21.41c.39.39.9.59 1.41.59.51 0 1.02-.2 1.41-.59l7.78-7.78 2.81-2.81c.8-.78.8-2.07 0-2.86zM5.41 20L4 18.59l7.72-7.72 1.47 1.35L5.41 20z\"/>\n",
              "  </svg>\n",
              "      </button>\n",
              "      \n",
              "  <style>\n",
              "    .colab-df-container {\n",
              "      display:flex;\n",
              "      flex-wrap:wrap;\n",
              "      gap: 12px;\n",
              "    }\n",
              "\n",
              "    .colab-df-convert {\n",
              "      background-color: #E8F0FE;\n",
              "      border: none;\n",
              "      border-radius: 50%;\n",
              "      cursor: pointer;\n",
              "      display: none;\n",
              "      fill: #1967D2;\n",
              "      height: 32px;\n",
              "      padding: 0 0 0 0;\n",
              "      width: 32px;\n",
              "    }\n",
              "\n",
              "    .colab-df-convert:hover {\n",
              "      background-color: #E2EBFA;\n",
              "      box-shadow: 0px 1px 2px rgba(60, 64, 67, 0.3), 0px 1px 3px 1px rgba(60, 64, 67, 0.15);\n",
              "      fill: #174EA6;\n",
              "    }\n",
              "\n",
              "    [theme=dark] .colab-df-convert {\n",
              "      background-color: #3B4455;\n",
              "      fill: #D2E3FC;\n",
              "    }\n",
              "\n",
              "    [theme=dark] .colab-df-convert:hover {\n",
              "      background-color: #434B5C;\n",
              "      box-shadow: 0px 1px 3px 1px rgba(0, 0, 0, 0.15);\n",
              "      filter: drop-shadow(0px 1px 2px rgba(0, 0, 0, 0.3));\n",
              "      fill: #FFFFFF;\n",
              "    }\n",
              "  </style>\n",
              "\n",
              "      <script>\n",
              "        const buttonEl =\n",
              "          document.querySelector('#df-e8bdb889-0efd-4908-9dcd-5bd0bbae51f3 button.colab-df-convert');\n",
              "        buttonEl.style.display =\n",
              "          google.colab.kernel.accessAllowed ? 'block' : 'none';\n",
              "\n",
              "        async function convertToInteractive(key) {\n",
              "          const element = document.querySelector('#df-e8bdb889-0efd-4908-9dcd-5bd0bbae51f3');\n",
              "          const dataTable =\n",
              "            await google.colab.kernel.invokeFunction('convertToInteractive',\n",
              "                                                     [key], {});\n",
              "          if (!dataTable) return;\n",
              "\n",
              "          const docLinkHtml = 'Like what you see? Visit the ' +\n",
              "            '<a target=\"_blank\" href=https://colab.research.google.com/notebooks/data_table.ipynb>data table notebook</a>'\n",
              "            + ' to learn more about interactive tables.';\n",
              "          element.innerHTML = '';\n",
              "          dataTable['output_type'] = 'display_data';\n",
              "          await google.colab.output.renderOutput(dataTable, element);\n",
              "          const docLink = document.createElement('div');\n",
              "          docLink.innerHTML = docLinkHtml;\n",
              "          element.appendChild(docLink);\n",
              "        }\n",
              "      </script>\n",
              "    </div>\n",
              "  </div>\n",
              "  "
            ]
          },
          "metadata": {},
          "execution_count": 44
        }
      ]
    },
    {
      "cell_type": "markdown",
      "source": [
        "**4.2.2 Normalization**\n",
        "\n",
        "A way to normalize the input features/variables is the Min-Max scaler. By doing so, all features will be transformed into the range [0,1] meaning that the minimum and maximum value of a feature/variable is going to be 0 and 1, respectively.\n",
        "\n",
        "The main idea behind normalization/standardization is always the same. Variables that are measured at different scales do not contribute equally to the model fitting & model learned function and might end up creating a bias. Thus, to deal with this potential problem feature-wise normalization such as MinMax Scaling is usually used prior to model fitting.\n",
        "\n",
        "reference : https://stackoverflow.com/questions/62178888/can-someone-explain-to-me-how-minmaxscaler-works\n"
      ],
      "metadata": {
        "id": "AdhBeaKIFLfN"
      }
    },
    {
      "cell_type": "markdown",
      "source": [
        "Change the data, if the high data will be changed to 1 and the low will be changed to 0. and using the average approach"
      ],
      "metadata": {
        "id": "QbB95F_Hp8lR"
      }
    },
    {
      "cell_type": "code",
      "source": [
        "from sklearn.preprocessing import MinMaxScaler\n",
        "x = MinMaxScaler().fit_transform(x)\n",
        "x = pd.DataFrame(x)\n",
        "\n",
        "x"
      ],
      "metadata": {
        "id": "gtFKYb9DlEhV",
        "colab": {
          "base_uri": "https://localhost:8080/",
          "height": 424
        },
        "outputId": "45d0bcab-e0c6-469c-e895-727d24ae09fe"
      },
      "execution_count": 71,
      "outputs": [
        {
          "output_type": "execute_result",
          "data": {
            "text/plain": [
              "           0         1         2    3    4    5    6    7    8    9   ...  \\\n",
              "0    0.800000  0.571429  0.545455  0.0  0.0  1.0  0.0  0.0  1.0  0.0  ...   \n",
              "1    0.433333  0.571429  0.545455  0.0  0.0  1.0  0.0  0.0  1.0  0.0  ...   \n",
              "2    0.300000  0.285714  0.545455  0.0  1.0  0.0  0.0  0.0  1.0  0.0  ...   \n",
              "3    0.266667  0.571429  0.545455  0.0  0.0  1.0  0.0  0.0  1.0  0.0  ...   \n",
              "4    0.400000  0.571429  0.727273  0.0  1.0  0.0  0.0  0.0  1.0  0.0  ...   \n",
              "..        ...       ...       ...  ...  ...  ...  ...  ...  ...  ...  ...   \n",
              "947  0.333333  0.571429  0.545455  0.0  0.0  0.0  0.0  1.0  0.0  1.0  ...   \n",
              "948  0.400000  0.285714  0.454545  0.0  0.0  0.0  1.0  0.0  0.0  1.0  ...   \n",
              "949  0.266667  0.285714  0.454545  0.0  0.0  0.0  1.0  0.0  1.0  0.0  ...   \n",
              "950  0.400000  0.285714  0.454545  0.0  0.0  0.0  1.0  0.0  1.0  0.0  ...   \n",
              "951  0.500000  0.428571  0.363636  0.5  0.0  0.0  1.0  0.0  0.0  1.0  ...   \n",
              "\n",
              "      35   36   37   38   39   40   41   42   43   44  \n",
              "0    0.0  0.0  1.0  0.0  0.0  1.0  0.0  0.0  1.0  0.0  \n",
              "1    1.0  0.0  1.0  0.0  0.0  1.0  0.0  0.0  1.0  0.0  \n",
              "2    1.0  0.0  1.0  0.0  0.0  1.0  0.0  0.0  1.0  0.0  \n",
              "3    1.0  0.0  1.0  0.0  0.0  1.0  0.0  0.0  1.0  0.0  \n",
              "4    1.0  0.0  1.0  0.0  0.0  1.0  0.0  0.0  1.0  0.0  \n",
              "..   ...  ...  ...  ...  ...  ...  ...  ...  ...  ...  \n",
              "947  1.0  0.0  1.0  0.0  0.0  1.0  0.0  0.0  0.0  1.0  \n",
              "948  0.0  0.0  1.0  0.0  0.0  0.0  1.0  0.0  0.0  1.0  \n",
              "949  0.0  0.0  1.0  0.0  0.0  1.0  0.0  0.0  1.0  0.0  \n",
              "950  0.0  0.0  1.0  0.0  0.0  1.0  0.0  0.0  1.0  0.0  \n",
              "951  0.0  0.0  1.0  0.0  0.0  0.0  1.0  0.0  0.0  1.0  \n",
              "\n",
              "[952 rows x 45 columns]"
            ],
            "text/html": [
              "\n",
              "  <div id=\"df-b2ab01b0-3574-42d3-8715-b533c081ea04\">\n",
              "    <div class=\"colab-df-container\">\n",
              "      <div>\n",
              "<style scoped>\n",
              "    .dataframe tbody tr th:only-of-type {\n",
              "        vertical-align: middle;\n",
              "    }\n",
              "\n",
              "    .dataframe tbody tr th {\n",
              "        vertical-align: top;\n",
              "    }\n",
              "\n",
              "    .dataframe thead th {\n",
              "        text-align: right;\n",
              "    }\n",
              "</style>\n",
              "<table border=\"1\" class=\"dataframe\">\n",
              "  <thead>\n",
              "    <tr style=\"text-align: right;\">\n",
              "      <th></th>\n",
              "      <th>0</th>\n",
              "      <th>1</th>\n",
              "      <th>2</th>\n",
              "      <th>3</th>\n",
              "      <th>4</th>\n",
              "      <th>5</th>\n",
              "      <th>6</th>\n",
              "      <th>7</th>\n",
              "      <th>8</th>\n",
              "      <th>9</th>\n",
              "      <th>...</th>\n",
              "      <th>35</th>\n",
              "      <th>36</th>\n",
              "      <th>37</th>\n",
              "      <th>38</th>\n",
              "      <th>39</th>\n",
              "      <th>40</th>\n",
              "      <th>41</th>\n",
              "      <th>42</th>\n",
              "      <th>43</th>\n",
              "      <th>44</th>\n",
              "    </tr>\n",
              "  </thead>\n",
              "  <tbody>\n",
              "    <tr>\n",
              "      <th>0</th>\n",
              "      <td>0.800000</td>\n",
              "      <td>0.571429</td>\n",
              "      <td>0.545455</td>\n",
              "      <td>0.0</td>\n",
              "      <td>0.0</td>\n",
              "      <td>1.0</td>\n",
              "      <td>0.0</td>\n",
              "      <td>0.0</td>\n",
              "      <td>1.0</td>\n",
              "      <td>0.0</td>\n",
              "      <td>...</td>\n",
              "      <td>0.0</td>\n",
              "      <td>0.0</td>\n",
              "      <td>1.0</td>\n",
              "      <td>0.0</td>\n",
              "      <td>0.0</td>\n",
              "      <td>1.0</td>\n",
              "      <td>0.0</td>\n",
              "      <td>0.0</td>\n",
              "      <td>1.0</td>\n",
              "      <td>0.0</td>\n",
              "    </tr>\n",
              "    <tr>\n",
              "      <th>1</th>\n",
              "      <td>0.433333</td>\n",
              "      <td>0.571429</td>\n",
              "      <td>0.545455</td>\n",
              "      <td>0.0</td>\n",
              "      <td>0.0</td>\n",
              "      <td>1.0</td>\n",
              "      <td>0.0</td>\n",
              "      <td>0.0</td>\n",
              "      <td>1.0</td>\n",
              "      <td>0.0</td>\n",
              "      <td>...</td>\n",
              "      <td>1.0</td>\n",
              "      <td>0.0</td>\n",
              "      <td>1.0</td>\n",
              "      <td>0.0</td>\n",
              "      <td>0.0</td>\n",
              "      <td>1.0</td>\n",
              "      <td>0.0</td>\n",
              "      <td>0.0</td>\n",
              "      <td>1.0</td>\n",
              "      <td>0.0</td>\n",
              "    </tr>\n",
              "    <tr>\n",
              "      <th>2</th>\n",
              "      <td>0.300000</td>\n",
              "      <td>0.285714</td>\n",
              "      <td>0.545455</td>\n",
              "      <td>0.0</td>\n",
              "      <td>1.0</td>\n",
              "      <td>0.0</td>\n",
              "      <td>0.0</td>\n",
              "      <td>0.0</td>\n",
              "      <td>1.0</td>\n",
              "      <td>0.0</td>\n",
              "      <td>...</td>\n",
              "      <td>1.0</td>\n",
              "      <td>0.0</td>\n",
              "      <td>1.0</td>\n",
              "      <td>0.0</td>\n",
              "      <td>0.0</td>\n",
              "      <td>1.0</td>\n",
              "      <td>0.0</td>\n",
              "      <td>0.0</td>\n",
              "      <td>1.0</td>\n",
              "      <td>0.0</td>\n",
              "    </tr>\n",
              "    <tr>\n",
              "      <th>3</th>\n",
              "      <td>0.266667</td>\n",
              "      <td>0.571429</td>\n",
              "      <td>0.545455</td>\n",
              "      <td>0.0</td>\n",
              "      <td>0.0</td>\n",
              "      <td>1.0</td>\n",
              "      <td>0.0</td>\n",
              "      <td>0.0</td>\n",
              "      <td>1.0</td>\n",
              "      <td>0.0</td>\n",
              "      <td>...</td>\n",
              "      <td>1.0</td>\n",
              "      <td>0.0</td>\n",
              "      <td>1.0</td>\n",
              "      <td>0.0</td>\n",
              "      <td>0.0</td>\n",
              "      <td>1.0</td>\n",
              "      <td>0.0</td>\n",
              "      <td>0.0</td>\n",
              "      <td>1.0</td>\n",
              "      <td>0.0</td>\n",
              "    </tr>\n",
              "    <tr>\n",
              "      <th>4</th>\n",
              "      <td>0.400000</td>\n",
              "      <td>0.571429</td>\n",
              "      <td>0.727273</td>\n",
              "      <td>0.0</td>\n",
              "      <td>1.0</td>\n",
              "      <td>0.0</td>\n",
              "      <td>0.0</td>\n",
              "      <td>0.0</td>\n",
              "      <td>1.0</td>\n",
              "      <td>0.0</td>\n",
              "      <td>...</td>\n",
              "      <td>1.0</td>\n",
              "      <td>0.0</td>\n",
              "      <td>1.0</td>\n",
              "      <td>0.0</td>\n",
              "      <td>0.0</td>\n",
              "      <td>1.0</td>\n",
              "      <td>0.0</td>\n",
              "      <td>0.0</td>\n",
              "      <td>1.0</td>\n",
              "      <td>0.0</td>\n",
              "    </tr>\n",
              "    <tr>\n",
              "      <th>...</th>\n",
              "      <td>...</td>\n",
              "      <td>...</td>\n",
              "      <td>...</td>\n",
              "      <td>...</td>\n",
              "      <td>...</td>\n",
              "      <td>...</td>\n",
              "      <td>...</td>\n",
              "      <td>...</td>\n",
              "      <td>...</td>\n",
              "      <td>...</td>\n",
              "      <td>...</td>\n",
              "      <td>...</td>\n",
              "      <td>...</td>\n",
              "      <td>...</td>\n",
              "      <td>...</td>\n",
              "      <td>...</td>\n",
              "      <td>...</td>\n",
              "      <td>...</td>\n",
              "      <td>...</td>\n",
              "      <td>...</td>\n",
              "      <td>...</td>\n",
              "    </tr>\n",
              "    <tr>\n",
              "      <th>947</th>\n",
              "      <td>0.333333</td>\n",
              "      <td>0.571429</td>\n",
              "      <td>0.545455</td>\n",
              "      <td>0.0</td>\n",
              "      <td>0.0</td>\n",
              "      <td>0.0</td>\n",
              "      <td>0.0</td>\n",
              "      <td>1.0</td>\n",
              "      <td>0.0</td>\n",
              "      <td>1.0</td>\n",
              "      <td>...</td>\n",
              "      <td>1.0</td>\n",
              "      <td>0.0</td>\n",
              "      <td>1.0</td>\n",
              "      <td>0.0</td>\n",
              "      <td>0.0</td>\n",
              "      <td>1.0</td>\n",
              "      <td>0.0</td>\n",
              "      <td>0.0</td>\n",
              "      <td>0.0</td>\n",
              "      <td>1.0</td>\n",
              "    </tr>\n",
              "    <tr>\n",
              "      <th>948</th>\n",
              "      <td>0.400000</td>\n",
              "      <td>0.285714</td>\n",
              "      <td>0.454545</td>\n",
              "      <td>0.0</td>\n",
              "      <td>0.0</td>\n",
              "      <td>0.0</td>\n",
              "      <td>1.0</td>\n",
              "      <td>0.0</td>\n",
              "      <td>0.0</td>\n",
              "      <td>1.0</td>\n",
              "      <td>...</td>\n",
              "      <td>0.0</td>\n",
              "      <td>0.0</td>\n",
              "      <td>1.0</td>\n",
              "      <td>0.0</td>\n",
              "      <td>0.0</td>\n",
              "      <td>0.0</td>\n",
              "      <td>1.0</td>\n",
              "      <td>0.0</td>\n",
              "      <td>0.0</td>\n",
              "      <td>1.0</td>\n",
              "    </tr>\n",
              "    <tr>\n",
              "      <th>949</th>\n",
              "      <td>0.266667</td>\n",
              "      <td>0.285714</td>\n",
              "      <td>0.454545</td>\n",
              "      <td>0.0</td>\n",
              "      <td>0.0</td>\n",
              "      <td>0.0</td>\n",
              "      <td>1.0</td>\n",
              "      <td>0.0</td>\n",
              "      <td>1.0</td>\n",
              "      <td>0.0</td>\n",
              "      <td>...</td>\n",
              "      <td>0.0</td>\n",
              "      <td>0.0</td>\n",
              "      <td>1.0</td>\n",
              "      <td>0.0</td>\n",
              "      <td>0.0</td>\n",
              "      <td>1.0</td>\n",
              "      <td>0.0</td>\n",
              "      <td>0.0</td>\n",
              "      <td>1.0</td>\n",
              "      <td>0.0</td>\n",
              "    </tr>\n",
              "    <tr>\n",
              "      <th>950</th>\n",
              "      <td>0.400000</td>\n",
              "      <td>0.285714</td>\n",
              "      <td>0.454545</td>\n",
              "      <td>0.0</td>\n",
              "      <td>0.0</td>\n",
              "      <td>0.0</td>\n",
              "      <td>1.0</td>\n",
              "      <td>0.0</td>\n",
              "      <td>1.0</td>\n",
              "      <td>0.0</td>\n",
              "      <td>...</td>\n",
              "      <td>0.0</td>\n",
              "      <td>0.0</td>\n",
              "      <td>1.0</td>\n",
              "      <td>0.0</td>\n",
              "      <td>0.0</td>\n",
              "      <td>1.0</td>\n",
              "      <td>0.0</td>\n",
              "      <td>0.0</td>\n",
              "      <td>1.0</td>\n",
              "      <td>0.0</td>\n",
              "    </tr>\n",
              "    <tr>\n",
              "      <th>951</th>\n",
              "      <td>0.500000</td>\n",
              "      <td>0.428571</td>\n",
              "      <td>0.363636</td>\n",
              "      <td>0.5</td>\n",
              "      <td>0.0</td>\n",
              "      <td>0.0</td>\n",
              "      <td>1.0</td>\n",
              "      <td>0.0</td>\n",
              "      <td>0.0</td>\n",
              "      <td>1.0</td>\n",
              "      <td>...</td>\n",
              "      <td>0.0</td>\n",
              "      <td>0.0</td>\n",
              "      <td>1.0</td>\n",
              "      <td>0.0</td>\n",
              "      <td>0.0</td>\n",
              "      <td>0.0</td>\n",
              "      <td>1.0</td>\n",
              "      <td>0.0</td>\n",
              "      <td>0.0</td>\n",
              "      <td>1.0</td>\n",
              "    </tr>\n",
              "  </tbody>\n",
              "</table>\n",
              "<p>952 rows × 45 columns</p>\n",
              "</div>\n",
              "      <button class=\"colab-df-convert\" onclick=\"convertToInteractive('df-b2ab01b0-3574-42d3-8715-b533c081ea04')\"\n",
              "              title=\"Convert this dataframe to an interactive table.\"\n",
              "              style=\"display:none;\">\n",
              "        \n",
              "  <svg xmlns=\"http://www.w3.org/2000/svg\" height=\"24px\"viewBox=\"0 0 24 24\"\n",
              "       width=\"24px\">\n",
              "    <path d=\"M0 0h24v24H0V0z\" fill=\"none\"/>\n",
              "    <path d=\"M18.56 5.44l.94 2.06.94-2.06 2.06-.94-2.06-.94-.94-2.06-.94 2.06-2.06.94zm-11 1L8.5 8.5l.94-2.06 2.06-.94-2.06-.94L8.5 2.5l-.94 2.06-2.06.94zm10 10l.94 2.06.94-2.06 2.06-.94-2.06-.94-.94-2.06-.94 2.06-2.06.94z\"/><path d=\"M17.41 7.96l-1.37-1.37c-.4-.4-.92-.59-1.43-.59-.52 0-1.04.2-1.43.59L10.3 9.45l-7.72 7.72c-.78.78-.78 2.05 0 2.83L4 21.41c.39.39.9.59 1.41.59.51 0 1.02-.2 1.41-.59l7.78-7.78 2.81-2.81c.8-.78.8-2.07 0-2.86zM5.41 20L4 18.59l7.72-7.72 1.47 1.35L5.41 20z\"/>\n",
              "  </svg>\n",
              "      </button>\n",
              "      \n",
              "  <style>\n",
              "    .colab-df-container {\n",
              "      display:flex;\n",
              "      flex-wrap:wrap;\n",
              "      gap: 12px;\n",
              "    }\n",
              "\n",
              "    .colab-df-convert {\n",
              "      background-color: #E8F0FE;\n",
              "      border: none;\n",
              "      border-radius: 50%;\n",
              "      cursor: pointer;\n",
              "      display: none;\n",
              "      fill: #1967D2;\n",
              "      height: 32px;\n",
              "      padding: 0 0 0 0;\n",
              "      width: 32px;\n",
              "    }\n",
              "\n",
              "    .colab-df-convert:hover {\n",
              "      background-color: #E2EBFA;\n",
              "      box-shadow: 0px 1px 2px rgba(60, 64, 67, 0.3), 0px 1px 3px 1px rgba(60, 64, 67, 0.15);\n",
              "      fill: #174EA6;\n",
              "    }\n",
              "\n",
              "    [theme=dark] .colab-df-convert {\n",
              "      background-color: #3B4455;\n",
              "      fill: #D2E3FC;\n",
              "    }\n",
              "\n",
              "    [theme=dark] .colab-df-convert:hover {\n",
              "      background-color: #434B5C;\n",
              "      box-shadow: 0px 1px 3px 1px rgba(0, 0, 0, 0.15);\n",
              "      filter: drop-shadow(0px 1px 2px rgba(0, 0, 0, 0.3));\n",
              "      fill: #FFFFFF;\n",
              "    }\n",
              "  </style>\n",
              "\n",
              "      <script>\n",
              "        const buttonEl =\n",
              "          document.querySelector('#df-b2ab01b0-3574-42d3-8715-b533c081ea04 button.colab-df-convert');\n",
              "        buttonEl.style.display =\n",
              "          google.colab.kernel.accessAllowed ? 'block' : 'none';\n",
              "\n",
              "        async function convertToInteractive(key) {\n",
              "          const element = document.querySelector('#df-b2ab01b0-3574-42d3-8715-b533c081ea04');\n",
              "          const dataTable =\n",
              "            await google.colab.kernel.invokeFunction('convertToInteractive',\n",
              "                                                     [key], {});\n",
              "          if (!dataTable) return;\n",
              "\n",
              "          const docLinkHtml = 'Like what you see? Visit the ' +\n",
              "            '<a target=\"_blank\" href=https://colab.research.google.com/notebooks/data_table.ipynb>data table notebook</a>'\n",
              "            + ' to learn more about interactive tables.';\n",
              "          element.innerHTML = '';\n",
              "          dataTable['output_type'] = 'display_data';\n",
              "          await google.colab.output.renderOutput(dataTable, element);\n",
              "          const docLink = document.createElement('div');\n",
              "          docLink.innerHTML = docLinkHtml;\n",
              "          element.appendChild(docLink);\n",
              "        }\n",
              "      </script>\n",
              "    </div>\n",
              "  </div>\n",
              "  "
            ]
          },
          "metadata": {},
          "execution_count": 71
        }
      ]
    },
    {
      "cell_type": "markdown",
      "source": [
        "**4.3 Splitting**"
      ],
      "metadata": {
        "id": "U5mVChyqI7e9"
      }
    },
    {
      "cell_type": "markdown",
      "source": [
        "Splitting the data, and the train is always large between 70% and 80% and at least 80% and must be larger than the test. And the larger the train, the more accurate the data."
      ],
      "metadata": {
        "id": "GkDjsHM0qrUB"
      }
    },
    {
      "cell_type": "code",
      "source": [
        "from sklearn.datasets import make_blobs\n",
        "from sklearn.model_selection import train_test_split\n",
        "x,y = make_blobs(n_samples=1000)\n",
        "xTrain, xTest, yTrain, yTest = train_test_split(x, y, test_size=0.33, random_state=1, stratify=y)"
      ],
      "metadata": {
        "id": "ACJMGLAHigHI"
      },
      "execution_count": 45,
      "outputs": []
    },
    {
      "cell_type": "code",
      "source": [
        "from collections import Counter\n",
        "print(\"Train distribution\", Counter(yTrain))\n",
        "print(\"Test distribution\", Counter(yTest))"
      ],
      "metadata": {
        "colab": {
          "base_uri": "https://localhost:8080/"
        },
        "id": "sSICmqDpMomI",
        "outputId": "1cfbab7a-6e30-469b-b31e-8c075b3d6160"
      },
      "execution_count": 46,
      "outputs": [
        {
          "output_type": "stream",
          "name": "stdout",
          "text": [
            "Train distribution Counter({0: 224, 1: 223, 2: 223})\n",
            "Test distribution Counter({0: 110, 1: 110, 2: 110})\n"
          ]
        }
      ]
    },
    {
      "cell_type": "markdown",
      "source": [
        "This stratify parameter makes a split so that the proportion of values in the sample produced will be the same as the proportion of values provided to parameter stratify.\n",
        "\n",
        "For example, if variable y is a binary categorical variable with values 0 and 1 and there are 25% of zeros and 75% of ones, stratify=y will make sure that your random split has 25% of 0's and 75% of 1's.\n",
        "\n",
        "For more: https://stackoverflow.com/questions/34842405/parameter-stratify-from-method-train-test-split-scikit-learn"
      ],
      "metadata": {
        "id": "QyCbWtbCI3v5"
      }
    },
    {
      "cell_type": "markdown",
      "source": [
        "Tugas praktekkan dengan dataset yg berbeda dari kaggle dan upload di github\n"
      ],
      "metadata": {
        "id": "an04NDqXOUHT"
      }
    },
    {
      "cell_type": "code",
      "source": [
        "from sklearn.linear_model import LogisticRegression\n",
        "\n",
        "models = []\n",
        "models.append(('LR', LogisticRegression()))"
      ],
      "metadata": {
        "id": "-9rDCS2vNw0D"
      },
      "execution_count": 21,
      "outputs": []
    },
    {
      "cell_type": "code",
      "source": [
        "results_c = []\n",
        "names_c = []\n",
        "\n",
        "for name, model in models:\n",
        "    # define how to split off validation data ('kfold' how many folds)\n",
        "    kfold = KFold(n_splits=10)    \n",
        "    # train the model\n",
        "    cv_results = cross_val_score(model, xTrain, yTrain, cv=kfold, scoring='accuracy')    \n",
        "    results_c.append(cv_results)\n",
        "    names_c.append(name)\n",
        "    msg = \"%s: %f (%f)\" % (name, cv_results.mean(), cv_results.std())\n",
        "    print(msg)"
      ],
      "metadata": {
        "colab": {
          "base_uri": "https://localhost:8080/"
        },
        "id": "4_yApp8fqKar",
        "outputId": "6d0a2241-8279-4288-88ab-9bb535215d1f"
      },
      "execution_count": 22,
      "outputs": [
        {
          "output_type": "stream",
          "name": "stdout",
          "text": [
            "LR: 0.997015 (0.005970)\n"
          ]
        }
      ]
    },
    {
      "cell_type": "code",
      "source": [
        "LR = LogisticRegression()\n",
        "LR.fit(xTrain, yTrain)"
      ],
      "metadata": {
        "colab": {
          "base_uri": "https://localhost:8080/",
          "height": 75
        },
        "id": "xQ1qS0elrBK6",
        "outputId": "0a19b4b8-219c-4796-bc6d-dad4846098d9"
      },
      "execution_count": 23,
      "outputs": [
        {
          "output_type": "execute_result",
          "data": {
            "text/plain": [
              "LogisticRegression()"
            ],
            "text/html": [
              "<style>#sk-container-id-1 {color: black;background-color: white;}#sk-container-id-1 pre{padding: 0;}#sk-container-id-1 div.sk-toggleable {background-color: white;}#sk-container-id-1 label.sk-toggleable__label {cursor: pointer;display: block;width: 100%;margin-bottom: 0;padding: 0.3em;box-sizing: border-box;text-align: center;}#sk-container-id-1 label.sk-toggleable__label-arrow:before {content: \"▸\";float: left;margin-right: 0.25em;color: #696969;}#sk-container-id-1 label.sk-toggleable__label-arrow:hover:before {color: black;}#sk-container-id-1 div.sk-estimator:hover label.sk-toggleable__label-arrow:before {color: black;}#sk-container-id-1 div.sk-toggleable__content {max-height: 0;max-width: 0;overflow: hidden;text-align: left;background-color: #f0f8ff;}#sk-container-id-1 div.sk-toggleable__content pre {margin: 0.2em;color: black;border-radius: 0.25em;background-color: #f0f8ff;}#sk-container-id-1 input.sk-toggleable__control:checked~div.sk-toggleable__content {max-height: 200px;max-width: 100%;overflow: auto;}#sk-container-id-1 input.sk-toggleable__control:checked~label.sk-toggleable__label-arrow:before {content: \"▾\";}#sk-container-id-1 div.sk-estimator input.sk-toggleable__control:checked~label.sk-toggleable__label {background-color: #d4ebff;}#sk-container-id-1 div.sk-label input.sk-toggleable__control:checked~label.sk-toggleable__label {background-color: #d4ebff;}#sk-container-id-1 input.sk-hidden--visually {border: 0;clip: rect(1px 1px 1px 1px);clip: rect(1px, 1px, 1px, 1px);height: 1px;margin: -1px;overflow: hidden;padding: 0;position: absolute;width: 1px;}#sk-container-id-1 div.sk-estimator {font-family: monospace;background-color: #f0f8ff;border: 1px dotted black;border-radius: 0.25em;box-sizing: border-box;margin-bottom: 0.5em;}#sk-container-id-1 div.sk-estimator:hover {background-color: #d4ebff;}#sk-container-id-1 div.sk-parallel-item::after {content: \"\";width: 100%;border-bottom: 1px solid gray;flex-grow: 1;}#sk-container-id-1 div.sk-label:hover label.sk-toggleable__label {background-color: #d4ebff;}#sk-container-id-1 div.sk-serial::before {content: \"\";position: absolute;border-left: 1px solid gray;box-sizing: border-box;top: 0;bottom: 0;left: 50%;z-index: 0;}#sk-container-id-1 div.sk-serial {display: flex;flex-direction: column;align-items: center;background-color: white;padding-right: 0.2em;padding-left: 0.2em;position: relative;}#sk-container-id-1 div.sk-item {position: relative;z-index: 1;}#sk-container-id-1 div.sk-parallel {display: flex;align-items: stretch;justify-content: center;background-color: white;position: relative;}#sk-container-id-1 div.sk-item::before, #sk-container-id-1 div.sk-parallel-item::before {content: \"\";position: absolute;border-left: 1px solid gray;box-sizing: border-box;top: 0;bottom: 0;left: 50%;z-index: -1;}#sk-container-id-1 div.sk-parallel-item {display: flex;flex-direction: column;z-index: 1;position: relative;background-color: white;}#sk-container-id-1 div.sk-parallel-item:first-child::after {align-self: flex-end;width: 50%;}#sk-container-id-1 div.sk-parallel-item:last-child::after {align-self: flex-start;width: 50%;}#sk-container-id-1 div.sk-parallel-item:only-child::after {width: 0;}#sk-container-id-1 div.sk-dashed-wrapped {border: 1px dashed gray;margin: 0 0.4em 0.5em 0.4em;box-sizing: border-box;padding-bottom: 0.4em;background-color: white;}#sk-container-id-1 div.sk-label label {font-family: monospace;font-weight: bold;display: inline-block;line-height: 1.2em;}#sk-container-id-1 div.sk-label-container {text-align: center;}#sk-container-id-1 div.sk-container {/* jupyter's `normalize.less` sets `[hidden] { display: none; }` but bootstrap.min.css set `[hidden] { display: none !important; }` so we also need the `!important` here to be able to override the default hidden behavior on the sphinx rendered scikit-learn.org. See: https://github.com/scikit-learn/scikit-learn/issues/21755 */display: inline-block !important;position: relative;}#sk-container-id-1 div.sk-text-repr-fallback {display: none;}</style><div id=\"sk-container-id-1\" class=\"sk-top-container\"><div class=\"sk-text-repr-fallback\"><pre>LogisticRegression()</pre><b>In a Jupyter environment, please rerun this cell to show the HTML representation or trust the notebook. <br />On GitHub, the HTML representation is unable to render, please try loading this page with nbviewer.org.</b></div><div class=\"sk-container\" hidden><div class=\"sk-item\"><div class=\"sk-estimator sk-toggleable\"><input class=\"sk-toggleable__control sk-hidden--visually\" id=\"sk-estimator-id-1\" type=\"checkbox\" checked><label for=\"sk-estimator-id-1\" class=\"sk-toggleable__label sk-toggleable__label-arrow\">LogisticRegression</label><div class=\"sk-toggleable__content\"><pre>LogisticRegression()</pre></div></div></div></div></div>"
            ]
          },
          "metadata": {},
          "execution_count": 23
        }
      ]
    },
    {
      "cell_type": "code",
      "source": [
        "predictions = LR.predict(xTest)\n",
        "print(accuracy_score(yTest, predictions))"
      ],
      "metadata": {
        "id": "08s4bURXrm0U",
        "colab": {
          "base_uri": "https://localhost:8080/"
        },
        "outputId": "868e5c0e-3332-4007-8c91-365d0b1cd66b"
      },
      "execution_count": 24,
      "outputs": [
        {
          "output_type": "stream",
          "name": "stdout",
          "text": [
            "0.9939393939393939\n"
          ]
        }
      ]
    },
    {
      "cell_type": "code",
      "source": [
        "# Confusion Matrix \n",
        "from sklearn.metrics import confusion_matrix\n",
        "import pylab as pl\n",
        "\n",
        "print(confusion_matrix(yTest, predictions))\n",
        "\n",
        "cm = confusion_matrix(yTest, predictions)\n",
        "pl.matshow(cm)\n",
        "pl.title('Confusion matrix of the classifier')\n",
        "pl.colorbar()\n",
        "pl.show()"
      ],
      "metadata": {
        "colab": {
          "base_uri": "https://localhost:8080/",
          "height": 478
        },
        "id": "Wh2-d2uCr17a",
        "outputId": "228df875-5ec9-4c6e-c5f1-8fad774c8225"
      },
      "execution_count": 25,
      "outputs": [
        {
          "output_type": "stream",
          "name": "stdout",
          "text": [
            "[[108   0   2]\n",
            " [  0 110   0]\n",
            " [  0   0 110]]\n"
          ]
        },
        {
          "output_type": "display_data",
          "data": {
            "text/plain": [
              "<Figure size 480x480 with 2 Axes>"
            ],
            "image/png": "[encoded data removed]"
          },
          "metadata": {}
        }
      ]
    },
    {
      "cell_type": "code",
      "source": [
        "# Classification Report\n",
        "from sklearn.metrics import classification_report\n",
        "print(classification_report(yTest, predictions))"
      ],
      "metadata": {
        "colab": {
          "base_uri": "https://localhost:8080/"
        },
        "id": "gL6HppHzsRBw",
        "outputId": "95f68a0a-edaa-424d-ad79-81e40006a66a"
      },
      "execution_count": 26,
      "outputs": [
        {
          "output_type": "stream",
          "name": "stdout",
          "text": [
            "              precision    recall  f1-score   support\n",
            "\n",
            "           0       1.00      0.98      0.99       110\n",
            "           1       1.00      1.00      1.00       110\n",
            "           2       0.98      1.00      0.99       110\n",
            "\n",
            "    accuracy                           0.99       330\n",
            "   macro avg       0.99      0.99      0.99       330\n",
            "weighted avg       0.99      0.99      0.99       330\n",
            "\n"
          ]
        }
      ]
    }
  ],
  "metadata": {
    "accelerator": "TPU",
    "colab": {
      "provenance": [],
      "machine_shape": "hm",
      "toc_visible": true
    },
    "kernelspec": {
      "display_name": "Python 3",
      "name": "python3"
    },
    "gpuClass": "premium"
  },
  "nbformat": 4,
  "nbformat_minor": 0
}